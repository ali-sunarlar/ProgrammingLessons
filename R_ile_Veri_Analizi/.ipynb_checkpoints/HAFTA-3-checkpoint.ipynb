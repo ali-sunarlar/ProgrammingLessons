{
 "cells": [
  {
   "cell_type": "markdown",
   "id": "1b01cb2f",
   "metadata": {},
   "source": [
    "# Değişken Tanımlama"
   ]
  },
  {
   "cell_type": "code",
   "execution_count": 10,
   "id": "0fb9e116",
   "metadata": {},
   "outputs": [],
   "source": [
    "#Sayisal Veri Tirinde De§isken Tanimlama\n",
    "x<-54 #bu kod satirinda x defisken adi ve 54'de bu defiskene atanan deferdir \n",
    "y=34.5 #y değişkenine 34.5 değeri atandı\n",
    "100->z #z değişkenine soldan sağa değer atandı"
   ]
  },
  {
   "cell_type": "code",
   "execution_count": 11,
   "id": "e91a2bb2",
   "metadata": {},
   "outputs": [
    {
     "data": {
      "text/html": [
       "54"
      ],
      "text/latex": [
       "54"
      ],
      "text/markdown": [
       "54"
      ],
      "text/plain": [
       "[1] 54"
      ]
     },
     "metadata": {},
     "output_type": "display_data"
    },
    {
     "data": {
      "text/html": [
       "34.5"
      ],
      "text/latex": [
       "34.5"
      ],
      "text/markdown": [
       "34.5"
      ],
      "text/plain": [
       "[1] 34.5"
      ]
     },
     "metadata": {},
     "output_type": "display_data"
    },
    {
     "data": {
      "text/html": [
       "100"
      ],
      "text/latex": [
       "100"
      ],
      "text/markdown": [
       "100"
      ],
      "text/plain": [
       "[1] 100"
      ]
     },
     "metadata": {},
     "output_type": "display_data"
    }
   ],
   "source": [
    "#Degisken deferlerini direkt degisken adini yazarak ekrana yazdirma \n",
    "x\n",
    "y\n",
    "z"
   ]
  },
  {
   "cell_type": "code",
   "execution_count": 12,
   "id": "892c2718",
   "metadata": {},
   "outputs": [
    {
     "name": "stdout",
     "output_type": "stream",
     "text": [
      "[1] 54\n",
      "[1] 34.5\n",
      "[1] 100\n"
     ]
    }
   ],
   "source": [
    "#Degisken degerlerini print() fonksiyonu ile ekrana yazdirma \n",
    "print(x)\n",
    "print(y)\n",
    "print(z)"
   ]
  },
  {
   "cell_type": "markdown",
   "id": "a67a200d",
   "metadata": {},
   "source": [
    "# Tam Sayı Türünde Değişken Tanımlama"
   ]
  },
  {
   "cell_type": "code",
   "execution_count": 7,
   "id": "2552ab66",
   "metadata": {},
   "outputs": [],
   "source": [
    "#Tamsay: Veri Tarunde Degisken Tanimlama \n",
    "k=11\n",
    "m=205"
   ]
  },
  {
   "cell_type": "code",
   "execution_count": 8,
   "id": "a66775d2",
   "metadata": {},
   "outputs": [
    {
     "name": "stdout",
     "output_type": "stream",
     "text": [
      "[1] 11\n",
      "[1] 205\n"
     ]
    }
   ],
   "source": [
    "print(k)\n",
    "print(m)"
   ]
  },
  {
   "cell_type": "markdown",
   "id": "ef1cd637",
   "metadata": {},
   "source": [
    "# Karakter Türünde Değişken Tanımlama"
   ]
  },
  {
   "cell_type": "code",
   "execution_count": 14,
   "id": "1171a9b2",
   "metadata": {},
   "outputs": [],
   "source": [
    "#Karakter Ver: Tirinde Degisken Tanimlama \n",
    "#Karakter veri degerleri \" * igerisinde yazilarak degiskenlere atanir \n",
    "harf=\"a\"\n",
    "isim=\"Ayşe\"\n",
    "sehir=\"Sakarya\""
   ]
  },
  {
   "cell_type": "code",
   "execution_count": 15,
   "id": "67647d31",
   "metadata": {},
   "outputs": [
    {
     "name": "stdout",
     "output_type": "stream",
     "text": [
      "[1] \"a\"\n",
      "[1] \"Ayse\"\n",
      "[1] \"Sakarya\"\n"
     ]
    }
   ],
   "source": [
    "print(harf)\n",
    "print(isim)\n",
    "print(sehir)"
   ]
  },
  {
   "cell_type": "markdown",
   "id": "feeb7fc1",
   "metadata": {},
   "source": [
    "# Mantıksal Türde Değişken Tanımlama"
   ]
  },
  {
   "cell_type": "code",
   "execution_count": 17,
   "id": "cc357b9c",
   "metadata": {},
   "outputs": [],
   "source": [
    "#Mantiksal Veri Tirinde Degisken Tanimlama \n",
    "sonuc1=TRUE\n",
    "sonuc2=FALSE"
   ]
  },
  {
   "cell_type": "code",
   "execution_count": 18,
   "id": "f3f56ba4",
   "metadata": {},
   "outputs": [
    {
     "name": "stdout",
     "output_type": "stream",
     "text": [
      "[1] TRUE\n",
      "[1] FALSE\n"
     ]
    }
   ],
   "source": [
    "print(sonuc1)\n",
    "print(sonuc2)"
   ]
  },
  {
   "cell_type": "code",
   "execution_count": 21,
   "id": "3450b2c7",
   "metadata": {},
   "outputs": [
    {
     "data": {
      "text/html": [
       "<ol class=list-inline>\n",
       "\t<li>'harf'</li>\n",
       "\t<li>'isim'</li>\n",
       "\t<li>'k'</li>\n",
       "\t<li>'m'</li>\n",
       "\t<li>'sehir'</li>\n",
       "\t<li>'sonuc1'</li>\n",
       "\t<li>'sonuc2'</li>\n",
       "\t<li>'x'</li>\n",
       "\t<li>'y'</li>\n",
       "\t<li>'z'</li>\n",
       "</ol>\n"
      ],
      "text/latex": [
       "\\begin{enumerate*}\n",
       "\\item 'harf'\n",
       "\\item 'isim'\n",
       "\\item 'k'\n",
       "\\item 'm'\n",
       "\\item 'sehir'\n",
       "\\item 'sonuc1'\n",
       "\\item 'sonuc2'\n",
       "\\item 'x'\n",
       "\\item 'y'\n",
       "\\item 'z'\n",
       "\\end{enumerate*}\n"
      ],
      "text/markdown": [
       "1. 'harf'\n",
       "2. 'isim'\n",
       "3. 'k'\n",
       "4. 'm'\n",
       "5. 'sehir'\n",
       "6. 'sonuc1'\n",
       "7. 'sonuc2'\n",
       "8. 'x'\n",
       "9. 'y'\n",
       "10. 'z'\n",
       "\n",
       "\n"
      ],
      "text/plain": [
       " [1] \"harf\"   \"isim\"   \"k\"      \"m\"      \"sehir\"  \"sonuc1\" \"sonuc2\" \"x\"     \n",
       " [9] \"y\"      \"z\"     "
      ]
     },
     "metadata": {},
     "output_type": "display_data"
    }
   ],
   "source": [
    "#0lusturulan De§iskenleri Goérintiileme \n",
    "objects()"
   ]
  },
  {
   "cell_type": "code",
   "execution_count": 22,
   "id": "fdb6204e",
   "metadata": {},
   "outputs": [
    {
     "data": {
      "text/html": [
       "<ol class=list-inline>\n",
       "\t<li>'harf'</li>\n",
       "\t<li>'isim'</li>\n",
       "\t<li>'k'</li>\n",
       "\t<li>'m'</li>\n",
       "\t<li>'sehir'</li>\n",
       "\t<li>'sonuc1'</li>\n",
       "\t<li>'sonuc2'</li>\n",
       "\t<li>'x'</li>\n",
       "\t<li>'y'</li>\n",
       "\t<li>'z'</li>\n",
       "</ol>\n"
      ],
      "text/latex": [
       "\\begin{enumerate*}\n",
       "\\item 'harf'\n",
       "\\item 'isim'\n",
       "\\item 'k'\n",
       "\\item 'm'\n",
       "\\item 'sehir'\n",
       "\\item 'sonuc1'\n",
       "\\item 'sonuc2'\n",
       "\\item 'x'\n",
       "\\item 'y'\n",
       "\\item 'z'\n",
       "\\end{enumerate*}\n"
      ],
      "text/markdown": [
       "1. 'harf'\n",
       "2. 'isim'\n",
       "3. 'k'\n",
       "4. 'm'\n",
       "5. 'sehir'\n",
       "6. 'sonuc1'\n",
       "7. 'sonuc2'\n",
       "8. 'x'\n",
       "9. 'y'\n",
       "10. 'z'\n",
       "\n",
       "\n"
      ],
      "text/plain": [
       " [1] \"harf\"   \"isim\"   \"k\"      \"m\"      \"sehir\"  \"sonuc1\" \"sonuc2\" \"x\"     \n",
       " [9] \"y\"      \"z\"     "
      ]
     },
     "metadata": {},
     "output_type": "display_data"
    }
   ],
   "source": [
    "#0lusturulan De§iskenleri Goérintiileme\n",
    "ls()"
   ]
  },
  {
   "cell_type": "code",
   "execution_count": 23,
   "id": "2e9f77dd",
   "metadata": {},
   "outputs": [],
   "source": [
    "#olusturulan Degiskenleri silme\n",
    "remove(sonuc1)\n",
    "rm(harf)"
   ]
  },
  {
   "cell_type": "code",
   "execution_count": 24,
   "id": "9f4d6190",
   "metadata": {},
   "outputs": [
    {
     "data": {
      "text/html": [
       "<ol class=list-inline>\n",
       "\t<li>'isim'</li>\n",
       "\t<li>'k'</li>\n",
       "\t<li>'m'</li>\n",
       "\t<li>'sehir'</li>\n",
       "\t<li>'sonuc2'</li>\n",
       "\t<li>'x'</li>\n",
       "\t<li>'y'</li>\n",
       "\t<li>'z'</li>\n",
       "</ol>\n"
      ],
      "text/latex": [
       "\\begin{enumerate*}\n",
       "\\item 'isim'\n",
       "\\item 'k'\n",
       "\\item 'm'\n",
       "\\item 'sehir'\n",
       "\\item 'sonuc2'\n",
       "\\item 'x'\n",
       "\\item 'y'\n",
       "\\item 'z'\n",
       "\\end{enumerate*}\n"
      ],
      "text/markdown": [
       "1. 'isim'\n",
       "2. 'k'\n",
       "3. 'm'\n",
       "4. 'sehir'\n",
       "5. 'sonuc2'\n",
       "6. 'x'\n",
       "7. 'y'\n",
       "8. 'z'\n",
       "\n",
       "\n"
      ],
      "text/plain": [
       "[1] \"isim\"   \"k\"      \"m\"      \"sehir\"  \"sonuc2\" \"x\"      \"y\"      \"z\"     "
      ]
     },
     "metadata": {},
     "output_type": "display_data"
    }
   ],
   "source": [
    "ls()"
   ]
  },
  {
   "cell_type": "markdown",
   "id": "29e282b3",
   "metadata": {},
   "source": [
    "# Değişken Türlerini Öğrenme"
   ]
  },
  {
   "cell_type": "code",
   "execution_count": 25,
   "id": "1094c5cb",
   "metadata": {},
   "outputs": [
    {
     "data": {
      "text/html": [
       "'logical'"
      ],
      "text/latex": [
       "'logical'"
      ],
      "text/markdown": [
       "'logical'"
      ],
      "text/plain": [
       "[1] \"logical\""
      ]
     },
     "metadata": {},
     "output_type": "display_data"
    },
    {
     "data": {
      "text/html": [
       "'character'"
      ],
      "text/latex": [
       "'character'"
      ],
      "text/markdown": [
       "'character'"
      ],
      "text/plain": [
       "[1] \"character\""
      ]
     },
     "metadata": {},
     "output_type": "display_data"
    }
   ],
   "source": [
    "typeof(sonuc2) \n",
    "class(isim)"
   ]
  },
  {
   "cell_type": "code",
   "execution_count": 26,
   "id": "9668c9fd",
   "metadata": {},
   "outputs": [],
   "source": [
    "#cift tirnak igerisine yazilan sayilar R dili tarafindan karakter/string tipi olarak yorumlanir. \n",
    "h=\"3.14\""
   ]
  },
  {
   "cell_type": "code",
   "execution_count": 27,
   "id": "03d802e2",
   "metadata": {},
   "outputs": [
    {
     "data": {
      "text/html": [
       "'character'"
      ],
      "text/latex": [
       "'character'"
      ],
      "text/markdown": [
       "'character'"
      ],
      "text/plain": [
       "[1] \"character\""
      ]
     },
     "metadata": {},
     "output_type": "display_data"
    }
   ],
   "source": [
    "typeof(h)"
   ]
  },
  {
   "cell_type": "code",
   "execution_count": 29,
   "id": "48edde63",
   "metadata": {},
   "outputs": [
    {
     "data": {
      "text/html": [
       "3.14"
      ],
      "text/latex": [
       "3.14"
      ],
      "text/markdown": [
       "3.14"
      ],
      "text/plain": [
       "[1] 3.14"
      ]
     },
     "metadata": {},
     "output_type": "display_data"
    }
   ],
   "source": [
    "#Karaktersel veriyi Sayisal Tire Déniistirme\n",
    "as.numeric(h)"
   ]
  },
  {
   "cell_type": "code",
   "execution_count": 30,
   "id": "ac3bb318",
   "metadata": {},
   "outputs": [
    {
     "data": {
      "text/html": [
       "'character'"
      ],
      "text/latex": [
       "'character'"
      ],
      "text/markdown": [
       "'character'"
      ],
      "text/plain": [
       "[1] \"character\""
      ]
     },
     "metadata": {},
     "output_type": "display_data"
    }
   ],
   "source": [
    "class(h)"
   ]
  },
  {
   "cell_type": "code",
   "execution_count": 31,
   "id": "6f63bd62",
   "metadata": {},
   "outputs": [],
   "source": [
    "h1=as.numeric(h) #karaktersel veri sayısala dönüştürüldükten sonra yeni bir değişkene atanması gerekmektedir."
   ]
  },
  {
   "cell_type": "code",
   "execution_count": 32,
   "id": "7c976445",
   "metadata": {},
   "outputs": [
    {
     "data": {
      "text/html": [
       "'double'"
      ],
      "text/latex": [
       "'double'"
      ],
      "text/markdown": [
       "'double'"
      ],
      "text/plain": [
       "[1] \"double\""
      ]
     },
     "metadata": {},
     "output_type": "display_data"
    }
   ],
   "source": [
    "typeof(h1)"
   ]
  },
  {
   "cell_type": "code",
   "execution_count": 34,
   "id": "e058698e",
   "metadata": {},
   "outputs": [
    {
     "data": {
      "text/html": [
       "FALSE"
      ],
      "text/latex": [
       "FALSE"
      ],
      "text/markdown": [
       "FALSE"
      ],
      "text/plain": [
       "[1] FALSE"
      ]
     },
     "metadata": {},
     "output_type": "display_data"
    },
    {
     "data": {
      "text/html": [
       "TRUE"
      ],
      "text/latex": [
       "TRUE"
      ],
      "text/markdown": [
       "TRUE"
      ],
      "text/plain": [
       "[1] TRUE"
      ]
     },
     "metadata": {},
     "output_type": "display_data"
    }
   ],
   "source": [
    "#Degiskenin Sayisal Olup Olmadigini Sorgulama \n",
    "is.numeric(h)\n",
    "is.numeric(h1)"
   ]
  },
  {
   "cell_type": "code",
   "execution_count": 35,
   "id": "dfb1bad9",
   "metadata": {},
   "outputs": [
    {
     "ename": "ERROR",
     "evalue": "Error in as.interger(sayi): could not find function \"as.interger\"\n",
     "output_type": "error",
     "traceback": [
      "Error in as.interger(sayi): could not find function \"as.interger\"\nTraceback:\n"
     ]
    }
   ],
   "source": []
  },
  {
   "cell_type": "code",
   "execution_count": 36,
   "id": "e22e4e8e",
   "metadata": {},
   "outputs": [
    {
     "data": {
      "text/html": [
       "67"
      ],
      "text/latex": [
       "67"
      ],
      "text/markdown": [
       "67"
      ],
      "text/plain": [
       "[1] 67"
      ]
     },
     "metadata": {},
     "output_type": "display_data"
    }
   ],
   "source": [
    "sayi=67.875\n",
    "#Değişkenin Sayısal kısmını alma\n",
    "as.integer(sayi)"
   ]
  },
  {
   "cell_type": "code",
   "execution_count": 37,
   "id": "4df8808c",
   "metadata": {},
   "outputs": [
    {
     "data": {
      "text/html": [
       "'character'"
      ],
      "text/latex": [
       "'character'"
      ],
      "text/markdown": [
       "'character'"
      ],
      "text/plain": [
       "[1] \"character\""
      ]
     },
     "metadata": {},
     "output_type": "display_data"
    },
    {
     "data": {
      "text/html": [
       "45"
      ],
      "text/latex": [
       "45"
      ],
      "text/markdown": [
       "45"
      ],
      "text/plain": [
       "[1] 45"
      ]
     },
     "metadata": {},
     "output_type": "display_data"
    }
   ],
   "source": [
    "sayi2=\"45\"\n",
    "class(sayi2)\n",
    "as.integer(sayi2)"
   ]
  },
  {
   "cell_type": "code",
   "execution_count": 38,
   "id": "8a579bd7",
   "metadata": {},
   "outputs": [
    {
     "data": {
      "text/html": [
       "'numeric'"
      ],
      "text/latex": [
       "'numeric'"
      ],
      "text/markdown": [
       "'numeric'"
      ],
      "text/plain": [
       "[1] \"numeric\""
      ]
     },
     "metadata": {},
     "output_type": "display_data"
    },
    {
     "data": {
      "text/html": [
       "'61'"
      ],
      "text/latex": [
       "'61'"
      ],
      "text/markdown": [
       "'61'"
      ],
      "text/plain": [
       "[1] \"61\""
      ]
     },
     "metadata": {},
     "output_type": "display_data"
    },
    {
     "data": {
      "text/html": [
       "'numeric'"
      ],
      "text/latex": [
       "'numeric'"
      ],
      "text/markdown": [
       "'numeric'"
      ],
      "text/plain": [
       "[1] \"numeric\""
      ]
     },
     "metadata": {},
     "output_type": "display_data"
    }
   ],
   "source": [
    "sayi3=61\n",
    "class(sayi3)\n",
    "as.character(sayi3)\n",
    "class(sayi3)"
   ]
  },
  {
   "cell_type": "code",
   "execution_count": 39,
   "id": "8f158bbd",
   "metadata": {},
   "outputs": [
    {
     "data": {
      "text/html": [
       "'logical'"
      ],
      "text/latex": [
       "'logical'"
      ],
      "text/markdown": [
       "'logical'"
      ],
      "text/plain": [
       "[1] \"logical\""
      ]
     },
     "metadata": {},
     "output_type": "display_data"
    }
   ],
   "source": [
    "mantik=TRUE\n",
    "class(mantik)"
   ]
  },
  {
   "cell_type": "code",
   "execution_count": 40,
   "id": "8c377d47",
   "metadata": {},
   "outputs": [
    {
     "data": {
      "text/html": [
       "'numeric'"
      ],
      "text/latex": [
       "'numeric'"
      ],
      "text/markdown": [
       "'numeric'"
      ],
      "text/plain": [
       "[1] \"numeric\""
      ]
     },
     "metadata": {},
     "output_type": "display_data"
    },
    {
     "data": {
      "text/html": [
       "'numeric'"
      ],
      "text/latex": [
       "'numeric'"
      ],
      "text/markdown": [
       "'numeric'"
      ],
      "text/plain": [
       "[1] \"numeric\""
      ]
     },
     "metadata": {},
     "output_type": "display_data"
    }
   ],
   "source": [
    "durum1=1\n",
    "durum2=0\n",
    "class(durum1)\n",
    "class(durum2)"
   ]
  },
  {
   "cell_type": "code",
   "execution_count": 41,
   "id": "a81eee3b",
   "metadata": {},
   "outputs": [
    {
     "data": {
      "text/html": [
       "TRUE"
      ],
      "text/latex": [
       "TRUE"
      ],
      "text/markdown": [
       "TRUE"
      ],
      "text/plain": [
       "[1] TRUE"
      ]
     },
     "metadata": {},
     "output_type": "display_data"
    },
    {
     "data": {
      "text/html": [
       "FALSE"
      ],
      "text/latex": [
       "FALSE"
      ],
      "text/markdown": [
       "FALSE"
      ],
      "text/plain": [
       "[1] FALSE"
      ]
     },
     "metadata": {},
     "output_type": "display_data"
    }
   ],
   "source": [
    "as.logical(durum1)\n",
    "as.logical(durum2)"
   ]
  },
  {
   "cell_type": "code",
   "execution_count": null,
   "id": "dfee99ed",
   "metadata": {},
   "outputs": [],
   "source": []
  }
 ],
 "metadata": {
  "kernelspec": {
   "display_name": "R",
   "language": "R",
   "name": "ir"
  },
  "language_info": {
   "codemirror_mode": "r",
   "file_extension": ".r",
   "mimetype": "text/x-r-source",
   "name": "R",
   "pygments_lexer": "r",
   "version": "3.6.1"
  }
 },
 "nbformat": 4,
 "nbformat_minor": 5
}
