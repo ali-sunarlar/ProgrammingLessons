{
 "cells": [
  {
   "cell_type": "code",
   "execution_count": 11,
   "id": "fe03573c",
   "metadata": {},
   "outputs": [
    {
     "name": "stdout",
     "output_type": "stream",
     "text": [
      "[[1]]\n",
      "[1] 54\n",
      "\n"
     ]
    }
   ],
   "source": [
    "liste1=list(54) #icerigi 54 olan bir liste olusturuldu\n",
    "print(liste1)"
   ]
  },
  {
   "cell_type": "code",
   "execution_count": 12,
   "id": "4aa2c057",
   "metadata": {},
   "outputs": [
    {
     "name": "stdout",
     "output_type": "stream",
     "text": [
      "[[1]]\n",
      "[1] 54\n",
      "\n",
      "[[2]]\n",
      "[1] \"S\"\n",
      "\n",
      "[[3]]\n",
      "[1] TRUE\n",
      "\n"
     ]
    }
   ],
   "source": [
    "liste2=list(54,\"S\",TRUE)\n",
    "print(liste2)"
   ]
  },
  {
   "cell_type": "markdown",
   "id": "d5cd8c5e",
   "metadata": {},
   "source": [
    "# Farkli Veri Turlerinden Liste Olusturma"
   ]
  },
  {
   "cell_type": "code",
   "execution_count": 13,
   "id": "d5bf2cec",
   "metadata": {},
   "outputs": [],
   "source": [
    "yas=c(25,35,45,55)\n",
    "kan=c(\"A\",\"B\",\"0\",\"AB\")\n",
    "sonuc=c(FALSE,TRUE,FALSE,TRUE)"
   ]
  },
  {
   "cell_type": "code",
   "execution_count": 14,
   "id": "2b8c8060",
   "metadata": {},
   "outputs": [],
   "source": [
    "liste3=list(yas,kan,sonuc)"
   ]
  },
  {
   "cell_type": "code",
   "execution_count": 15,
   "id": "d4f488c3",
   "metadata": {},
   "outputs": [
    {
     "data": {
      "text/html": [
       "<ol>\n",
       "\t<li><ol class=list-inline>\n",
       "\t<li>25</li>\n",
       "\t<li>35</li>\n",
       "\t<li>45</li>\n",
       "\t<li>55</li>\n",
       "</ol>\n",
       "</li>\n",
       "\t<li><ol class=list-inline>\n",
       "\t<li>'A'</li>\n",
       "\t<li>'B'</li>\n",
       "\t<li>'0'</li>\n",
       "\t<li>'AB'</li>\n",
       "</ol>\n",
       "</li>\n",
       "\t<li><ol class=list-inline>\n",
       "\t<li>FALSE</li>\n",
       "\t<li>TRUE</li>\n",
       "\t<li>FALSE</li>\n",
       "\t<li>TRUE</li>\n",
       "</ol>\n",
       "</li>\n",
       "</ol>\n"
      ],
      "text/latex": [
       "\\begin{enumerate}\n",
       "\\item \\begin{enumerate*}\n",
       "\\item 25\n",
       "\\item 35\n",
       "\\item 45\n",
       "\\item 55\n",
       "\\end{enumerate*}\n",
       "\n",
       "\\item \\begin{enumerate*}\n",
       "\\item 'A'\n",
       "\\item 'B'\n",
       "\\item '0'\n",
       "\\item 'AB'\n",
       "\\end{enumerate*}\n",
       "\n",
       "\\item \\begin{enumerate*}\n",
       "\\item FALSE\n",
       "\\item TRUE\n",
       "\\item FALSE\n",
       "\\item TRUE\n",
       "\\end{enumerate*}\n",
       "\n",
       "\\end{enumerate}\n"
      ],
      "text/markdown": [
       "1. 1. 25\n",
       "2. 35\n",
       "3. 45\n",
       "4. 55\n",
       "\n",
       "\n",
       "\n",
       "2. 1. 'A'\n",
       "2. 'B'\n",
       "3. '0'\n",
       "4. 'AB'\n",
       "\n",
       "\n",
       "\n",
       "3. 1. FALSE\n",
       "2. TRUE\n",
       "3. FALSE\n",
       "4. TRUE\n",
       "\n",
       "\n",
       "\n",
       "\n",
       "\n"
      ],
      "text/plain": [
       "[[1]]\n",
       "[1] 25 35 45 55\n",
       "\n",
       "[[2]]\n",
       "[1] \"A\"  \"B\"  \"0\"  \"AB\"\n",
       "\n",
       "[[3]]\n",
       "[1] FALSE  TRUE FALSE  TRUE\n"
      ]
     },
     "metadata": {},
     "output_type": "display_data"
    }
   ],
   "source": [
    "liste3"
   ]
  },
  {
   "cell_type": "markdown",
   "id": "d6934f60",
   "metadata": {},
   "source": [
    "# Vektorlerin Listeler Donusturulmesi"
   ]
  },
  {
   "cell_type": "code",
   "execution_count": 16,
   "id": "e00e38c0",
   "metadata": {},
   "outputs": [],
   "source": [
    "isimler=c(\"Tahsin\",\"Zehra\",\"Ayse\",\"Mehmet\",\"Ziya\",\"Hulya\")"
   ]
  },
  {
   "cell_type": "code",
   "execution_count": 17,
   "id": "c0b87c0b",
   "metadata": {},
   "outputs": [
    {
     "data": {
      "text/html": [
       "<ol class=list-inline>\n",
       "\t<li>'Tahsin'</li>\n",
       "\t<li>'Zehra'</li>\n",
       "\t<li>'Ayse'</li>\n",
       "\t<li>'Mehmet'</li>\n",
       "\t<li>'Ziya'</li>\n",
       "\t<li>'Hulya'</li>\n",
       "</ol>\n"
      ],
      "text/latex": [
       "\\begin{enumerate*}\n",
       "\\item 'Tahsin'\n",
       "\\item 'Zehra'\n",
       "\\item 'Ayse'\n",
       "\\item 'Mehmet'\n",
       "\\item 'Ziya'\n",
       "\\item 'Hulya'\n",
       "\\end{enumerate*}\n"
      ],
      "text/markdown": [
       "1. 'Tahsin'\n",
       "2. 'Zehra'\n",
       "3. 'Ayse'\n",
       "4. 'Mehmet'\n",
       "5. 'Ziya'\n",
       "6. 'Hulya'\n",
       "\n",
       "\n"
      ],
      "text/plain": [
       "[1] \"Tahsin\" \"Zehra\"  \"Ayse\"   \"Mehmet\" \"Ziya\"   \"Hulya\" "
      ]
     },
     "metadata": {},
     "output_type": "display_data"
    }
   ],
   "source": [
    "isimler"
   ]
  },
  {
   "cell_type": "code",
   "execution_count": 18,
   "id": "0ff237a0",
   "metadata": {},
   "outputs": [
    {
     "data": {
      "text/html": [
       "<ol>\n",
       "\t<li>'Tahsin'</li>\n",
       "\t<li>'Zehra'</li>\n",
       "\t<li>'Ayse'</li>\n",
       "\t<li>'Mehmet'</li>\n",
       "\t<li>'Ziya'</li>\n",
       "\t<li>'Hulya'</li>\n",
       "</ol>\n"
      ],
      "text/latex": [
       "\\begin{enumerate}\n",
       "\\item 'Tahsin'\n",
       "\\item 'Zehra'\n",
       "\\item 'Ayse'\n",
       "\\item 'Mehmet'\n",
       "\\item 'Ziya'\n",
       "\\item 'Hulya'\n",
       "\\end{enumerate}\n"
      ],
      "text/markdown": [
       "1. 'Tahsin'\n",
       "2. 'Zehra'\n",
       "3. 'Ayse'\n",
       "4. 'Mehmet'\n",
       "5. 'Ziya'\n",
       "6. 'Hulya'\n",
       "\n",
       "\n"
      ],
      "text/plain": [
       "[[1]]\n",
       "[1] \"Tahsin\"\n",
       "\n",
       "[[2]]\n",
       "[1] \"Zehra\"\n",
       "\n",
       "[[3]]\n",
       "[1] \"Ayse\"\n",
       "\n",
       "[[4]]\n",
       "[1] \"Mehmet\"\n",
       "\n",
       "[[5]]\n",
       "[1] \"Ziya\"\n",
       "\n",
       "[[6]]\n",
       "[1] \"Hulya\"\n"
      ]
     },
     "metadata": {},
     "output_type": "display_data"
    }
   ],
   "source": [
    "as.list(isimler) #as.list fonksiyonu ile isimler adlı vektor liste veri yapısına dönüştürülüyor."
   ]
  },
  {
   "cell_type": "code",
   "execution_count": 19,
   "id": "7befa598",
   "metadata": {},
   "outputs": [
    {
     "data": {
      "text/html": [
       "<ol class=list-inline>\n",
       "\t<li>'Tahsin'</li>\n",
       "\t<li>'Zehra'</li>\n",
       "\t<li>'Ayse'</li>\n",
       "\t<li>'Mehmet'</li>\n",
       "\t<li>'Ziya'</li>\n",
       "\t<li>'Hulya'</li>\n",
       "</ol>\n"
      ],
      "text/latex": [
       "\\begin{enumerate*}\n",
       "\\item 'Tahsin'\n",
       "\\item 'Zehra'\n",
       "\\item 'Ayse'\n",
       "\\item 'Mehmet'\n",
       "\\item 'Ziya'\n",
       "\\item 'Hulya'\n",
       "\\end{enumerate*}\n"
      ],
      "text/markdown": [
       "1. 'Tahsin'\n",
       "2. 'Zehra'\n",
       "3. 'Ayse'\n",
       "4. 'Mehmet'\n",
       "5. 'Ziya'\n",
       "6. 'Hulya'\n",
       "\n",
       "\n"
      ],
      "text/plain": [
       "[1] \"Tahsin\" \"Zehra\"  \"Ayse\"   \"Mehmet\" \"Ziya\"   \"Hulya\" "
      ]
     },
     "metadata": {},
     "output_type": "display_data"
    }
   ],
   "source": [
    "isimler"
   ]
  },
  {
   "cell_type": "code",
   "execution_count": 20,
   "id": "1f33de95",
   "metadata": {},
   "outputs": [],
   "source": [
    "yeni_isim=as.list(isimler) #kalici olmasi icin bir degiskene aktarildi."
   ]
  },
  {
   "cell_type": "code",
   "execution_count": 21,
   "id": "05bbae32",
   "metadata": {},
   "outputs": [
    {
     "data": {
      "text/html": [
       "<ol>\n",
       "\t<li>'Tahsin'</li>\n",
       "\t<li>'Zehra'</li>\n",
       "\t<li>'Ayse'</li>\n",
       "\t<li>'Mehmet'</li>\n",
       "\t<li>'Ziya'</li>\n",
       "\t<li>'Hulya'</li>\n",
       "</ol>\n"
      ],
      "text/latex": [
       "\\begin{enumerate}\n",
       "\\item 'Tahsin'\n",
       "\\item 'Zehra'\n",
       "\\item 'Ayse'\n",
       "\\item 'Mehmet'\n",
       "\\item 'Ziya'\n",
       "\\item 'Hulya'\n",
       "\\end{enumerate}\n"
      ],
      "text/markdown": [
       "1. 'Tahsin'\n",
       "2. 'Zehra'\n",
       "3. 'Ayse'\n",
       "4. 'Mehmet'\n",
       "5. 'Ziya'\n",
       "6. 'Hulya'\n",
       "\n",
       "\n"
      ],
      "text/plain": [
       "[[1]]\n",
       "[1] \"Tahsin\"\n",
       "\n",
       "[[2]]\n",
       "[1] \"Zehra\"\n",
       "\n",
       "[[3]]\n",
       "[1] \"Ayse\"\n",
       "\n",
       "[[4]]\n",
       "[1] \"Mehmet\"\n",
       "\n",
       "[[5]]\n",
       "[1] \"Ziya\"\n",
       "\n",
       "[[6]]\n",
       "[1] \"Hulya\"\n"
      ]
     },
     "metadata": {},
     "output_type": "display_data"
    }
   ],
   "source": [
    "yeni_isim"
   ]
  },
  {
   "cell_type": "markdown",
   "id": "dee1ce12",
   "metadata": {},
   "source": [
    "# Bos Liste Olusturma"
   ]
  },
  {
   "cell_type": "code",
   "execution_count": 22,
   "id": "ab1c2d0c",
   "metadata": {},
   "outputs": [],
   "source": [
    "liste4=vector(\"list\",3) #vector fonksiyonu bos liste olusturur. Bu ornekte 3 elemanli bos bir liste olusturuldu."
   ]
  },
  {
   "cell_type": "code",
   "execution_count": 23,
   "id": "75b6ee3e",
   "metadata": {},
   "outputs": [
    {
     "data": {
      "text/html": [
       "<ol>\n",
       "\t<li>NULL</li>\n",
       "\t<li>NULL</li>\n",
       "\t<li>NULL</li>\n",
       "</ol>\n"
      ],
      "text/latex": [
       "\\begin{enumerate}\n",
       "\\item NULL\n",
       "\\item NULL\n",
       "\\item NULL\n",
       "\\end{enumerate}\n"
      ],
      "text/markdown": [
       "1. NULL\n",
       "2. NULL\n",
       "3. NULL\n",
       "\n",
       "\n"
      ],
      "text/plain": [
       "[[1]]\n",
       "NULL\n",
       "\n",
       "[[2]]\n",
       "NULL\n",
       "\n",
       "[[3]]\n",
       "NULL\n"
      ]
     },
     "metadata": {},
     "output_type": "display_data"
    }
   ],
   "source": [
    "liste4"
   ]
  },
  {
   "cell_type": "markdown",
   "id": "f3fe8439",
   "metadata": {},
   "source": [
    "# Liste elemanlarina Erismek"
   ]
  },
  {
   "cell_type": "code",
   "execution_count": 24,
   "id": "a92b5a5b",
   "metadata": {},
   "outputs": [],
   "source": [
    "vektor=c(1,2,3,4,5,6)\n",
    "vericercevesi=data.frame(c(1,2,3),c(\"A\",\"B\",\"C\")) #Veri cercevesi olusturuldu\n",
    "matris=matrix(c(1,2,3,4,5,6,7,8,9),3,byrow=TRUE) #matris olusturuldu #Not:veri cercevesi ve matris ilerleyen bolumlerde anlatilacaktir."
   ]
  },
  {
   "cell_type": "code",
   "execution_count": 25,
   "id": "e5ee917c",
   "metadata": {},
   "outputs": [],
   "source": [
    "liste5=list(vektor,vericercevesi,matris) #Vektor, veri cercevesi ve matris liste veri yapisina donusturuldu"
   ]
  },
  {
   "cell_type": "code",
   "execution_count": 26,
   "id": "f3bd5af0",
   "metadata": {},
   "outputs": [
    {
     "data": {
      "text/html": [
       "<ol>\n",
       "\t<li><ol class=list-inline>\n",
       "\t<li>1</li>\n",
       "\t<li>2</li>\n",
       "\t<li>3</li>\n",
       "\t<li>4</li>\n",
       "\t<li>5</li>\n",
       "\t<li>6</li>\n",
       "</ol>\n",
       "</li>\n",
       "\t<li><table>\n",
       "<thead><tr><th scope=col>c.1..2..3.</th><th scope=col>c..A....B....C..</th></tr></thead>\n",
       "<tbody>\n",
       "\t<tr><td>1</td><td>A</td></tr>\n",
       "\t<tr><td>2</td><td>B</td></tr>\n",
       "\t<tr><td>3</td><td>C</td></tr>\n",
       "</tbody>\n",
       "</table>\n",
       "</li>\n",
       "\t<li><table>\n",
       "<tbody>\n",
       "\t<tr><td>1</td><td>2</td><td>3</td></tr>\n",
       "\t<tr><td>4</td><td>5</td><td>6</td></tr>\n",
       "\t<tr><td>7</td><td>8</td><td>9</td></tr>\n",
       "</tbody>\n",
       "</table>\n",
       "</li>\n",
       "</ol>\n"
      ],
      "text/latex": [
       "\\begin{enumerate}\n",
       "\\item \\begin{enumerate*}\n",
       "\\item 1\n",
       "\\item 2\n",
       "\\item 3\n",
       "\\item 4\n",
       "\\item 5\n",
       "\\item 6\n",
       "\\end{enumerate*}\n",
       "\n",
       "\\item \\begin{tabular}{r|ll}\n",
       " c.1..2..3. & c..A....B....C..\\\\\n",
       "\\hline\n",
       "\t 1 & A\\\\\n",
       "\t 2 & B\\\\\n",
       "\t 3 & C\\\\\n",
       "\\end{tabular}\n",
       "\n",
       "\\item \\begin{tabular}{lll}\n",
       "\t 1 & 2 & 3\\\\\n",
       "\t 4 & 5 & 6\\\\\n",
       "\t 7 & 8 & 9\\\\\n",
       "\\end{tabular}\n",
       "\n",
       "\\end{enumerate}\n"
      ],
      "text/markdown": [
       "1. 1. 1\n",
       "2. 2\n",
       "3. 3\n",
       "4. 4\n",
       "5. 5\n",
       "6. 6\n",
       "\n",
       "\n",
       "\n",
       "2. \n",
       "| c.1..2..3. | c..A....B....C.. |\n",
       "|---|---|\n",
       "| 1 | A |\n",
       "| 2 | B |\n",
       "| 3 | C |\n",
       "\n",
       "\n",
       "3. \n",
       "| 1 | 2 | 3 |\n",
       "| 4 | 5 | 6 |\n",
       "| 7 | 8 | 9 |\n",
       "\n",
       "\n",
       "\n",
       "\n"
      ],
      "text/plain": [
       "[[1]]\n",
       "[1] 1 2 3 4 5 6\n",
       "\n",
       "[[2]]\n",
       "  c.1..2..3. c..A....B....C..\n",
       "1          1                A\n",
       "2          2                B\n",
       "3          3                C\n",
       "\n",
       "[[3]]\n",
       "     [,1] [,2] [,3]\n",
       "[1,]    1    2    3\n",
       "[2,]    4    5    6\n",
       "[3,]    7    8    9\n"
      ]
     },
     "metadata": {},
     "output_type": "display_data"
    }
   ],
   "source": [
    "liste5"
   ]
  },
  {
   "cell_type": "code",
   "execution_count": 27,
   "id": "a832b92b",
   "metadata": {},
   "outputs": [
    {
     "data": {
      "text/html": [
       "8"
      ],
      "text/latex": [
       "8"
      ],
      "text/markdown": [
       "8"
      ],
      "text/plain": [
       "[1] 8"
      ]
     },
     "metadata": {},
     "output_type": "display_data"
    }
   ],
   "source": [
    "liste5[[3]][3,2] #Listenin 3 nolu elemani olan matris nesnenin 3. satir ve 2. sutun elamanina erisim saglar"
   ]
  },
  {
   "cell_type": "code",
   "execution_count": 28,
   "id": "0db8baa2",
   "metadata": {},
   "outputs": [
    {
     "data": {
      "text/html": [
       "<ol>\n",
       "\t<li><table>\n",
       "<thead><tr><th scope=col>c.1..2..3.</th><th scope=col>c..A....B....C..</th></tr></thead>\n",
       "<tbody>\n",
       "\t<tr><td>1</td><td>A</td></tr>\n",
       "\t<tr><td>2</td><td>B</td></tr>\n",
       "\t<tr><td>3</td><td>C</td></tr>\n",
       "</tbody>\n",
       "</table>\n",
       "</li>\n",
       "</ol>\n"
      ],
      "text/latex": [
       "\\begin{enumerate}\n",
       "\\item \\begin{tabular}{r|ll}\n",
       " c.1..2..3. & c..A....B....C..\\\\\n",
       "\\hline\n",
       "\t 1 & A\\\\\n",
       "\t 2 & B\\\\\n",
       "\t 3 & C\\\\\n",
       "\\end{tabular}\n",
       "\n",
       "\\end{enumerate}\n"
      ],
      "text/markdown": [
       "1. \n",
       "| c.1..2..3. | c..A....B....C.. |\n",
       "|---|---|\n",
       "| 1 | A |\n",
       "| 2 | B |\n",
       "| 3 | C |\n",
       "\n",
       "\n",
       "\n",
       "\n"
      ],
      "text/plain": [
       "[[1]]\n",
       "  c.1..2..3. c..A....B....C..\n",
       "1          1                A\n",
       "2          2                B\n",
       "3          3                C\n"
      ]
     },
     "metadata": {},
     "output_type": "display_data"
    }
   ],
   "source": [
    "liste5[2] #listenin 2 nolu elemani olan veri cercevesinin tum elemanlarina (tamamina) erisim saglar"
   ]
  },
  {
   "cell_type": "markdown",
   "id": "070a6a1b",
   "metadata": {},
   "source": [
    "# Liste Uyelerine Isim Verme Islemi"
   ]
  },
  {
   "cell_type": "code",
   "execution_count": 29,
   "id": "9d934836",
   "metadata": {},
   "outputs": [],
   "source": [
    "liste6=list(vektor1=vektor, vericercevesi1=vericercevesi, matris1=matris) #list (verilecek ad=verinesnesi1, verilecek ad=veri nesnesi2,..)"
   ]
  },
  {
   "cell_type": "code",
   "execution_count": 30,
   "id": "84573f57",
   "metadata": {},
   "outputs": [
    {
     "data": {
      "text/html": [
       "<dl>\n",
       "\t<dt>$vektor1</dt>\n",
       "\t\t<dd><ol class=list-inline>\n",
       "\t<li>1</li>\n",
       "\t<li>2</li>\n",
       "\t<li>3</li>\n",
       "\t<li>4</li>\n",
       "\t<li>5</li>\n",
       "\t<li>6</li>\n",
       "</ol>\n",
       "</dd>\n",
       "\t<dt>$vericercevesi1</dt>\n",
       "\t\t<dd><table>\n",
       "<thead><tr><th scope=col>c.1..2..3.</th><th scope=col>c..A....B....C..</th></tr></thead>\n",
       "<tbody>\n",
       "\t<tr><td>1</td><td>A</td></tr>\n",
       "\t<tr><td>2</td><td>B</td></tr>\n",
       "\t<tr><td>3</td><td>C</td></tr>\n",
       "</tbody>\n",
       "</table>\n",
       "</dd>\n",
       "\t<dt>$matris1</dt>\n",
       "\t\t<dd><table>\n",
       "<tbody>\n",
       "\t<tr><td>1</td><td>2</td><td>3</td></tr>\n",
       "\t<tr><td>4</td><td>5</td><td>6</td></tr>\n",
       "\t<tr><td>7</td><td>8</td><td>9</td></tr>\n",
       "</tbody>\n",
       "</table>\n",
       "</dd>\n",
       "</dl>\n"
      ],
      "text/latex": [
       "\\begin{description}\n",
       "\\item[\\$vektor1] \\begin{enumerate*}\n",
       "\\item 1\n",
       "\\item 2\n",
       "\\item 3\n",
       "\\item 4\n",
       "\\item 5\n",
       "\\item 6\n",
       "\\end{enumerate*}\n",
       "\n",
       "\\item[\\$vericercevesi1] \\begin{tabular}{r|ll}\n",
       " c.1..2..3. & c..A....B....C..\\\\\n",
       "\\hline\n",
       "\t 1 & A\\\\\n",
       "\t 2 & B\\\\\n",
       "\t 3 & C\\\\\n",
       "\\end{tabular}\n",
       "\n",
       "\\item[\\$matris1] \\begin{tabular}{lll}\n",
       "\t 1 & 2 & 3\\\\\n",
       "\t 4 & 5 & 6\\\\\n",
       "\t 7 & 8 & 9\\\\\n",
       "\\end{tabular}\n",
       "\n",
       "\\end{description}\n"
      ],
      "text/markdown": [
       "$vektor1\n",
       ":   1. 1\n",
       "2. 2\n",
       "3. 3\n",
       "4. 4\n",
       "5. 5\n",
       "6. 6\n",
       "\n",
       "\n",
       "\n",
       "$vericercevesi1\n",
       ":   \n",
       "| c.1..2..3. | c..A....B....C.. |\n",
       "|---|---|\n",
       "| 1 | A |\n",
       "| 2 | B |\n",
       "| 3 | C |\n",
       "\n",
       "\n",
       "$matris1\n",
       ":   \n",
       "| 1 | 2 | 3 |\n",
       "| 4 | 5 | 6 |\n",
       "| 7 | 8 | 9 |\n",
       "\n",
       "\n",
       "\n",
       "\n"
      ],
      "text/plain": [
       "$vektor1\n",
       "[1] 1 2 3 4 5 6\n",
       "\n",
       "$vericercevesi1\n",
       "  c.1..2..3. c..A....B....C..\n",
       "1          1                A\n",
       "2          2                B\n",
       "3          3                C\n",
       "\n",
       "$matris1\n",
       "     [,1] [,2] [,3]\n",
       "[1,]    1    2    3\n",
       "[2,]    4    5    6\n",
       "[3,]    7    8    9\n"
      ]
     },
     "metadata": {},
     "output_type": "display_data"
    }
   ],
   "source": [
    "liste6"
   ]
  },
  {
   "cell_type": "markdown",
   "id": "3aae1de1",
   "metadata": {},
   "source": [
    "# Liste Dilimleme Islemi"
   ]
  },
  {
   "cell_type": "code",
   "execution_count": 31,
   "id": "bb3e6e2a",
   "metadata": {},
   "outputs": [],
   "source": [
    "dilim1=liste6[\"matris1\"] #liste6 adli nesnenin matris adli parcasi aliniyor."
   ]
  },
  {
   "cell_type": "code",
   "execution_count": 32,
   "id": "555d1b20",
   "metadata": {},
   "outputs": [
    {
     "data": {
      "text/html": [
       "<strong>$matris1</strong> = <table>\n",
       "<tbody>\n",
       "\t<tr><td>1</td><td>2</td><td>3</td></tr>\n",
       "\t<tr><td>4</td><td>5</td><td>6</td></tr>\n",
       "\t<tr><td>7</td><td>8</td><td>9</td></tr>\n",
       "</tbody>\n",
       "</table>\n"
      ],
      "text/latex": [
       "\\textbf{\\$matris1} = \\begin{tabular}{lll}\n",
       "\t 1 & 2 & 3\\\\\n",
       "\t 4 & 5 & 6\\\\\n",
       "\t 7 & 8 & 9\\\\\n",
       "\\end{tabular}\n"
      ],
      "text/markdown": [
       "**$matris1** = \n",
       "| 1 | 2 | 3 |\n",
       "| 4 | 5 | 6 |\n",
       "| 7 | 8 | 9 |\n",
       "\n"
      ],
      "text/plain": [
       "$matris1\n",
       "     [,1] [,2] [,3]\n",
       "[1,]    1    2    3\n",
       "[2,]    4    5    6\n",
       "[3,]    7    8    9\n"
      ]
     },
     "metadata": {},
     "output_type": "display_data"
    }
   ],
   "source": [
    "dilim1"
   ]
  },
  {
   "cell_type": "code",
   "execution_count": 33,
   "id": "6b6921fe",
   "metadata": {},
   "outputs": [],
   "source": [
    "dilim2=liste6[c(\"vericercevesi1\",\"matris1\")] #liste6 adli nesnenin matris ve veri cercevesi adli parcasi aliniyor"
   ]
  },
  {
   "cell_type": "code",
   "execution_count": 34,
   "id": "bc9526b9",
   "metadata": {},
   "outputs": [
    {
     "data": {
      "text/html": [
       "<dl>\n",
       "\t<dt>$vericercevesi1</dt>\n",
       "\t\t<dd><table>\n",
       "<thead><tr><th scope=col>c.1..2..3.</th><th scope=col>c..A....B....C..</th></tr></thead>\n",
       "<tbody>\n",
       "\t<tr><td>1</td><td>A</td></tr>\n",
       "\t<tr><td>2</td><td>B</td></tr>\n",
       "\t<tr><td>3</td><td>C</td></tr>\n",
       "</tbody>\n",
       "</table>\n",
       "</dd>\n",
       "\t<dt>$matris1</dt>\n",
       "\t\t<dd><table>\n",
       "<tbody>\n",
       "\t<tr><td>1</td><td>2</td><td>3</td></tr>\n",
       "\t<tr><td>4</td><td>5</td><td>6</td></tr>\n",
       "\t<tr><td>7</td><td>8</td><td>9</td></tr>\n",
       "</tbody>\n",
       "</table>\n",
       "</dd>\n",
       "</dl>\n"
      ],
      "text/latex": [
       "\\begin{description}\n",
       "\\item[\\$vericercevesi1] \\begin{tabular}{r|ll}\n",
       " c.1..2..3. & c..A....B....C..\\\\\n",
       "\\hline\n",
       "\t 1 & A\\\\\n",
       "\t 2 & B\\\\\n",
       "\t 3 & C\\\\\n",
       "\\end{tabular}\n",
       "\n",
       "\\item[\\$matris1] \\begin{tabular}{lll}\n",
       "\t 1 & 2 & 3\\\\\n",
       "\t 4 & 5 & 6\\\\\n",
       "\t 7 & 8 & 9\\\\\n",
       "\\end{tabular}\n",
       "\n",
       "\\end{description}\n"
      ],
      "text/markdown": [
       "$vericercevesi1\n",
       ":   \n",
       "| c.1..2..3. | c..A....B....C.. |\n",
       "|---|---|\n",
       "| 1 | A |\n",
       "| 2 | B |\n",
       "| 3 | C |\n",
       "\n",
       "\n",
       "$matris1\n",
       ":   \n",
       "| 1 | 2 | 3 |\n",
       "| 4 | 5 | 6 |\n",
       "| 7 | 8 | 9 |\n",
       "\n",
       "\n",
       "\n",
       "\n"
      ],
      "text/plain": [
       "$vericercevesi1\n",
       "  c.1..2..3. c..A....B....C..\n",
       "1          1                A\n",
       "2          2                B\n",
       "3          3                C\n",
       "\n",
       "$matris1\n",
       "     [,1] [,2] [,3]\n",
       "[1,]    1    2    3\n",
       "[2,]    4    5    6\n",
       "[3,]    7    8    9\n"
      ]
     },
     "metadata": {},
     "output_type": "display_data"
    }
   ],
   "source": [
    "dilim2"
   ]
  },
  {
   "cell_type": "code",
   "execution_count": 35,
   "id": "48bb107e",
   "metadata": {},
   "outputs": [
    {
     "data": {
      "text/html": [
       "<table>\n",
       "<thead><tr><th scope=col>c.1..2..3.</th><th scope=col>c..A....B....C..</th></tr></thead>\n",
       "<tbody>\n",
       "\t<tr><td>1</td><td>A</td></tr>\n",
       "\t<tr><td>2</td><td>B</td></tr>\n",
       "\t<tr><td>3</td><td>C</td></tr>\n",
       "</tbody>\n",
       "</table>\n"
      ],
      "text/latex": [
       "\\begin{tabular}{r|ll}\n",
       " c.1..2..3. & c..A....B....C..\\\\\n",
       "\\hline\n",
       "\t 1 & A\\\\\n",
       "\t 2 & B\\\\\n",
       "\t 3 & C\\\\\n",
       "\\end{tabular}\n"
      ],
      "text/markdown": [
       "\n",
       "| c.1..2..3. | c..A....B....C.. |\n",
       "|---|---|\n",
       "| 1 | A |\n",
       "| 2 | B |\n",
       "| 3 | C |\n",
       "\n"
      ],
      "text/plain": [
       "  c.1..2..3. c..A....B....C..\n",
       "1 1          A               \n",
       "2 2          B               \n",
       "3 3          C               "
      ]
     },
     "metadata": {},
     "output_type": "display_data"
    }
   ],
   "source": [
    "liste6[[\"vericercevesi1\"]]"
   ]
  },
  {
   "cell_type": "code",
   "execution_count": 36,
   "id": "085fcf1c",
   "metadata": {},
   "outputs": [
    {
     "data": {
      "text/html": [
       "<table>\n",
       "<thead><tr><th scope=col>c.1..2..3.</th><th scope=col>c..A....B....C..</th></tr></thead>\n",
       "<tbody>\n",
       "\t<tr><td>1</td><td>A</td></tr>\n",
       "\t<tr><td>2</td><td>B</td></tr>\n",
       "\t<tr><td>3</td><td>C</td></tr>\n",
       "</tbody>\n",
       "</table>\n"
      ],
      "text/latex": [
       "\\begin{tabular}{r|ll}\n",
       " c.1..2..3. & c..A....B....C..\\\\\n",
       "\\hline\n",
       "\t 1 & A\\\\\n",
       "\t 2 & B\\\\\n",
       "\t 3 & C\\\\\n",
       "\\end{tabular}\n"
      ],
      "text/markdown": [
       "\n",
       "| c.1..2..3. | c..A....B....C.. |\n",
       "|---|---|\n",
       "| 1 | A |\n",
       "| 2 | B |\n",
       "| 3 | C |\n",
       "\n"
      ],
      "text/plain": [
       "  c.1..2..3. c..A....B....C..\n",
       "1 1          A               \n",
       "2 2          B               \n",
       "3 3          C               "
      ]
     },
     "metadata": {},
     "output_type": "display_data"
    }
   ],
   "source": [
    "liste6$vericercevesi1"
   ]
  },
  {
   "cell_type": "code",
   "execution_count": 37,
   "id": "8686beb6",
   "metadata": {},
   "outputs": [
    {
     "data": {
      "text/html": [
       "5"
      ],
      "text/latex": [
       "5"
      ],
      "text/markdown": [
       "5"
      ],
      "text/plain": [
       "[1] 5"
      ]
     },
     "metadata": {},
     "output_type": "display_data"
    }
   ],
   "source": [
    "liste6$matris[2,2] #matrisin 2. satir ve 2. sutun elemani dilimlenir."
   ]
  },
  {
   "cell_type": "markdown",
   "id": "38a067b5",
   "metadata": {},
   "source": [
    "# Listeye Yeni Uye Ekleme Islemi"
   ]
  },
  {
   "cell_type": "code",
   "execution_count": 38,
   "id": "c282c2a2",
   "metadata": {},
   "outputs": [],
   "source": [
    "vek2=c(10,20,30,40,50,60) #vek2 adli bir vektor olusturuldu\n",
    "liste7=list(vektor=vek2) #olusturulan vektor liste veri yapisina donusturuluyor"
   ]
  },
  {
   "cell_type": "code",
   "execution_count": 39,
   "id": "6c2bf47a",
   "metadata": {},
   "outputs": [
    {
     "data": {
      "text/html": [
       "<strong>$vektor</strong> = <ol class=list-inline>\n",
       "\t<li>10</li>\n",
       "\t<li>20</li>\n",
       "\t<li>30</li>\n",
       "\t<li>40</li>\n",
       "\t<li>50</li>\n",
       "\t<li>60</li>\n",
       "</ol>\n"
      ],
      "text/latex": [
       "\\textbf{\\$vektor} = \\begin{enumerate*}\n",
       "\\item 10\n",
       "\\item 20\n",
       "\\item 30\n",
       "\\item 40\n",
       "\\item 50\n",
       "\\item 60\n",
       "\\end{enumerate*}\n"
      ],
      "text/markdown": [
       "**$vektor** = 1. 10\n",
       "2. 20\n",
       "3. 30\n",
       "4. 40\n",
       "5. 50\n",
       "6. 60\n",
       "\n",
       "\n"
      ],
      "text/plain": [
       "$vektor\n",
       "[1] 10 20 30 40 50 60\n"
      ]
     },
     "metadata": {},
     "output_type": "display_data"
    }
   ],
   "source": [
    "liste7"
   ]
  },
  {
   "cell_type": "code",
   "execution_count": 40,
   "id": "6099058a",
   "metadata": {},
   "outputs": [],
   "source": [
    "vek3=c(5,6,7,8,9,10) #vek3 adli bir vektor olusturuluyor\n",
    "liste7[[2]]=vek3 #liste7 adli listeye, vek3 vektoru listenin ikinci elemani olarak ekleniyor"
   ]
  },
  {
   "cell_type": "code",
   "execution_count": 41,
   "id": "ce96ecb1",
   "metadata": {},
   "outputs": [
    {
     "data": {
      "text/html": [
       "<dl>\n",
       "\t<dt>$vektor</dt>\n",
       "\t\t<dd><ol class=list-inline>\n",
       "\t<li>10</li>\n",
       "\t<li>20</li>\n",
       "\t<li>30</li>\n",
       "\t<li>40</li>\n",
       "\t<li>50</li>\n",
       "\t<li>60</li>\n",
       "</ol>\n",
       "</dd>\n",
       "\t<dt>[[2]]</dt>\n",
       "\t\t<dd><ol class=list-inline>\n",
       "\t<li>5</li>\n",
       "\t<li>6</li>\n",
       "\t<li>7</li>\n",
       "\t<li>8</li>\n",
       "\t<li>9</li>\n",
       "\t<li>10</li>\n",
       "</ol>\n",
       "</dd>\n",
       "</dl>\n"
      ],
      "text/latex": [
       "\\begin{description}\n",
       "\\item[\\$vektor] \\begin{enumerate*}\n",
       "\\item 10\n",
       "\\item 20\n",
       "\\item 30\n",
       "\\item 40\n",
       "\\item 50\n",
       "\\item 60\n",
       "\\end{enumerate*}\n",
       "\n",
       "\\item[{[[2]]}] \\begin{enumerate*}\n",
       "\\item 5\n",
       "\\item 6\n",
       "\\item 7\n",
       "\\item 8\n",
       "\\item 9\n",
       "\\item 10\n",
       "\\end{enumerate*}\n",
       "\n",
       "\\end{description}\n"
      ],
      "text/markdown": [
       "$vektor\n",
       ":   1. 10\n",
       "2. 20\n",
       "3. 30\n",
       "4. 40\n",
       "5. 50\n",
       "6. 60\n",
       "\n",
       "\n",
       "\n",
       "[[2]]\n",
       ":   1. 5\n",
       "2. 6\n",
       "3. 7\n",
       "4. 8\n",
       "5. 9\n",
       "6. 10\n",
       "\n",
       "\n",
       "\n",
       "\n",
       "\n"
      ],
      "text/plain": [
       "$vektor\n",
       "[1] 10 20 30 40 50 60\n",
       "\n",
       "[[2]]\n",
       "[1]  5  6  7  8  9 10\n"
      ]
     },
     "metadata": {},
     "output_type": "display_data"
    }
   ],
   "source": [
    "liste7"
   ]
  },
  {
   "cell_type": "code",
   "execution_count": 42,
   "id": "b1d8fd8b",
   "metadata": {},
   "outputs": [],
   "source": [
    "liste7[[3]]=c(5,6,7,8) #liste7 adli liste veri yapisina 3. uyesi olarak bir vektor direkt ekleniyor."
   ]
  },
  {
   "cell_type": "code",
   "execution_count": 43,
   "id": "954d6b1a",
   "metadata": {},
   "outputs": [
    {
     "data": {
      "text/html": [
       "<dl>\n",
       "\t<dt>$vektor</dt>\n",
       "\t\t<dd><ol class=list-inline>\n",
       "\t<li>10</li>\n",
       "\t<li>20</li>\n",
       "\t<li>30</li>\n",
       "\t<li>40</li>\n",
       "\t<li>50</li>\n",
       "\t<li>60</li>\n",
       "</ol>\n",
       "</dd>\n",
       "\t<dt>[[2]]</dt>\n",
       "\t\t<dd><ol class=list-inline>\n",
       "\t<li>5</li>\n",
       "\t<li>6</li>\n",
       "\t<li>7</li>\n",
       "\t<li>8</li>\n",
       "\t<li>9</li>\n",
       "\t<li>10</li>\n",
       "</ol>\n",
       "</dd>\n",
       "\t<dt>[[3]]</dt>\n",
       "\t\t<dd><ol class=list-inline>\n",
       "\t<li>5</li>\n",
       "\t<li>6</li>\n",
       "\t<li>7</li>\n",
       "\t<li>8</li>\n",
       "</ol>\n",
       "</dd>\n",
       "</dl>\n"
      ],
      "text/latex": [
       "\\begin{description}\n",
       "\\item[\\$vektor] \\begin{enumerate*}\n",
       "\\item 10\n",
       "\\item 20\n",
       "\\item 30\n",
       "\\item 40\n",
       "\\item 50\n",
       "\\item 60\n",
       "\\end{enumerate*}\n",
       "\n",
       "\\item[{[[2]]}] \\begin{enumerate*}\n",
       "\\item 5\n",
       "\\item 6\n",
       "\\item 7\n",
       "\\item 8\n",
       "\\item 9\n",
       "\\item 10\n",
       "\\end{enumerate*}\n",
       "\n",
       "\\item[{[[3]]}] \\begin{enumerate*}\n",
       "\\item 5\n",
       "\\item 6\n",
       "\\item 7\n",
       "\\item 8\n",
       "\\end{enumerate*}\n",
       "\n",
       "\\end{description}\n"
      ],
      "text/markdown": [
       "$vektor\n",
       ":   1. 10\n",
       "2. 20\n",
       "3. 30\n",
       "4. 40\n",
       "5. 50\n",
       "6. 60\n",
       "\n",
       "\n",
       "\n",
       "[[2]]\n",
       ":   1. 5\n",
       "2. 6\n",
       "3. 7\n",
       "4. 8\n",
       "5. 9\n",
       "6. 10\n",
       "\n",
       "\n",
       "\n",
       "[[3]]\n",
       ":   1. 5\n",
       "2. 6\n",
       "3. 7\n",
       "4. 8\n",
       "\n",
       "\n",
       "\n",
       "\n",
       "\n"
      ],
      "text/plain": [
       "$vektor\n",
       "[1] 10 20 30 40 50 60\n",
       "\n",
       "[[2]]\n",
       "[1]  5  6  7  8  9 10\n",
       "\n",
       "[[3]]\n",
       "[1] 5 6 7 8\n"
      ]
     },
     "metadata": {},
     "output_type": "display_data"
    }
   ],
   "source": [
    "liste7"
   ]
  },
  {
   "cell_type": "markdown",
   "id": "28c3d7a7",
   "metadata": {},
   "source": [
    "# Listenin Bir Uyesini Guncelleme Islemi"
   ]
  },
  {
   "cell_type": "code",
   "execution_count": 44,
   "id": "7df05c45",
   "metadata": {},
   "outputs": [],
   "source": [
    "liste8=liste6 #Daha once olusturulmus oldugumuz liste6 adli listeyi liste8'e esitleyeylim ve bu listeyi kullanarak\n",
    "              #guncelleme ve silme islemlerini gerceklestirelim"
   ]
  },
  {
   "cell_type": "code",
   "execution_count": 45,
   "id": "61490ddd",
   "metadata": {},
   "outputs": [
    {
     "data": {
      "text/html": [
       "<dl>\n",
       "\t<dt>$vektor1</dt>\n",
       "\t\t<dd><ol class=list-inline>\n",
       "\t<li>1</li>\n",
       "\t<li>2</li>\n",
       "\t<li>3</li>\n",
       "\t<li>4</li>\n",
       "\t<li>5</li>\n",
       "\t<li>6</li>\n",
       "</ol>\n",
       "</dd>\n",
       "\t<dt>$vericercevesi1</dt>\n",
       "\t\t<dd><table>\n",
       "<thead><tr><th scope=col>c.1..2..3.</th><th scope=col>c..A....B....C..</th></tr></thead>\n",
       "<tbody>\n",
       "\t<tr><td>1</td><td>A</td></tr>\n",
       "\t<tr><td>2</td><td>B</td></tr>\n",
       "\t<tr><td>3</td><td>C</td></tr>\n",
       "</tbody>\n",
       "</table>\n",
       "</dd>\n",
       "\t<dt>$matris1</dt>\n",
       "\t\t<dd><table>\n",
       "<tbody>\n",
       "\t<tr><td>1</td><td>2</td><td>3</td></tr>\n",
       "\t<tr><td>4</td><td>5</td><td>6</td></tr>\n",
       "\t<tr><td>7</td><td>8</td><td>9</td></tr>\n",
       "</tbody>\n",
       "</table>\n",
       "</dd>\n",
       "</dl>\n"
      ],
      "text/latex": [
       "\\begin{description}\n",
       "\\item[\\$vektor1] \\begin{enumerate*}\n",
       "\\item 1\n",
       "\\item 2\n",
       "\\item 3\n",
       "\\item 4\n",
       "\\item 5\n",
       "\\item 6\n",
       "\\end{enumerate*}\n",
       "\n",
       "\\item[\\$vericercevesi1] \\begin{tabular}{r|ll}\n",
       " c.1..2..3. & c..A....B....C..\\\\\n",
       "\\hline\n",
       "\t 1 & A\\\\\n",
       "\t 2 & B\\\\\n",
       "\t 3 & C\\\\\n",
       "\\end{tabular}\n",
       "\n",
       "\\item[\\$matris1] \\begin{tabular}{lll}\n",
       "\t 1 & 2 & 3\\\\\n",
       "\t 4 & 5 & 6\\\\\n",
       "\t 7 & 8 & 9\\\\\n",
       "\\end{tabular}\n",
       "\n",
       "\\end{description}\n"
      ],
      "text/markdown": [
       "$vektor1\n",
       ":   1. 1\n",
       "2. 2\n",
       "3. 3\n",
       "4. 4\n",
       "5. 5\n",
       "6. 6\n",
       "\n",
       "\n",
       "\n",
       "$vericercevesi1\n",
       ":   \n",
       "| c.1..2..3. | c..A....B....C.. |\n",
       "|---|---|\n",
       "| 1 | A |\n",
       "| 2 | B |\n",
       "| 3 | C |\n",
       "\n",
       "\n",
       "$matris1\n",
       ":   \n",
       "| 1 | 2 | 3 |\n",
       "| 4 | 5 | 6 |\n",
       "| 7 | 8 | 9 |\n",
       "\n",
       "\n",
       "\n",
       "\n"
      ],
      "text/plain": [
       "$vektor1\n",
       "[1] 1 2 3 4 5 6\n",
       "\n",
       "$vericercevesi1\n",
       "  c.1..2..3. c..A....B....C..\n",
       "1          1                A\n",
       "2          2                B\n",
       "3          3                C\n",
       "\n",
       "$matris1\n",
       "     [,1] [,2] [,3]\n",
       "[1,]    1    2    3\n",
       "[2,]    4    5    6\n",
       "[3,]    7    8    9\n"
      ]
     },
     "metadata": {},
     "output_type": "display_data"
    }
   ],
   "source": [
    "liste8"
   ]
  },
  {
   "cell_type": "code",
   "execution_count": 46,
   "id": "8ddad907",
   "metadata": {},
   "outputs": [],
   "source": [
    "liste8$vektor1[4]=10 #Uye ismi kullanarak liste8'in vektor uyesinin 4 nolu indis degerli elemani\n",
    "                    #10 olarak guncellenir\n",
    "liste8$vericercevesi1[3,1]=9 #liste8'nin vericercevesi1 uyesinin 3. satir ve 1. sutun elemani 9 olarak guncellenir.\n",
    "liste8$matris1[1,1]=20  #liste8'nin matris uyesinin 1. satir ve 1. sutun elamani 20 olarak guncellenir."
   ]
  },
  {
   "cell_type": "code",
   "execution_count": 47,
   "id": "ddf6c4db",
   "metadata": {},
   "outputs": [
    {
     "data": {
      "text/html": [
       "<dl>\n",
       "\t<dt>$vektor1</dt>\n",
       "\t\t<dd><ol class=list-inline>\n",
       "\t<li>1</li>\n",
       "\t<li>2</li>\n",
       "\t<li>3</li>\n",
       "\t<li>10</li>\n",
       "\t<li>5</li>\n",
       "\t<li>6</li>\n",
       "</ol>\n",
       "</dd>\n",
       "\t<dt>$vericercevesi1</dt>\n",
       "\t\t<dd><table>\n",
       "<thead><tr><th scope=col>c.1..2..3.</th><th scope=col>c..A....B....C..</th></tr></thead>\n",
       "<tbody>\n",
       "\t<tr><td>1</td><td>A</td></tr>\n",
       "\t<tr><td>2</td><td>B</td></tr>\n",
       "\t<tr><td>9</td><td>C</td></tr>\n",
       "</tbody>\n",
       "</table>\n",
       "</dd>\n",
       "\t<dt>$matris1</dt>\n",
       "\t\t<dd><table>\n",
       "<tbody>\n",
       "\t<tr><td>20</td><td>2 </td><td>3 </td></tr>\n",
       "\t<tr><td> 4</td><td>5 </td><td>6 </td></tr>\n",
       "\t<tr><td> 7</td><td>8 </td><td>9 </td></tr>\n",
       "</tbody>\n",
       "</table>\n",
       "</dd>\n",
       "</dl>\n"
      ],
      "text/latex": [
       "\\begin{description}\n",
       "\\item[\\$vektor1] \\begin{enumerate*}\n",
       "\\item 1\n",
       "\\item 2\n",
       "\\item 3\n",
       "\\item 10\n",
       "\\item 5\n",
       "\\item 6\n",
       "\\end{enumerate*}\n",
       "\n",
       "\\item[\\$vericercevesi1] \\begin{tabular}{r|ll}\n",
       " c.1..2..3. & c..A....B....C..\\\\\n",
       "\\hline\n",
       "\t 1 & A\\\\\n",
       "\t 2 & B\\\\\n",
       "\t 9 & C\\\\\n",
       "\\end{tabular}\n",
       "\n",
       "\\item[\\$matris1] \\begin{tabular}{lll}\n",
       "\t 20 & 2  & 3 \\\\\n",
       "\t  4 & 5  & 6 \\\\\n",
       "\t  7 & 8  & 9 \\\\\n",
       "\\end{tabular}\n",
       "\n",
       "\\end{description}\n"
      ],
      "text/markdown": [
       "$vektor1\n",
       ":   1. 1\n",
       "2. 2\n",
       "3. 3\n",
       "4. 10\n",
       "5. 5\n",
       "6. 6\n",
       "\n",
       "\n",
       "\n",
       "$vericercevesi1\n",
       ":   \n",
       "| c.1..2..3. | c..A....B....C.. |\n",
       "|---|---|\n",
       "| 1 | A |\n",
       "| 2 | B |\n",
       "| 9 | C |\n",
       "\n",
       "\n",
       "$matris1\n",
       ":   \n",
       "| 20 | 2  | 3  |\n",
       "|  4 | 5  | 6  |\n",
       "|  7 | 8  | 9  |\n",
       "\n",
       "\n",
       "\n",
       "\n"
      ],
      "text/plain": [
       "$vektor1\n",
       "[1]  1  2  3 10  5  6\n",
       "\n",
       "$vericercevesi1\n",
       "  c.1..2..3. c..A....B....C..\n",
       "1          1                A\n",
       "2          2                B\n",
       "3          9                C\n",
       "\n",
       "$matris1\n",
       "     [,1] [,2] [,3]\n",
       "[1,]   20    2    3\n",
       "[2,]    4    5    6\n",
       "[3,]    7    8    9\n"
      ]
     },
     "metadata": {},
     "output_type": "display_data"
    }
   ],
   "source": [
    "liste8"
   ]
  },
  {
   "cell_type": "code",
   "execution_count": 51,
   "id": "16ddeb8e",
   "metadata": {},
   "outputs": [],
   "source": [
    "liste8[[1]][3]=20 #Uye ismi kullanılmadan liste8'in 1 nolu uyesinin 3 nolu indis degerli elemani\n",
    "                    #20 olarak güncellenir.\n",
    "liste8[[2]][3,2]=\"B\" #liste8'in 2 nolu uyesinin 3. satir ve 2. sutun elemani \"B\" olarak guncellenir\n",
    "liste8[[3]][3,3]=88  #liste8'in 3 nolu uyesinin 3. satir ve 3. sutun elemani 88 olarak guncellenir."
   ]
  },
  {
   "cell_type": "code",
   "execution_count": 50,
   "id": "e9913638",
   "metadata": {},
   "outputs": [
    {
     "data": {
      "text/html": [
       "<dl>\n",
       "\t<dt>$vektor1</dt>\n",
       "\t\t<dd><ol class=list-inline>\n",
       "\t<li>1</li>\n",
       "\t<li>2</li>\n",
       "\t<li>20</li>\n",
       "\t<li>10</li>\n",
       "\t<li>5</li>\n",
       "\t<li>6</li>\n",
       "</ol>\n",
       "</dd>\n",
       "\t<dt>$vericercevesi1</dt>\n",
       "\t\t<dd><table>\n",
       "<thead><tr><th scope=col>c.1..2..3.</th><th scope=col>c..A....B....C..</th></tr></thead>\n",
       "<tbody>\n",
       "\t<tr><td>1</td><td>A</td></tr>\n",
       "\t<tr><td>2</td><td>B</td></tr>\n",
       "\t<tr><td>9</td><td>B</td></tr>\n",
       "</tbody>\n",
       "</table>\n",
       "</dd>\n",
       "\t<dt>$matris1</dt>\n",
       "\t\t<dd><table>\n",
       "<tbody>\n",
       "\t<tr><td>20</td><td>2 </td><td> 3</td></tr>\n",
       "\t<tr><td> 4</td><td>5 </td><td> 6</td></tr>\n",
       "\t<tr><td> 7</td><td>8 </td><td>88</td></tr>\n",
       "</tbody>\n",
       "</table>\n",
       "</dd>\n",
       "</dl>\n"
      ],
      "text/latex": [
       "\\begin{description}\n",
       "\\item[\\$vektor1] \\begin{enumerate*}\n",
       "\\item 1\n",
       "\\item 2\n",
       "\\item 20\n",
       "\\item 10\n",
       "\\item 5\n",
       "\\item 6\n",
       "\\end{enumerate*}\n",
       "\n",
       "\\item[\\$vericercevesi1] \\begin{tabular}{r|ll}\n",
       " c.1..2..3. & c..A....B....C..\\\\\n",
       "\\hline\n",
       "\t 1 & A\\\\\n",
       "\t 2 & B\\\\\n",
       "\t 9 & B\\\\\n",
       "\\end{tabular}\n",
       "\n",
       "\\item[\\$matris1] \\begin{tabular}{lll}\n",
       "\t 20 & 2  &  3\\\\\n",
       "\t  4 & 5  &  6\\\\\n",
       "\t  7 & 8  & 88\\\\\n",
       "\\end{tabular}\n",
       "\n",
       "\\end{description}\n"
      ],
      "text/markdown": [
       "$vektor1\n",
       ":   1. 1\n",
       "2. 2\n",
       "3. 20\n",
       "4. 10\n",
       "5. 5\n",
       "6. 6\n",
       "\n",
       "\n",
       "\n",
       "$vericercevesi1\n",
       ":   \n",
       "| c.1..2..3. | c..A....B....C.. |\n",
       "|---|---|\n",
       "| 1 | A |\n",
       "| 2 | B |\n",
       "| 9 | B |\n",
       "\n",
       "\n",
       "$matris1\n",
       ":   \n",
       "| 20 | 2  |  3 |\n",
       "|  4 | 5  |  6 |\n",
       "|  7 | 8  | 88 |\n",
       "\n",
       "\n",
       "\n",
       "\n"
      ],
      "text/plain": [
       "$vektor1\n",
       "[1]  1  2 20 10  5  6\n",
       "\n",
       "$vericercevesi1\n",
       "  c.1..2..3. c..A....B....C..\n",
       "1          1                A\n",
       "2          2                B\n",
       "3          9                B\n",
       "\n",
       "$matris1\n",
       "     [,1] [,2] [,3]\n",
       "[1,]   20    2    3\n",
       "[2,]    4    5    6\n",
       "[3,]    7    8   88\n"
      ]
     },
     "metadata": {},
     "output_type": "display_data"
    }
   ],
   "source": [
    "liste8"
   ]
  },
  {
   "cell_type": "markdown",
   "id": "91ec7194",
   "metadata": {},
   "source": [
    "# Listenin Bir Uyesini Silme Islemi"
   ]
  },
  {
   "cell_type": "code",
   "execution_count": 52,
   "id": "9310a03e",
   "metadata": {},
   "outputs": [],
   "source": [
    "liste8[[1]]=NULL # Uye ismi kullanılmadan uye numarasi ile liste8'in 1 nolu uyesi siliniyor."
   ]
  },
  {
   "cell_type": "code",
   "execution_count": 53,
   "id": "80705a8e",
   "metadata": {},
   "outputs": [
    {
     "data": {
      "text/html": [
       "<dl>\n",
       "\t<dt>$vericercevesi1</dt>\n",
       "\t\t<dd><table>\n",
       "<thead><tr><th scope=col>c.1..2..3.</th><th scope=col>c..A....B....C..</th></tr></thead>\n",
       "<tbody>\n",
       "\t<tr><td>1</td><td>A</td></tr>\n",
       "\t<tr><td>2</td><td>B</td></tr>\n",
       "\t<tr><td>9</td><td>B</td></tr>\n",
       "</tbody>\n",
       "</table>\n",
       "</dd>\n",
       "\t<dt>$matris1</dt>\n",
       "\t\t<dd><table>\n",
       "<tbody>\n",
       "\t<tr><td>20</td><td>2 </td><td> 3</td></tr>\n",
       "\t<tr><td> 4</td><td>5 </td><td> 6</td></tr>\n",
       "\t<tr><td> 7</td><td>8 </td><td>88</td></tr>\n",
       "</tbody>\n",
       "</table>\n",
       "</dd>\n",
       "</dl>\n"
      ],
      "text/latex": [
       "\\begin{description}\n",
       "\\item[\\$vericercevesi1] \\begin{tabular}{r|ll}\n",
       " c.1..2..3. & c..A....B....C..\\\\\n",
       "\\hline\n",
       "\t 1 & A\\\\\n",
       "\t 2 & B\\\\\n",
       "\t 9 & B\\\\\n",
       "\\end{tabular}\n",
       "\n",
       "\\item[\\$matris1] \\begin{tabular}{lll}\n",
       "\t 20 & 2  &  3\\\\\n",
       "\t  4 & 5  &  6\\\\\n",
       "\t  7 & 8  & 88\\\\\n",
       "\\end{tabular}\n",
       "\n",
       "\\end{description}\n"
      ],
      "text/markdown": [
       "$vericercevesi1\n",
       ":   \n",
       "| c.1..2..3. | c..A....B....C.. |\n",
       "|---|---|\n",
       "| 1 | A |\n",
       "| 2 | B |\n",
       "| 9 | B |\n",
       "\n",
       "\n",
       "$matris1\n",
       ":   \n",
       "| 20 | 2  |  3 |\n",
       "|  4 | 5  |  6 |\n",
       "|  7 | 8  | 88 |\n",
       "\n",
       "\n",
       "\n",
       "\n"
      ],
      "text/plain": [
       "$vericercevesi1\n",
       "  c.1..2..3. c..A....B....C..\n",
       "1          1                A\n",
       "2          2                B\n",
       "3          9                B\n",
       "\n",
       "$matris1\n",
       "     [,1] [,2] [,3]\n",
       "[1,]   20    2    3\n",
       "[2,]    4    5    6\n",
       "[3,]    7    8   88\n"
      ]
     },
     "metadata": {},
     "output_type": "display_data"
    }
   ],
   "source": [
    "liste8"
   ]
  },
  {
   "cell_type": "markdown",
   "id": "d61b4c04",
   "metadata": {},
   "source": [
    "# Liste Uyelerine Fonksiyonların Uygulanmasi"
   ]
  },
  {
   "cell_type": "code",
   "execution_count": 54,
   "id": "41648195",
   "metadata": {},
   "outputs": [],
   "source": [
    "liste9=list(vektor=c(12,10,25,18,46), matris=matrix(c(2,5,7,3,8,12,45,67,93),3))"
   ]
  },
  {
   "cell_type": "code",
   "execution_count": 55,
   "id": "296922ce",
   "metadata": {},
   "outputs": [
    {
     "data": {
      "text/html": [
       "<dl>\n",
       "\t<dt>$vektor</dt>\n",
       "\t\t<dd><ol class=list-inline>\n",
       "\t<li>12</li>\n",
       "\t<li>10</li>\n",
       "\t<li>25</li>\n",
       "\t<li>18</li>\n",
       "\t<li>46</li>\n",
       "</ol>\n",
       "</dd>\n",
       "\t<dt>$matris</dt>\n",
       "\t\t<dd><table>\n",
       "<tbody>\n",
       "\t<tr><td>2 </td><td> 3</td><td>45</td></tr>\n",
       "\t<tr><td>5 </td><td> 8</td><td>67</td></tr>\n",
       "\t<tr><td>7 </td><td>12</td><td>93</td></tr>\n",
       "</tbody>\n",
       "</table>\n",
       "</dd>\n",
       "</dl>\n"
      ],
      "text/latex": [
       "\\begin{description}\n",
       "\\item[\\$vektor] \\begin{enumerate*}\n",
       "\\item 12\n",
       "\\item 10\n",
       "\\item 25\n",
       "\\item 18\n",
       "\\item 46\n",
       "\\end{enumerate*}\n",
       "\n",
       "\\item[\\$matris] \\begin{tabular}{lll}\n",
       "\t 2  &  3 & 45\\\\\n",
       "\t 5  &  8 & 67\\\\\n",
       "\t 7  & 12 & 93\\\\\n",
       "\\end{tabular}\n",
       "\n",
       "\\end{description}\n"
      ],
      "text/markdown": [
       "$vektor\n",
       ":   1. 12\n",
       "2. 10\n",
       "3. 25\n",
       "4. 18\n",
       "5. 46\n",
       "\n",
       "\n",
       "\n",
       "$matris\n",
       ":   \n",
       "| 2  |  3 | 45 |\n",
       "| 5  |  8 | 67 |\n",
       "| 7  | 12 | 93 |\n",
       "\n",
       "\n",
       "\n",
       "\n"
      ],
      "text/plain": [
       "$vektor\n",
       "[1] 12 10 25 18 46\n",
       "\n",
       "$matris\n",
       "     [,1] [,2] [,3]\n",
       "[1,]    2    3   45\n",
       "[2,]    5    8   67\n",
       "[3,]    7   12   93\n"
      ]
     },
     "metadata": {},
     "output_type": "display_data"
    }
   ],
   "source": [
    "liste9"
   ]
  },
  {
   "cell_type": "code",
   "execution_count": 56,
   "id": "d8edcb47",
   "metadata": {},
   "outputs": [
    {
     "data": {
      "text/html": [
       "<dl>\n",
       "\t<dt>$vektor</dt>\n",
       "\t\t<dd>111</dd>\n",
       "\t<dt>$matris</dt>\n",
       "\t\t<dd>242</dd>\n",
       "</dl>\n"
      ],
      "text/latex": [
       "\\begin{description}\n",
       "\\item[\\$vektor] 111\n",
       "\\item[\\$matris] 242\n",
       "\\end{description}\n"
      ],
      "text/markdown": [
       "$vektor\n",
       ":   111\n",
       "$matris\n",
       ":   242\n",
       "\n",
       "\n"
      ],
      "text/plain": [
       "$vektor\n",
       "[1] 111\n",
       "\n",
       "$matris\n",
       "[1] 242\n"
      ]
     },
     "metadata": {},
     "output_type": "display_data"
    }
   ],
   "source": [
    "lapply(liste9,sum) #liste9'un vektor ve matris uye elemanlarinin toplami hesaplaniyor.\n",
    "                    #ve liste biciminde gosteriliyor"
   ]
  },
  {
   "cell_type": "code",
   "execution_count": 57,
   "id": "b02497db",
   "metadata": {},
   "outputs": [
    {
     "data": {
      "text/html": [
       "<dl>\n",
       "\t<dt>$vektor</dt>\n",
       "\t\t<dd>22.2</dd>\n",
       "\t<dt>$matris</dt>\n",
       "\t\t<dd>26.8888888888889</dd>\n",
       "</dl>\n"
      ],
      "text/latex": [
       "\\begin{description}\n",
       "\\item[\\$vektor] 22.2\n",
       "\\item[\\$matris] 26.8888888888889\n",
       "\\end{description}\n"
      ],
      "text/markdown": [
       "$vektor\n",
       ":   22.2\n",
       "$matris\n",
       ":   26.8888888888889\n",
       "\n",
       "\n"
      ],
      "text/plain": [
       "$vektor\n",
       "[1] 22.2\n",
       "\n",
       "$matris\n",
       "[1] 26.88889\n"
      ]
     },
     "metadata": {},
     "output_type": "display_data"
    }
   ],
   "source": [
    "lapply(liste9,mean) #liste9'un vektor ve matris uye elemanlarinin ortalamasi hesaplaniyor."
   ]
  },
  {
   "cell_type": "code",
   "execution_count": 58,
   "id": "7d4f4e11",
   "metadata": {},
   "outputs": [
    {
     "data": {
      "text/html": [
       "<dl class=dl-horizontal>\n",
       "\t<dt>vektor</dt>\n",
       "\t\t<dd>10</dd>\n",
       "\t<dt>matris</dt>\n",
       "\t\t<dd>2</dd>\n",
       "</dl>\n"
      ],
      "text/latex": [
       "\\begin{description*}\n",
       "\\item[vektor] 10\n",
       "\\item[matris] 2\n",
       "\\end{description*}\n"
      ],
      "text/markdown": [
       "vektor\n",
       ":   10matris\n",
       ":   2\n",
       "\n"
      ],
      "text/plain": [
       "vektor matris \n",
       "    10      2 "
      ]
     },
     "metadata": {},
     "output_type": "display_data"
    }
   ],
   "source": [
    "sapply(liste9,min) #liste9'un vektor ve matris uye elemanlarinin en kucugu bulunuyor.\n",
    "                    #ve tablo biciminde goruntuleniyor"
   ]
  },
  {
   "cell_type": "code",
   "execution_count": 59,
   "id": "6d4f637c",
   "metadata": {},
   "outputs": [
    {
     "data": {
      "text/html": [
       "<dl class=dl-horizontal>\n",
       "\t<dt>vektor</dt>\n",
       "\t\t<dd>46</dd>\n",
       "\t<dt>matris</dt>\n",
       "\t\t<dd>93</dd>\n",
       "</dl>\n"
      ],
      "text/latex": [
       "\\begin{description*}\n",
       "\\item[vektor] 46\n",
       "\\item[matris] 93\n",
       "\\end{description*}\n"
      ],
      "text/markdown": [
       "vektor\n",
       ":   46matris\n",
       ":   93\n",
       "\n"
      ],
      "text/plain": [
       "vektor matris \n",
       "    46     93 "
      ]
     },
     "metadata": {},
     "output_type": "display_data"
    }
   ],
   "source": [
    "sapply(liste9,max) #liste9'un vektor ve matris uye elemanlarinin en buyugu bulunuyor."
   ]
  },
  {
   "cell_type": "code",
   "execution_count": null,
   "id": "9671acc5",
   "metadata": {},
   "outputs": [],
   "source": []
  }
 ],
 "metadata": {
  "kernelspec": {
   "display_name": "R",
   "language": "R",
   "name": "ir"
  },
  "language_info": {
   "codemirror_mode": "r",
   "file_extension": ".r",
   "mimetype": "text/x-r-source",
   "name": "R",
   "pygments_lexer": "r",
   "version": "3.6.1"
  }
 },
 "nbformat": 4,
 "nbformat_minor": 5
}
