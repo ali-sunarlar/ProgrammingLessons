{
 "cells": [
  {
   "cell_type": "code",
   "execution_count": 48,
   "id": "5ad0fdc8-15ae-4428-bd84-a987504839d8",
   "metadata": {
    "tags": []
   },
   "outputs": [],
   "source": [
    "import matplotlib.pyplot as plt                         #veriyi gorsellestirmek icin\n",
    "import pandas as pd                                     #verisetini diziye donusturme icin\n",
    "import seaborn as sns                                   #Grafik cizimi kolerasyon matrisi icin\n",
    "from sklearn.neighbors import KNeighborsClassifier      #K-nn algoritmasini kullanmak icin\n",
    "\n",
    "from sklearn.model_selection import train_test_split    #veriti egitim ve test gruplarina bolmek icin\n",
    "from sklearn.metrics import accuracy_score              #agin performans metrigi icin dogruluk skoru\n",
    "\n",
    "from sklearn.metrics import confusion_matrix            #agin dogru ve yanlis bulma matrisi\n",
    "from sklearn.metrics import precision_score             #agin basari metrikleri\n",
    "from sklearn.metrics import recall_score,f1_score       #agin basari metrikleri\n",
    "from sklearn.metrics import classification_report       #agin basari metrikleri\n",
    "\n",
    "import warnings\n",
    "warnings.filterwarnings(\"ignore\")                       #kod icinde kutuphane hatalarini gostermemesi icin"
   ]
  },
  {
   "cell_type": "code",
   "execution_count": 49,
   "id": "d50bd688-9751-41d3-8716-839b31502453",
   "metadata": {
    "tags": []
   },
   "outputs": [
    {
     "data": {
      "text/html": [
       "<div>\n",
       "<style scoped>\n",
       "    .dataframe tbody tr th:only-of-type {\n",
       "        vertical-align: middle;\n",
       "    }\n",
       "\n",
       "    .dataframe tbody tr th {\n",
       "        vertical-align: top;\n",
       "    }\n",
       "\n",
       "    .dataframe thead th {\n",
       "        text-align: right;\n",
       "    }\n",
       "</style>\n",
       "<table border=\"1\" class=\"dataframe\">\n",
       "  <thead>\n",
       "    <tr style=\"text-align: right;\">\n",
       "      <th></th>\n",
       "      <th>X1</th>\n",
       "      <th>X2</th>\n",
       "      <th>X3</th>\n",
       "      <th>X4</th>\n",
       "      <th>X5</th>\n",
       "      <th>X6</th>\n",
       "      <th>X7</th>\n",
       "      <th>X8</th>\n",
       "      <th>X9</th>\n",
       "      <th>Y1</th>\n",
       "    </tr>\n",
       "  </thead>\n",
       "  <tbody>\n",
       "    <tr>\n",
       "      <th>0</th>\n",
       "      <td>4</td>\n",
       "      <td>6</td>\n",
       "      <td>1</td>\n",
       "      <td>0</td>\n",
       "      <td>0</td>\n",
       "      <td>1</td>\n",
       "      <td>0</td>\n",
       "      <td>1</td>\n",
       "      <td>0</td>\n",
       "      <td>1</td>\n",
       "    </tr>\n",
       "    <tr>\n",
       "      <th>1</th>\n",
       "      <td>11</td>\n",
       "      <td>15</td>\n",
       "      <td>1</td>\n",
       "      <td>0</td>\n",
       "      <td>1</td>\n",
       "      <td>1</td>\n",
       "      <td>1</td>\n",
       "      <td>0</td>\n",
       "      <td>0</td>\n",
       "      <td>0</td>\n",
       "    </tr>\n",
       "    <tr>\n",
       "      <th>2</th>\n",
       "      <td>7</td>\n",
       "      <td>22</td>\n",
       "      <td>1</td>\n",
       "      <td>0</td>\n",
       "      <td>1</td>\n",
       "      <td>1</td>\n",
       "      <td>1</td>\n",
       "      <td>0</td>\n",
       "      <td>1</td>\n",
       "      <td>0</td>\n",
       "    </tr>\n",
       "    <tr>\n",
       "      <th>3</th>\n",
       "      <td>4</td>\n",
       "      <td>11</td>\n",
       "      <td>1</td>\n",
       "      <td>0</td>\n",
       "      <td>1</td>\n",
       "      <td>0</td>\n",
       "      <td>1</td>\n",
       "      <td>1</td>\n",
       "      <td>0</td>\n",
       "      <td>1</td>\n",
       "    </tr>\n",
       "    <tr>\n",
       "      <th>4</th>\n",
       "      <td>7</td>\n",
       "      <td>13</td>\n",
       "      <td>1</td>\n",
       "      <td>0</td>\n",
       "      <td>0</td>\n",
       "      <td>0</td>\n",
       "      <td>0</td>\n",
       "      <td>1</td>\n",
       "      <td>1</td>\n",
       "      <td>1</td>\n",
       "    </tr>\n",
       "    <tr>\n",
       "      <th>...</th>\n",
       "      <td>...</td>\n",
       "      <td>...</td>\n",
       "      <td>...</td>\n",
       "      <td>...</td>\n",
       "      <td>...</td>\n",
       "      <td>...</td>\n",
       "      <td>...</td>\n",
       "      <td>...</td>\n",
       "      <td>...</td>\n",
       "      <td>...</td>\n",
       "    </tr>\n",
       "    <tr>\n",
       "      <th>1062</th>\n",
       "      <td>9</td>\n",
       "      <td>6</td>\n",
       "      <td>1</td>\n",
       "      <td>0</td>\n",
       "      <td>1</td>\n",
       "      <td>1</td>\n",
       "      <td>1</td>\n",
       "      <td>1</td>\n",
       "      <td>0</td>\n",
       "      <td>1</td>\n",
       "    </tr>\n",
       "    <tr>\n",
       "      <th>1063</th>\n",
       "      <td>1</td>\n",
       "      <td>8</td>\n",
       "      <td>1</td>\n",
       "      <td>1</td>\n",
       "      <td>1</td>\n",
       "      <td>1</td>\n",
       "      <td>1</td>\n",
       "      <td>1</td>\n",
       "      <td>1</td>\n",
       "      <td>1</td>\n",
       "    </tr>\n",
       "    <tr>\n",
       "      <th>1064</th>\n",
       "      <td>13</td>\n",
       "      <td>2</td>\n",
       "      <td>1</td>\n",
       "      <td>1</td>\n",
       "      <td>1</td>\n",
       "      <td>0</td>\n",
       "      <td>1</td>\n",
       "      <td>0</td>\n",
       "      <td>1</td>\n",
       "      <td>1</td>\n",
       "    </tr>\n",
       "    <tr>\n",
       "      <th>1065</th>\n",
       "      <td>2</td>\n",
       "      <td>78</td>\n",
       "      <td>1</td>\n",
       "      <td>1</td>\n",
       "      <td>0</td>\n",
       "      <td>0</td>\n",
       "      <td>0</td>\n",
       "      <td>1</td>\n",
       "      <td>1</td>\n",
       "      <td>0</td>\n",
       "    </tr>\n",
       "    <tr>\n",
       "      <th>1066</th>\n",
       "      <td>3</td>\n",
       "      <td>2</td>\n",
       "      <td>1</td>\n",
       "      <td>1</td>\n",
       "      <td>0</td>\n",
       "      <td>1</td>\n",
       "      <td>0</td>\n",
       "      <td>1</td>\n",
       "      <td>1</td>\n",
       "      <td>0</td>\n",
       "    </tr>\n",
       "  </tbody>\n",
       "</table>\n",
       "<p>1067 rows × 10 columns</p>\n",
       "</div>"
      ],
      "text/plain": [
       "      X1  X2  X3  X4  X5  X6  X7  X8  X9  Y1\n",
       "0      4   6   1   0   0   1   0   1   0   1\n",
       "1     11  15   1   0   1   1   1   0   0   0\n",
       "2      7  22   1   0   1   1   1   0   1   0\n",
       "3      4  11   1   0   1   0   1   1   0   1\n",
       "4      7  13   1   0   0   0   0   1   1   1\n",
       "...   ..  ..  ..  ..  ..  ..  ..  ..  ..  ..\n",
       "1062   9   6   1   0   1   1   1   1   0   1\n",
       "1063   1   8   1   1   1   1   1   1   1   1\n",
       "1064  13   2   1   1   1   0   1   0   1   1\n",
       "1065   2  78   1   1   0   0   0   1   1   0\n",
       "1066   3   2   1   1   0   1   0   1   1   0\n",
       "\n",
       "[1067 rows x 10 columns]"
      ]
     },
     "execution_count": 49,
     "metadata": {},
     "output_type": "execute_result"
    }
   ],
   "source": [
    "df=pd.read_csv('lenf.csv',delimiter=';')\n",
    "df"
   ]
  },
  {
   "cell_type": "code",
   "execution_count": 50,
   "id": "65fd513c-c792-4290-b42c-c4601ba0c4f5",
   "metadata": {
    "tags": []
   },
   "outputs": [
    {
     "name": "stdout",
     "output_type": "stream",
     "text": [
      "<class 'pandas.core.frame.DataFrame'>\n",
      "RangeIndex: 1067 entries, 0 to 1066\n",
      "Data columns (total 10 columns):\n",
      " #   Column  Non-Null Count  Dtype\n",
      "---  ------  --------------  -----\n",
      " 0   X1      1067 non-null   int64\n",
      " 1   X2      1067 non-null   int64\n",
      " 2   X3      1067 non-null   int64\n",
      " 3   X4      1067 non-null   int64\n",
      " 4   X5      1067 non-null   int64\n",
      " 5   X6      1067 non-null   int64\n",
      " 6   X7      1067 non-null   int64\n",
      " 7   X8      1067 non-null   int64\n",
      " 8   X9      1067 non-null   int64\n",
      " 9   Y1      1067 non-null   int64\n",
      "dtypes: int64(10)\n",
      "memory usage: 83.5 KB\n"
     ]
    }
   ],
   "source": [
    "df.info() #dataframe'nin infosu pandas kütüphanesinin özelliği\n",
    "#null yok #tamami sayisal veri #calisabilir durumda"
   ]
  },
  {
   "cell_type": "code",
   "execution_count": 51,
   "id": "70a4f642-3338-4571-b850-ba2cb3903c06",
   "metadata": {
    "tags": []
   },
   "outputs": [
    {
     "name": "stdout",
     "output_type": "stream",
     "text": [
      "                X1           X2      X3           X4           X5  \\\n",
      "count  1067.000000  1067.000000  1067.0  1067.000000  1067.000000   \n",
      "mean      6.288660     9.443299     1.0     0.443299     0.597938   \n",
      "std       3.891962    14.995663     0.0     0.497008     0.490544   \n",
      "min       1.000000     0.000000     1.0     0.000000     0.000000   \n",
      "25%       4.000000     3.000000     1.0     0.000000     0.000000   \n",
      "50%       6.000000     6.000000     1.0     0.000000     1.000000   \n",
      "75%       7.000000     8.000000     1.0     1.000000     1.000000   \n",
      "max      21.000000    78.000000     1.0     1.000000     1.000000   \n",
      "\n",
      "                X6           X7           X8           X9           Y1  \n",
      "count  1067.000000  1067.000000  1067.000000  1067.000000  1067.000000  \n",
      "mean      0.618557     0.628866     0.639175     0.649485     0.628866  \n",
      "std       0.485969     0.483335     0.480465     0.477355     0.483335  \n",
      "min       0.000000     0.000000     0.000000     0.000000     0.000000  \n",
      "25%       0.000000     0.000000     0.000000     0.000000     0.000000  \n",
      "50%       1.000000     1.000000     1.000000     1.000000     1.000000  \n",
      "75%       1.000000     1.000000     1.000000     1.000000     1.000000  \n",
      "max       1.000000     1.000000     1.000000     1.000000     1.000000  \n"
     ]
    }
   ],
   "source": [
    "description=df.describe() #tarif et kaç adet ortalama % yuzdeleri maksimum minimum \n",
    "print(description)"
   ]
  },
  {
   "cell_type": "code",
   "execution_count": 52,
   "id": "095e3842-e495-4e79-a787-f83f3b81f77e",
   "metadata": {
    "tags": []
   },
   "outputs": [
    {
     "data": {
      "text/html": [
       "<div>\n",
       "<style scoped>\n",
       "    .dataframe tbody tr th:only-of-type {\n",
       "        vertical-align: middle;\n",
       "    }\n",
       "\n",
       "    .dataframe tbody tr th {\n",
       "        vertical-align: top;\n",
       "    }\n",
       "\n",
       "    .dataframe thead th {\n",
       "        text-align: right;\n",
       "    }\n",
       "</style>\n",
       "<table border=\"1\" class=\"dataframe\">\n",
       "  <thead>\n",
       "    <tr style=\"text-align: right;\">\n",
       "      <th></th>\n",
       "      <th>X1</th>\n",
       "      <th>X2</th>\n",
       "      <th>X3</th>\n",
       "      <th>X4</th>\n",
       "      <th>X5</th>\n",
       "      <th>X6</th>\n",
       "      <th>X7</th>\n",
       "      <th>X8</th>\n",
       "      <th>X9</th>\n",
       "      <th>Y1</th>\n",
       "    </tr>\n",
       "  </thead>\n",
       "  <tbody>\n",
       "    <tr>\n",
       "      <th>X1</th>\n",
       "      <td>1.000000</td>\n",
       "      <td>-0.185721</td>\n",
       "      <td>NaN</td>\n",
       "      <td>-0.103558</td>\n",
       "      <td>0.314878</td>\n",
       "      <td>-0.116315</td>\n",
       "      <td>0.232541</td>\n",
       "      <td>-0.082206</td>\n",
       "      <td>0.065620</td>\n",
       "      <td>0.194143</td>\n",
       "    </tr>\n",
       "    <tr>\n",
       "      <th>X2</th>\n",
       "      <td>-0.185721</td>\n",
       "      <td>1.000000</td>\n",
       "      <td>NaN</td>\n",
       "      <td>0.121754</td>\n",
       "      <td>-0.170735</td>\n",
       "      <td>-0.255726</td>\n",
       "      <td>-0.196531</td>\n",
       "      <td>0.111019</td>\n",
       "      <td>0.088038</td>\n",
       "      <td>-0.264869</td>\n",
       "    </tr>\n",
       "    <tr>\n",
       "      <th>X3</th>\n",
       "      <td>NaN</td>\n",
       "      <td>NaN</td>\n",
       "      <td>NaN</td>\n",
       "      <td>NaN</td>\n",
       "      <td>NaN</td>\n",
       "      <td>NaN</td>\n",
       "      <td>NaN</td>\n",
       "      <td>NaN</td>\n",
       "      <td>NaN</td>\n",
       "      <td>NaN</td>\n",
       "    </tr>\n",
       "    <tr>\n",
       "      <th>X4</th>\n",
       "      <td>-0.103558</td>\n",
       "      <td>0.121754</td>\n",
       "      <td>NaN</td>\n",
       "      <td>1.000000</td>\n",
       "      <td>-0.072432</td>\n",
       "      <td>-0.110992</td>\n",
       "      <td>0.127097</td>\n",
       "      <td>0.151912</td>\n",
       "      <td>0.264104</td>\n",
       "      <td>-0.001771</td>\n",
       "    </tr>\n",
       "    <tr>\n",
       "      <th>X5</th>\n",
       "      <td>0.314878</td>\n",
       "      <td>-0.170735</td>\n",
       "      <td>NaN</td>\n",
       "      <td>-0.072432</td>\n",
       "      <td>1.000000</td>\n",
       "      <td>0.005355</td>\n",
       "      <td>0.545147</td>\n",
       "      <td>-0.134506</td>\n",
       "      <td>-0.293933</td>\n",
       "      <td>0.327537</td>\n",
       "    </tr>\n",
       "    <tr>\n",
       "      <th>X6</th>\n",
       "      <td>-0.116315</td>\n",
       "      <td>-0.255726</td>\n",
       "      <td>NaN</td>\n",
       "      <td>-0.110992</td>\n",
       "      <td>0.005355</td>\n",
       "      <td>1.000000</td>\n",
       "      <td>-0.076088</td>\n",
       "      <td>0.028703</td>\n",
       "      <td>-0.132071</td>\n",
       "      <td>0.011776</td>\n",
       "    </tr>\n",
       "    <tr>\n",
       "      <th>X7</th>\n",
       "      <td>0.232541</td>\n",
       "      <td>-0.196531</td>\n",
       "      <td>NaN</td>\n",
       "      <td>0.127097</td>\n",
       "      <td>0.545147</td>\n",
       "      <td>-0.076088</td>\n",
       "      <td>1.000000</td>\n",
       "      <td>-0.221717</td>\n",
       "      <td>-0.251287</td>\n",
       "      <td>0.116576</td>\n",
       "    </tr>\n",
       "    <tr>\n",
       "      <th>X8</th>\n",
       "      <td>-0.082206</td>\n",
       "      <td>0.111019</td>\n",
       "      <td>NaN</td>\n",
       "      <td>0.151912</td>\n",
       "      <td>-0.134506</td>\n",
       "      <td>0.028703</td>\n",
       "      <td>-0.221717</td>\n",
       "      <td>1.000000</td>\n",
       "      <td>-0.102043</td>\n",
       "      <td>0.533679</td>\n",
       "    </tr>\n",
       "    <tr>\n",
       "      <th>X9</th>\n",
       "      <td>0.065620</td>\n",
       "      <td>0.088038</td>\n",
       "      <td>NaN</td>\n",
       "      <td>0.264104</td>\n",
       "      <td>-0.293933</td>\n",
       "      <td>-0.132071</td>\n",
       "      <td>-0.251287</td>\n",
       "      <td>-0.102043</td>\n",
       "      <td>1.000000</td>\n",
       "      <td>-0.251287</td>\n",
       "    </tr>\n",
       "    <tr>\n",
       "      <th>Y1</th>\n",
       "      <td>0.194143</td>\n",
       "      <td>-0.264869</td>\n",
       "      <td>NaN</td>\n",
       "      <td>-0.001771</td>\n",
       "      <td>0.327537</td>\n",
       "      <td>0.011776</td>\n",
       "      <td>0.116576</td>\n",
       "      <td>0.533679</td>\n",
       "      <td>-0.251287</td>\n",
       "      <td>1.000000</td>\n",
       "    </tr>\n",
       "  </tbody>\n",
       "</table>\n",
       "</div>"
      ],
      "text/plain": [
       "          X1        X2  X3        X4        X5        X6        X7        X8  \\\n",
       "X1  1.000000 -0.185721 NaN -0.103558  0.314878 -0.116315  0.232541 -0.082206   \n",
       "X2 -0.185721  1.000000 NaN  0.121754 -0.170735 -0.255726 -0.196531  0.111019   \n",
       "X3       NaN       NaN NaN       NaN       NaN       NaN       NaN       NaN   \n",
       "X4 -0.103558  0.121754 NaN  1.000000 -0.072432 -0.110992  0.127097  0.151912   \n",
       "X5  0.314878 -0.170735 NaN -0.072432  1.000000  0.005355  0.545147 -0.134506   \n",
       "X6 -0.116315 -0.255726 NaN -0.110992  0.005355  1.000000 -0.076088  0.028703   \n",
       "X7  0.232541 -0.196531 NaN  0.127097  0.545147 -0.076088  1.000000 -0.221717   \n",
       "X8 -0.082206  0.111019 NaN  0.151912 -0.134506  0.028703 -0.221717  1.000000   \n",
       "X9  0.065620  0.088038 NaN  0.264104 -0.293933 -0.132071 -0.251287 -0.102043   \n",
       "Y1  0.194143 -0.264869 NaN -0.001771  0.327537  0.011776  0.116576  0.533679   \n",
       "\n",
       "          X9        Y1  \n",
       "X1  0.065620  0.194143  \n",
       "X2  0.088038 -0.264869  \n",
       "X3       NaN       NaN  \n",
       "X4  0.264104 -0.001771  \n",
       "X5 -0.293933  0.327537  \n",
       "X6 -0.132071  0.011776  \n",
       "X7 -0.251287  0.116576  \n",
       "X8 -0.102043  0.533679  \n",
       "X9  1.000000 -0.251287  \n",
       "Y1 -0.251287  1.000000  "
      ]
     },
     "execution_count": 52,
     "metadata": {},
     "output_type": "execute_result"
    }
   ],
   "source": [
    "df.corr() #sutunlarin birbiri ile iliskileri eger - eksi ise zıt iliski #modelde boyut azaltma\n",
    "#X1 olmadan hangi veriler kullanılırsa Y'yi tahminleme #hangi veriler olmadan Y doğru tahmin edilebilir cevabi aranir "
   ]
  },
  {
   "cell_type": "code",
   "execution_count": 53,
   "id": "f5885ecb-2a2a-4b60-a55d-0cb3d2e36e02",
   "metadata": {
    "tags": []
   },
   "outputs": [
    {
     "data": {
      "text/plain": [
       "<Axes: >"
      ]
     },
     "execution_count": 53,
     "metadata": {},
     "output_type": "execute_result"
    },
    {
     "data": {
      "image/png": "[encoded data removed]",
      "text/plain": [
       "<Figure size 1600x500 with 2 Axes>"
      ]
     },
     "metadata": {},
     "output_type": "display_data"
    }
   ],
   "source": [
    "plt.figure(figsize=(16,5))       #1 en yuksek iliski 0 en dusuk iliski #hangi ozelliklerimin oncellikli #eger bir model kurgulanacaksa Y ile en yuksek iliskili degerlerle siniflandirma olusturabilir\n",
    "sns.heatmap(df.corr(),annot=True, vmin=0, vmax=1,center=True, linewidths=2)"
   ]
  },
  {
   "cell_type": "code",
   "execution_count": 54,
   "id": "99f0702c-34bc-49be-8d09-e1acaa17dd44",
   "metadata": {
    "tags": []
   },
   "outputs": [
    {
     "data": {
      "image/png": "[encoded data removed]",
      "text/plain": [
       "<Figure size 300x300 with 1 Axes>"
      ]
     },
     "metadata": {},
     "output_type": "display_data"
    }
   ],
   "source": [
    "\n",
    "plt.figure(figsize=(3,3))\n",
    "df['Y1'].value_counts().plot(kind='pie',textprops={'color':'black'},autopct='%.2f',cmap='cool') #plot cizdir demektir. \n",
    "plt.title('Output Label',fontsize=15)\n",
    "plt.legend(['Var','Yok'])\n",
    "plt.show()     #Burada veri setindeki cikis verisinin gorsel dagilimini goruyoruz."
   ]
  },
  {
   "cell_type": "code",
   "execution_count": 62,
   "id": "2ea6f53e-0911-431c-a5c2-8fb84c1d2454",
   "metadata": {
    "tags": []
   },
   "outputs": [
    {
     "ename": "ValueError",
     "evalue": "not enough values to unpack (expected 4, got 2)",
     "output_type": "error",
     "traceback": [
      "\u001b[1;31m---------------------------------------------------------------------------\u001b[0m",
      "\u001b[1;31mValueError\u001b[0m                                Traceback (most recent call last)",
      "Cell \u001b[1;32mIn[62], line 2\u001b[0m\n\u001b[0;32m      1\u001b[0m \u001b[38;5;66;03m#%80 egitim and %20 test #random_state bölme isleminde karistirma islemi yapar 0'sa karistirma islemi yapmaz ornegin 1,3 se 1 ile 3 yerlerini degistirir\u001b[39;00m\n\u001b[1;32m----> 2\u001b[0m x_train,x_test,y_train,y_test \u001b[38;5;241m=\u001b[39mtrain_test_split(df,test_size\u001b[38;5;241m=\u001b[39m\u001b[38;5;241m0.01\u001b[39m,random_state\u001b[38;5;241m=\u001b[39m\u001b[38;5;241m0\u001b[39m)\n",
      "\u001b[1;31mValueError\u001b[0m: not enough values to unpack (expected 4, got 2)"
     ]
    }
   ],
   "source": [
    "#%80 egitim and %20 test #random_state bölme isleminde karistirma islemi yapar 0'sa karistirma islemi yapmaz ornegin 1,3 se 1 ile 3 yerlerini degistirir\n",
    "x_train,x_test,y_train,y_test =train_test_split(df,test_size=0.01,random_state=0)"
   ]
  },
  {
   "cell_type": "code",
   "execution_count": 56,
   "id": "f6e1d9cc-38f2-4014-8cf0-f8be0270f426",
   "metadata": {},
   "outputs": [
    {
     "ename": "NameError",
     "evalue": "name 'X_Train' is not defined",
     "output_type": "error",
     "traceback": [
      "\u001b[1;31m---------------------------------------------------------------------------\u001b[0m",
      "\u001b[1;31mNameError\u001b[0m                                 Traceback (most recent call last)",
      "Cell \u001b[1;32mIn[56], line 1\u001b[0m\n\u001b[1;32m----> 1\u001b[0m X_Train\n",
      "\u001b[1;31mNameError\u001b[0m: name 'X_Train' is not defined"
     ]
    }
   ],
   "source": [
    "X_Train"
   ]
  },
  {
   "cell_type": "code",
   "execution_count": 60,
   "id": "3e2bc00d-2fcc-4529-a4c0-52d614aa5b23",
   "metadata": {
    "tags": []
   },
   "outputs": [
    {
     "ename": "NameError",
     "evalue": "name 'y_train' is not defined",
     "output_type": "error",
     "traceback": [
      "\u001b[1;31m---------------------------------------------------------------------------\u001b[0m",
      "\u001b[1;31mNameError\u001b[0m                                 Traceback (most recent call last)",
      "Cell \u001b[1;32mIn[60], line 1\u001b[0m\n\u001b[1;32m----> 1\u001b[0m y_train\n",
      "\u001b[1;31mNameError\u001b[0m: name 'y_train' is not defined"
     ]
    }
   ],
   "source": [
    "y_train"
   ]
  },
  {
   "cell_type": "code",
   "execution_count": 63,
   "id": "42004385-2d25-4994-8d6e-70363eb38fa9",
   "metadata": {
    "tags": []
   },
   "outputs": [
    {
     "ename": "NameError",
     "evalue": "name 'x_train' is not defined",
     "output_type": "error",
     "traceback": [
      "\u001b[1;31m---------------------------------------------------------------------------\u001b[0m",
      "\u001b[1;31mNameError\u001b[0m                                 Traceback (most recent call last)",
      "Cell \u001b[1;32mIn[63], line 1\u001b[0m\n\u001b[1;32m----> 1\u001b[0m \u001b[38;5;28mprint\u001b[39m(\u001b[38;5;124m\"\u001b[39m\u001b[38;5;124mEgitim Verileri : \u001b[39m\u001b[38;5;124m\"\u001b[39m, x_train\u001b[38;5;241m.\u001b[39mshape)\n\u001b[0;32m      2\u001b[0m \u001b[38;5;28mprint\u001b[39m(\u001b[38;5;124m\"\u001b[39m\u001b[38;5;124mEgitim Etiketleri :\u001b[39m\u001b[38;5;124m\"\u001b[39m,y_train\u001b[38;5;241m.\u001b[39mshape)\n\u001b[0;32m      3\u001b[0m \u001b[38;5;28mprint\u001b[39m(\u001b[38;5;124m\"\u001b[39m\u001b[38;5;124mTest Verileri : \u001b[39m\u001b[38;5;124m\"\u001b[39m, x_test\u001b[38;5;241m.\u001b[39mshape)\n",
      "\u001b[1;31mNameError\u001b[0m: name 'x_train' is not defined"
     ]
    }
   ],
   "source": [
    "print(\"Egitim Verileri : \", x_train.shape)\n",
    "print(\"Egitim Etiketleri :\",y_train.shape)\n",
    "print(\"Test Verileri : \", x_test.shape)\n",
    "print(\"Test Etiketleri : \", y_test.shape)"
   ]
  },
  {
   "cell_type": "code",
   "execution_count": 72,
   "id": "0309c26c-446f-4842-8d25-ce5eaeaf5524",
   "metadata": {
    "tags": []
   },
   "outputs": [],
   "source": [
    "def knn(x_train,y_train,x_test,y_test):\n",
    "    knn=KneighborsClassifier(n_neighbors=3,metrix=\"minkowski\",p=1)\n",
    "    knn.fit(x_train,y_train)\n",
    "    \n",
    "    y_pred=knn.predict(X_test)\n",
    "    print_stats_percentage_train_test(knn,y_yest,y_ped)\n",
    "    \n",
    "    cnf_matrix=confusion_matrix(y_test,y_ped)\n",
    "    cnf_matrix_t=cnf_matrix.astype(int)\n",
    "    sns.heatmap(cnf_matrix_t,annot=True, fmt=\".0f\")\n",
    "                \n",
    "    return"
   ]
  },
  {
   "cell_type": "code",
   "execution_count": 77,
   "id": "8b4212d4-b71e-4799-9c8b-5529ce9b1b7f",
   "metadata": {
    "tags": []
   },
   "outputs": [],
   "source": [
    "#Bir alt fonksiyon ile makine öğrenmesi algoritmalarinin yazdirmak\n",
    "\n",
    "def print_stats_percentrage_train_test(algorithm_name,y_test,y_pred):\n",
    "    print(\"----------------------------------------------------------\")\n",
    "    print(\"algorithm is : \", algorithm_name)\n",
    "    print(\"----------------------------------------------------------\")\n",
    "    acc=accuracy_score(y_test,y_pred)\n",
    "    print('Accuracy : %.3f' %acc)\n",
    "    print('train_score : %.2f'%algorithm_name.score(x_train,y_train))\n",
    "    print('train_score : %.2f'%algorithm_name.score(x_test,y_test))\n",
    "    print(\"----------------------------------------------------------\")\n",
    "    confmat=confusion_matrix(y_true=y_test, y_pred=y_ped,)\n",
    "    print(\"confusion matrix\")\n",
    "    print(confmat)\n",
    "    print(\"----------------------------------------------------------\")\n",
    "    print('Precision: %.3f'%precision_score(y_true=y_test,y_pred=y_pred, avreage='weighted'))\n",
    "    print('Recall: %.3f'%precision_score(y_true=y_test,y_pred=y_pred, avreage='weighted'))\n",
    "    print('F1-measure: %.3f'%precision_score(y_true=y_test,y_pred=y_pred, avreage='weighted'))\n",
    "    print(\"----------------------------------------------------------\")\n",
    "    \n",
    "    report=classification_report(y_true=y_test, y_pred=y_pred)\n",
    "    print(f'Classification Report: \\n{report}')\n",
    "    \n",
    "    print(\"----------------------------------------------------------\")\n",
    "    return"
   ]
  },
  {
   "cell_type": "code",
   "execution_count": 78,
   "id": "0bfc3902-cdd6-4906-83ea-d8f7bbb5ac3b",
   "metadata": {
    "tags": []
   },
   "outputs": [
    {
     "ename": "NameError",
     "evalue": "name 'x_train' is not defined",
     "output_type": "error",
     "traceback": [
      "\u001b[1;31m---------------------------------------------------------------------------\u001b[0m",
      "\u001b[1;31mNameError\u001b[0m                                 Traceback (most recent call last)",
      "Cell \u001b[1;32mIn[78], line 1\u001b[0m\n\u001b[1;32m----> 1\u001b[0m knn(x_train,y_train,x_test,y_test)\n",
      "\u001b[1;31mNameError\u001b[0m: name 'x_train' is not defined"
     ]
    }
   ],
   "source": [
    "knn(x_train,y_train,x_test,y_test)"
   ]
  },
  {
   "cell_type": "code",
   "execution_count": null,
   "id": "da9a153f-adc9-45ce-8348-eed3ef584359",
   "metadata": {},
   "outputs": [],
   "source": []
  }
 ],
 "metadata": {
  "kernelspec": {
   "display_name": "Python 3 (ipykernel)",
   "language": "python",
   "name": "python3"
  },
  "language_info": {
   "codemirror_mode": {
    "name": "ipython",
    "version": 3
   },
   "file_extension": ".py",
   "mimetype": "text/x-python",
   "name": "python",
   "nbconvert_exporter": "python",
   "pygments_lexer": "ipython3",
   "version": "3.11.4"
  }
 },
 "nbformat": 4,
 "nbformat_minor": 5
}
