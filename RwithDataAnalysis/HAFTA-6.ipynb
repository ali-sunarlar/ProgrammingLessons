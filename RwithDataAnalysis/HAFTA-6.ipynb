{
 "cells": [
  {
   "cell_type": "code",
   "execution_count": 5,
   "id": "7bc48173",
   "metadata": {},
   "outputs": [],
   "source": [
    "yas=c (25,16, 38,45) \n",
    "isim=c(\"Hasan\", \"zehra\", \"Kamil\", \"Hatice\") \n",
    "adres=c(\"istanbul\", \"sakarya\", \"Ankara\", \"Mersin\") "
   ]
  },
  {
   "cell_type": "code",
   "execution_count": 6,
   "id": "afec33ba",
   "metadata": {},
   "outputs": [
    {
     "data": {
      "text/html": [
       "<table>\n",
       "<thead><tr><th scope=col>yas</th><th scope=col>isim</th><th scope=col>adres</th></tr></thead>\n",
       "<tbody>\n",
       "\t<tr><td>25      </td><td>Hasan   </td><td>istanbul</td></tr>\n",
       "\t<tr><td>16      </td><td>zehra   </td><td>sakarya </td></tr>\n",
       "\t<tr><td>38      </td><td>Kamil   </td><td>Ankara  </td></tr>\n",
       "\t<tr><td>45      </td><td>Hatice  </td><td>Mersin  </td></tr>\n",
       "</tbody>\n",
       "</table>\n"
      ],
      "text/latex": [
       "\\begin{tabular}{r|lll}\n",
       " yas & isim & adres\\\\\n",
       "\\hline\n",
       "\t 25       & Hasan    & istanbul\\\\\n",
       "\t 16       & zehra    & sakarya \\\\\n",
       "\t 38       & Kamil    & Ankara  \\\\\n",
       "\t 45       & Hatice   & Mersin  \\\\\n",
       "\\end{tabular}\n"
      ],
      "text/markdown": [
       "\n",
       "| yas | isim | adres |\n",
       "|---|---|---|\n",
       "| 25       | Hasan    | istanbul |\n",
       "| 16       | zehra    | sakarya  |\n",
       "| 38       | Kamil    | Ankara   |\n",
       "| 45       | Hatice   | Mersin   |\n",
       "\n"
      ],
      "text/plain": [
       "  yas isim   adres   \n",
       "1 25  Hasan  istanbul\n",
       "2 16  zehra  sakarya \n",
       "3 38  Kamil  Ankara  \n",
       "4 45  Hatice Mersin  "
      ]
     },
     "metadata": {},
     "output_type": "display_data"
    }
   ],
   "source": [
    "cerceve1=data.frame(yas, isim, adres) #olusturulan vektorler veri cercevesine donusturiluyor. \n",
    "cerceve1 #Veri cercevesi ekrana yazdiriliyor. "
   ]
  },
  {
   "cell_type": "markdown",
   "id": "5d6a40aa",
   "metadata": {},
   "source": [
    "# Veri Cercevesinin Satir ve Sutun Isimlerinin Degistirilmesi"
   ]
  },
  {
   "cell_type": "code",
   "execution_count": 7,
   "id": "ffa9f5d1",
   "metadata": {},
   "outputs": [
    {
     "data": {
      "text/html": [
       "<table>\n",
       "<thead><tr><th scope=col>c.101..102..103.</th><th scope=col>c..a....B....C..</th></tr></thead>\n",
       "<tbody>\n",
       "\t<tr><td>101</td><td>a  </td></tr>\n",
       "\t<tr><td>102</td><td>B  </td></tr>\n",
       "\t<tr><td>103</td><td>C  </td></tr>\n",
       "</tbody>\n",
       "</table>\n"
      ],
      "text/latex": [
       "\\begin{tabular}{r|ll}\n",
       " c.101..102..103. & c..a....B....C..\\\\\n",
       "\\hline\n",
       "\t 101 & a  \\\\\n",
       "\t 102 & B  \\\\\n",
       "\t 103 & C  \\\\\n",
       "\\end{tabular}\n"
      ],
      "text/markdown": [
       "\n",
       "| c.101..102..103. | c..a....B....C.. |\n",
       "|---|---|\n",
       "| 101 | a   |\n",
       "| 102 | B   |\n",
       "| 103 | C   |\n",
       "\n"
      ],
      "text/plain": [
       "  c.101..102..103. c..a....B....C..\n",
       "1 101              a               \n",
       "2 102              B               \n",
       "3 103              C               "
      ]
     },
     "metadata": {},
     "output_type": "display_data"
    }
   ],
   "source": [
    "cerceve2=data.frame (c(101,102,103), c(\"a\",\"B\",\"C\")) \n",
    "cerceve2 "
   ]
  },
  {
   "cell_type": "code",
   "execution_count": 8,
   "id": "34cbaebb",
   "metadata": {},
   "outputs": [
    {
     "data": {
      "text/html": [
       "<table>\n",
       "<thead><tr><th scope=col>Kodu</th><th scope=col>Sinifi</th></tr></thead>\n",
       "<tbody>\n",
       "\t<tr><td>101</td><td>a  </td></tr>\n",
       "\t<tr><td>102</td><td>B  </td></tr>\n",
       "\t<tr><td>103</td><td>C  </td></tr>\n",
       "</tbody>\n",
       "</table>\n"
      ],
      "text/latex": [
       "\\begin{tabular}{r|ll}\n",
       " Kodu & Sinifi\\\\\n",
       "\\hline\n",
       "\t 101 & a  \\\\\n",
       "\t 102 & B  \\\\\n",
       "\t 103 & C  \\\\\n",
       "\\end{tabular}\n"
      ],
      "text/markdown": [
       "\n",
       "| Kodu | Sinifi |\n",
       "|---|---|\n",
       "| 101 | a   |\n",
       "| 102 | B   |\n",
       "| 103 | C   |\n",
       "\n"
      ],
      "text/plain": [
       "  Kodu Sinifi\n",
       "1 101  a     \n",
       "2 102  B     \n",
       "3 103  C     "
      ]
     },
     "metadata": {},
     "output_type": "display_data"
    }
   ],
   "source": [
    "colnames (cerceve2)=c (\"Kodu\", \"Sinifi\") \n",
    "cerceve2 "
   ]
  },
  {
   "cell_type": "code",
   "execution_count": 9,
   "id": "924a4d90",
   "metadata": {},
   "outputs": [
    {
     "data": {
      "text/html": [
       "<table>\n",
       "<thead><tr><th></th><th scope=col>Kodu</th><th scope=col>Sinifi</th></tr></thead>\n",
       "<tbody>\n",
       "\t<tr><th scope=row>1. sira</th><td>101</td><td>a  </td></tr>\n",
       "\t<tr><th scope=row>2. sira</th><td>102</td><td>B  </td></tr>\n",
       "\t<tr><th scope=row>3. sira</th><td>103</td><td>C  </td></tr>\n",
       "</tbody>\n",
       "</table>\n"
      ],
      "text/latex": [
       "\\begin{tabular}{r|ll}\n",
       "  & Kodu & Sinifi\\\\\n",
       "\\hline\n",
       "\t1. sira & 101 & a  \\\\\n",
       "\t2. sira & 102 & B  \\\\\n",
       "\t3. sira & 103 & C  \\\\\n",
       "\\end{tabular}\n"
      ],
      "text/markdown": [
       "\n",
       "| <!--/--> | Kodu | Sinifi |\n",
       "|---|---|---|\n",
       "| 1. sira | 101 | a   |\n",
       "| 2. sira | 102 | B   |\n",
       "| 3. sira | 103 | C   |\n",
       "\n"
      ],
      "text/plain": [
       "        Kodu Sinifi\n",
       "1. sira 101  a     \n",
       "2. sira 102  B     \n",
       "3. sira 103  C     "
      ]
     },
     "metadata": {},
     "output_type": "display_data"
    }
   ],
   "source": [
    "rownames (cerceve2)=c(\"1. sira\",\"2. sira\",\"3. sira\") \n",
    "cerceve2 "
   ]
  },
  {
   "cell_type": "code",
   "execution_count": 10,
   "id": "e2ab232e",
   "metadata": {},
   "outputs": [
    {
     "data": {
      "text/html": [
       "<table>\n",
       "<thead><tr><th></th><th scope=col>Ogrenci No</th><th scope=col>Grubu</th></tr></thead>\n",
       "<tbody>\n",
       "\t<tr><th scope=row>1. sira</th><td>101</td><td>a  </td></tr>\n",
       "\t<tr><th scope=row>2. sira</th><td>102</td><td>B  </td></tr>\n",
       "\t<tr><th scope=row>3. sira</th><td>103</td><td>C  </td></tr>\n",
       "</tbody>\n",
       "</table>\n"
      ],
      "text/latex": [
       "\\begin{tabular}{r|ll}\n",
       "  & Ogrenci No & Grubu\\\\\n",
       "\\hline\n",
       "\t1. sira & 101 & a  \\\\\n",
       "\t2. sira & 102 & B  \\\\\n",
       "\t3. sira & 103 & C  \\\\\n",
       "\\end{tabular}\n"
      ],
      "text/markdown": [
       "\n",
       "| <!--/--> | Ogrenci No | Grubu |\n",
       "|---|---|---|\n",
       "| 1. sira | 101 | a   |\n",
       "| 2. sira | 102 | B   |\n",
       "| 3. sira | 103 | C   |\n",
       "\n"
      ],
      "text/plain": [
       "        Ogrenci No Grubu\n",
       "1. sira 101        a    \n",
       "2. sira 102        B    \n",
       "3. sira 103        C    "
      ]
     },
     "metadata": {},
     "output_type": "display_data"
    }
   ],
   "source": [
    "colnames (cerceve2) [1]=\"Ogrenci No\" \n",
    "colnames (cerceve2) [2]=\"Grubu\" \n",
    "cerceve2 "
   ]
  },
  {
   "cell_type": "markdown",
   "id": "d81f7079",
   "metadata": {},
   "source": [
    "# Veri Cercevesindeki Veriyi Goruntuleme"
   ]
  },
  {
   "cell_type": "code",
   "execution_count": 11,
   "id": "e6f038e3",
   "metadata": {},
   "outputs": [
    {
     "data": {
      "text/html": [
       "<table>\n",
       "<thead><tr><th scope=col>Sepal.Length</th><th scope=col>Sepal.Width</th><th scope=col>Petal.Length</th><th scope=col>Petal.Width</th><th scope=col>Species</th></tr></thead>\n",
       "<tbody>\n",
       "\t<tr><td>5.1   </td><td>3.5   </td><td>1.4   </td><td>0.2   </td><td>setosa</td></tr>\n",
       "\t<tr><td>4.9   </td><td>3.0   </td><td>1.4   </td><td>0.2   </td><td>setosa</td></tr>\n",
       "\t<tr><td>4.7   </td><td>3.2   </td><td>1.3   </td><td>0.2   </td><td>setosa</td></tr>\n",
       "\t<tr><td>4.6   </td><td>3.1   </td><td>1.5   </td><td>0.2   </td><td>setosa</td></tr>\n",
       "\t<tr><td>5.0   </td><td>3.6   </td><td>1.4   </td><td>0.2   </td><td>setosa</td></tr>\n",
       "\t<tr><td>5.4   </td><td>3.9   </td><td>1.7   </td><td>0.4   </td><td>setosa</td></tr>\n",
       "</tbody>\n",
       "</table>\n"
      ],
      "text/latex": [
       "\\begin{tabular}{r|lllll}\n",
       " Sepal.Length & Sepal.Width & Petal.Length & Petal.Width & Species\\\\\n",
       "\\hline\n",
       "\t 5.1    & 3.5    & 1.4    & 0.2    & setosa\\\\\n",
       "\t 4.9    & 3.0    & 1.4    & 0.2    & setosa\\\\\n",
       "\t 4.7    & 3.2    & 1.3    & 0.2    & setosa\\\\\n",
       "\t 4.6    & 3.1    & 1.5    & 0.2    & setosa\\\\\n",
       "\t 5.0    & 3.6    & 1.4    & 0.2    & setosa\\\\\n",
       "\t 5.4    & 3.9    & 1.7    & 0.4    & setosa\\\\\n",
       "\\end{tabular}\n"
      ],
      "text/markdown": [
       "\n",
       "| Sepal.Length | Sepal.Width | Petal.Length | Petal.Width | Species |\n",
       "|---|---|---|---|---|\n",
       "| 5.1    | 3.5    | 1.4    | 0.2    | setosa |\n",
       "| 4.9    | 3.0    | 1.4    | 0.2    | setosa |\n",
       "| 4.7    | 3.2    | 1.3    | 0.2    | setosa |\n",
       "| 4.6    | 3.1    | 1.5    | 0.2    | setosa |\n",
       "| 5.0    | 3.6    | 1.4    | 0.2    | setosa |\n",
       "| 5.4    | 3.9    | 1.7    | 0.4    | setosa |\n",
       "\n"
      ],
      "text/plain": [
       "  Sepal.Length Sepal.Width Petal.Length Petal.Width Species\n",
       "1 5.1          3.5         1.4          0.2         setosa \n",
       "2 4.9          3.0         1.4          0.2         setosa \n",
       "3 4.7          3.2         1.3          0.2         setosa \n",
       "4 4.6          3.1         1.5          0.2         setosa \n",
       "5 5.0          3.6         1.4          0.2         setosa \n",
       "6 5.4          3.9         1.7          0.4         setosa "
      ]
     },
     "metadata": {},
     "output_type": "display_data"
    }
   ],
   "source": [
    "head (iris) #IRIS hazir veri setinin ilk alti satiri gériuntuleniyor. "
   ]
  },
  {
   "cell_type": "code",
   "execution_count": 12,
   "id": "22258b66",
   "metadata": {},
   "outputs": [
    {
     "name": "stdout",
     "output_type": "stream",
     "text": [
      "'data.frame':\t150 obs. of  5 variables:\n",
      " $ Sepal.Length: num  5.1 4.9 4.7 4.6 5 5.4 4.6 5 4.4 4.9 ...\n",
      " $ Sepal.Width : num  3.5 3 3.2 3.1 3.6 3.9 3.4 3.4 2.9 3.1 ...\n",
      " $ Petal.Length: num  1.4 1.4 1.3 1.5 1.4 1.7 1.4 1.5 1.4 1.5 ...\n",
      " $ Petal.Width : num  0.2 0.2 0.2 0.2 0.2 0.4 0.3 0.2 0.2 0.1 ...\n",
      " $ Species     : Factor w/ 3 levels \"setosa\",\"versicolor\",..: 1 1 1 1 1 1 1 1 1 1 ...\n"
     ]
    }
   ],
   "source": [
    "str(iris) #iris verisinin igerig§i géruntuleniyor. "
   ]
  },
  {
   "cell_type": "markdown",
   "id": "c04a13f7",
   "metadata": {},
   "source": [
    "# Veri Cercevesindeki Oznitelikleri Elde Etme"
   ]
  },
  {
   "cell_type": "code",
   "execution_count": 13,
   "id": "1f7c594d",
   "metadata": {},
   "outputs": [
    {
     "data": {
      "text/html": [
       "<table>\n",
       "<thead><tr><th scope=col>yas</th><th scope=col>isim</th><th scope=col>sehir</th></tr></thead>\n",
       "<tbody>\n",
       "\t<tr><td>25     </td><td>ismail </td><td>Konya  </td></tr>\n",
       "\t<tr><td>27     </td><td>Nalan  </td><td>Antalya</td></tr>\n",
       "\t<tr><td>38     </td><td>Melek  </td><td>Van    </td></tr>\n",
       "\t<tr><td>43     </td><td>Tahsin </td><td>Antalya</td></tr>\n",
       "</tbody>\n",
       "</table>\n"
      ],
      "text/latex": [
       "\\begin{tabular}{r|lll}\n",
       " yas & isim & sehir\\\\\n",
       "\\hline\n",
       "\t 25      & ismail  & Konya  \\\\\n",
       "\t 27      & Nalan   & Antalya\\\\\n",
       "\t 38      & Melek   & Van    \\\\\n",
       "\t 43      & Tahsin  & Antalya\\\\\n",
       "\\end{tabular}\n"
      ],
      "text/markdown": [
       "\n",
       "| yas | isim | sehir |\n",
       "|---|---|---|\n",
       "| 25      | ismail  | Konya   |\n",
       "| 27      | Nalan   | Antalya |\n",
       "| 38      | Melek   | Van     |\n",
       "| 43      | Tahsin  | Antalya |\n",
       "\n"
      ],
      "text/plain": [
       "  yas isim   sehir  \n",
       "1 25  ismail Konya  \n",
       "2 27  Nalan  Antalya\n",
       "3 38  Melek  Van    \n",
       "4 43  Tahsin Antalya"
      ]
     },
     "metadata": {},
     "output_type": "display_data"
    }
   ],
   "source": [
    "yas=c (25,27, 38,43)\n",
    "\n",
    "isim=c(\"ismail\", \"Nalan\", \"Melek\", \"Tahsin\")\n",
    "\n",
    "sehir=c(\"Konya\", \"Antalya\", \"Van\", \"Antalya\")\n",
    "\n",
    "cerceve3=data.frame (yas, isim, sehir) #vektorler veri cergevesine donisturuliyor. \n",
    "cerceve3 "
   ]
  },
  {
   "cell_type": "code",
   "execution_count": 14,
   "id": "39c65ee2",
   "metadata": {},
   "outputs": [
    {
     "data": {
      "text/html": [
       "<dl>\n",
       "\t<dt>$names</dt>\n",
       "\t\t<dd><ol class=list-inline>\n",
       "\t<li>'yas'</li>\n",
       "\t<li>'isim'</li>\n",
       "\t<li>'sehir'</li>\n",
       "</ol>\n",
       "</dd>\n",
       "\t<dt>$class</dt>\n",
       "\t\t<dd>'data.frame'</dd>\n",
       "\t<dt>$row.names</dt>\n",
       "\t\t<dd><ol class=list-inline>\n",
       "\t<li>1</li>\n",
       "\t<li>2</li>\n",
       "\t<li>3</li>\n",
       "\t<li>4</li>\n",
       "</ol>\n",
       "</dd>\n",
       "</dl>\n"
      ],
      "text/latex": [
       "\\begin{description}\n",
       "\\item[\\$names] \\begin{enumerate*}\n",
       "\\item 'yas'\n",
       "\\item 'isim'\n",
       "\\item 'sehir'\n",
       "\\end{enumerate*}\n",
       "\n",
       "\\item[\\$class] 'data.frame'\n",
       "\\item[\\$row.names] \\begin{enumerate*}\n",
       "\\item 1\n",
       "\\item 2\n",
       "\\item 3\n",
       "\\item 4\n",
       "\\end{enumerate*}\n",
       "\n",
       "\\end{description}\n"
      ],
      "text/markdown": [
       "$names\n",
       ":   1. 'yas'\n",
       "2. 'isim'\n",
       "3. 'sehir'\n",
       "\n",
       "\n",
       "\n",
       "$class\n",
       ":   'data.frame'\n",
       "$row.names\n",
       ":   1. 1\n",
       "2. 2\n",
       "3. 3\n",
       "4. 4\n",
       "\n",
       "\n",
       "\n",
       "\n",
       "\n"
      ],
      "text/plain": [
       "$names\n",
       "[1] \"yas\"   \"isim\"  \"sehir\"\n",
       "\n",
       "$class\n",
       "[1] \"data.frame\"\n",
       "\n",
       "$row.names\n",
       "[1] 1 2 3 4\n"
      ]
     },
     "metadata": {},
     "output_type": "display_data"
    }
   ],
   "source": [
    "attributes (cerceve3) #cerceve3'un oz nitelikleri goruntiulenir. "
   ]
  },
  {
   "cell_type": "code",
   "execution_count": 15,
   "id": "cf79dd9b",
   "metadata": {},
   "outputs": [
    {
     "data": {
      "text/html": [
       "<ol class=list-inline>\n",
       "\t<li>'yas'</li>\n",
       "\t<li>'isim'</li>\n",
       "\t<li>'sehir'</li>\n",
       "</ol>\n"
      ],
      "text/latex": [
       "\\begin{enumerate*}\n",
       "\\item 'yas'\n",
       "\\item 'isim'\n",
       "\\item 'sehir'\n",
       "\\end{enumerate*}\n"
      ],
      "text/markdown": [
       "1. 'yas'\n",
       "2. 'isim'\n",
       "3. 'sehir'\n",
       "\n",
       "\n"
      ],
      "text/plain": [
       "[1] \"yas\"   \"isim\"  \"sehir\""
      ]
     },
     "metadata": {},
     "output_type": "display_data"
    }
   ],
   "source": [
    "attributes (cerceve3)$names #Uye adi ile, tiyenin &znitelikleri géruntulenir."
   ]
  },
  {
   "cell_type": "code",
   "execution_count": 16,
   "id": "b4d6ab51",
   "metadata": {},
   "outputs": [
    {
     "data": {
      "text/html": [
       "<strong>$row.names</strong> = <ol class=list-inline>\n",
       "\t<li>1</li>\n",
       "\t<li>2</li>\n",
       "\t<li>3</li>\n",
       "\t<li>4</li>\n",
       "</ol>\n"
      ],
      "text/latex": [
       "\\textbf{\\$row.names} = \\begin{enumerate*}\n",
       "\\item 1\n",
       "\\item 2\n",
       "\\item 3\n",
       "\\item 4\n",
       "\\end{enumerate*}\n"
      ],
      "text/markdown": [
       "**$row.names** = 1. 1\n",
       "2. 2\n",
       "3. 3\n",
       "4. 4\n",
       "\n",
       "\n"
      ],
      "text/plain": [
       "$row.names\n",
       "[1] 1 2 3 4\n"
      ]
     },
     "metadata": {},
     "output_type": "display_data"
    }
   ],
   "source": [
    "attributes (cerceve3) [3] #Uye numarasi ile ilyenin &znitelikleri gériuntitlenir. "
   ]
  },
  {
   "cell_type": "code",
   "execution_count": 17,
   "id": "cb88858e",
   "metadata": {},
   "outputs": [
    {
     "data": {
      "text/html": [
       "<ol class=list-inline>\n",
       "\t<li>'1'</li>\n",
       "\t<li>'2'</li>\n",
       "\t<li>'3'</li>\n",
       "\t<li>'4'</li>\n",
       "</ol>\n"
      ],
      "text/latex": [
       "\\begin{enumerate*}\n",
       "\\item '1'\n",
       "\\item '2'\n",
       "\\item '3'\n",
       "\\item '4'\n",
       "\\end{enumerate*}\n"
      ],
      "text/markdown": [
       "1. '1'\n",
       "2. '2'\n",
       "3. '3'\n",
       "4. '4'\n",
       "\n",
       "\n"
      ],
      "text/plain": [
       "[1] \"1\" \"2\" \"3\" \"4\""
      ]
     },
     "metadata": {},
     "output_type": "display_data"
    }
   ],
   "source": [
    "rownames (cerceve3) #(ercevenin satir numaralari goruntulenir. "
   ]
  },
  {
   "cell_type": "code",
   "execution_count": 18,
   "id": "22151ca9",
   "metadata": {},
   "outputs": [
    {
     "data": {
      "text/html": [
       "<ol class=list-inline>\n",
       "\t<li>'yas'</li>\n",
       "\t<li>'isim'</li>\n",
       "\t<li>'sehir'</li>\n",
       "</ol>\n"
      ],
      "text/latex": [
       "\\begin{enumerate*}\n",
       "\\item 'yas'\n",
       "\\item 'isim'\n",
       "\\item 'sehir'\n",
       "\\end{enumerate*}\n"
      ],
      "text/markdown": [
       "1. 'yas'\n",
       "2. 'isim'\n",
       "3. 'sehir'\n",
       "\n",
       "\n"
      ],
      "text/plain": [
       "[1] \"yas\"   \"isim\"  \"sehir\""
      ]
     },
     "metadata": {},
     "output_type": "display_data"
    }
   ],
   "source": [
    "colnames (cerceve3) #Cercevenin sutun o6znitelikleri gériuntulenir. "
   ]
  },
  {
   "cell_type": "code",
   "execution_count": 19,
   "id": "ad579723",
   "metadata": {},
   "outputs": [
    {
     "data": {
      "text/html": [
       "<ol class=list-inline>\n",
       "\t<li>Konya</li>\n",
       "\t<li>Antalya</li>\n",
       "\t<li>Van</li>\n",
       "\t<li>Antalya</li>\n",
       "</ol>\n",
       "\n",
       "<details>\n",
       "\t<summary style=display:list-item;cursor:pointer>\n",
       "\t\t<strong>Levels</strong>:\n",
       "\t</summary>\n",
       "\t<ol class=list-inline>\n",
       "\t\t<li>'Antalya'</li>\n",
       "\t\t<li>'Konya'</li>\n",
       "\t\t<li>'Van'</li>\n",
       "\t</ol>\n",
       "</details>"
      ],
      "text/latex": [
       "\\begin{enumerate*}\n",
       "\\item Konya\n",
       "\\item Antalya\n",
       "\\item Van\n",
       "\\item Antalya\n",
       "\\end{enumerate*}\n",
       "\n",
       "\\emph{Levels}: \\begin{enumerate*}\n",
       "\\item 'Antalya'\n",
       "\\item 'Konya'\n",
       "\\item 'Van'\n",
       "\\end{enumerate*}\n"
      ],
      "text/markdown": [
       "1. Konya\n",
       "2. Antalya\n",
       "3. Van\n",
       "4. Antalya\n",
       "\n",
       "\n",
       "\n",
       "**Levels**: 1. 'Antalya'\n",
       "2. 'Konya'\n",
       "3. 'Van'\n",
       "\n",
       "\n"
      ],
      "text/plain": [
       "[1] Konya   Antalya Van     Antalya\n",
       "Levels: Antalya Konya Van"
      ]
     },
     "metadata": {},
     "output_type": "display_data"
    }
   ],
   "source": [
    "cerceve3[[3]] #cercevenin 3 nolu stitun deferleri géruntillenir. "
   ]
  },
  {
   "cell_type": "code",
   "execution_count": 20,
   "id": "a7824f19",
   "metadata": {},
   "outputs": [
    {
     "data": {
      "text/html": [
       "<ol class=list-inline>\n",
       "\t<li>25</li>\n",
       "\t<li>27</li>\n",
       "\t<li>38</li>\n",
       "\t<li>43</li>\n",
       "</ol>\n"
      ],
      "text/latex": [
       "\\begin{enumerate*}\n",
       "\\item 25\n",
       "\\item 27\n",
       "\\item 38\n",
       "\\item 43\n",
       "\\end{enumerate*}\n"
      ],
      "text/markdown": [
       "1. 25\n",
       "2. 27\n",
       "3. 38\n",
       "4. 43\n",
       "\n",
       "\n"
      ],
      "text/plain": [
       "[1] 25 27 38 43"
      ]
     },
     "metadata": {},
     "output_type": "display_data"
    }
   ],
   "source": [
    "cerceve3[[\"yas\"]] #yas siitiinuna ait veriler gérintulenir (satir olarak). "
   ]
  },
  {
   "cell_type": "code",
   "execution_count": 21,
   "id": "b8682ccd",
   "metadata": {},
   "outputs": [
    {
     "data": {
      "text/html": [
       "<table>\n",
       "<thead><tr><th scope=col>yas</th></tr></thead>\n",
       "<tbody>\n",
       "\t<tr><td>25</td></tr>\n",
       "\t<tr><td>27</td></tr>\n",
       "\t<tr><td>38</td></tr>\n",
       "\t<tr><td>43</td></tr>\n",
       "</tbody>\n",
       "</table>\n"
      ],
      "text/latex": [
       "\\begin{tabular}{r|l}\n",
       " yas\\\\\n",
       "\\hline\n",
       "\t 25\\\\\n",
       "\t 27\\\\\n",
       "\t 38\\\\\n",
       "\t 43\\\\\n",
       "\\end{tabular}\n"
      ],
      "text/markdown": [
       "\n",
       "| yas |\n",
       "|---|\n",
       "| 25 |\n",
       "| 27 |\n",
       "| 38 |\n",
       "| 43 |\n",
       "\n"
      ],
      "text/plain": [
       "  yas\n",
       "1 25 \n",
       "2 27 \n",
       "3 38 \n",
       "4 43 "
      ]
     },
     "metadata": {},
     "output_type": "display_data"
    }
   ],
   "source": [
    "cerceve3[(\"yas\")] #yas sutununa ait veriler goruntulenir (sutun olarak). "
   ]
  },
  {
   "cell_type": "markdown",
   "id": "3918fd47",
   "metadata": {},
   "source": [
    "# Veri Cercevesinden Dilimleme Islemi"
   ]
  },
  {
   "cell_type": "code",
   "execution_count": 22,
   "id": "7896aa7c",
   "metadata": {},
   "outputs": [
    {
     "data": {
      "text/html": [
       "<table>\n",
       "<thead><tr><th scope=col>yas</th><th scope=col>isim</th><th scope=col>sehir</th></tr></thead>\n",
       "<tbody>\n",
       "\t<tr><td>25     </td><td>ismail </td><td>Konya  </td></tr>\n",
       "\t<tr><td>27     </td><td>Nalan  </td><td>Antalya</td></tr>\n",
       "\t<tr><td>38     </td><td>Melek  </td><td>Van    </td></tr>\n",
       "\t<tr><td>43     </td><td>Tahsin </td><td>Antalya</td></tr>\n",
       "</tbody>\n",
       "</table>\n"
      ],
      "text/latex": [
       "\\begin{tabular}{r|lll}\n",
       " yas & isim & sehir\\\\\n",
       "\\hline\n",
       "\t 25      & ismail  & Konya  \\\\\n",
       "\t 27      & Nalan   & Antalya\\\\\n",
       "\t 38      & Melek   & Van    \\\\\n",
       "\t 43      & Tahsin  & Antalya\\\\\n",
       "\\end{tabular}\n"
      ],
      "text/markdown": [
       "\n",
       "| yas | isim | sehir |\n",
       "|---|---|---|\n",
       "| 25      | ismail  | Konya   |\n",
       "| 27      | Nalan   | Antalya |\n",
       "| 38      | Melek   | Van     |\n",
       "| 43      | Tahsin  | Antalya |\n",
       "\n"
      ],
      "text/plain": [
       "  yas isim   sehir  \n",
       "1 25  ismail Konya  \n",
       "2 27  Nalan  Antalya\n",
       "3 38  Melek  Van    \n",
       "4 43  Tahsin Antalya"
      ]
     },
     "metadata": {},
     "output_type": "display_data"
    }
   ],
   "source": [
    "cerceve3"
   ]
  },
  {
   "cell_type": "code",
   "execution_count": 23,
   "id": "bc0607c5",
   "metadata": {},
   "outputs": [
    {
     "data": {
      "text/html": [
       "<table>\n",
       "<thead><tr><th></th><th scope=col>yas</th><th scope=col>isim</th><th scope=col>sehir</th></tr></thead>\n",
       "<tbody>\n",
       "\t<tr><th scope=row>2</th><td>27     </td><td>Nalan  </td><td>Antalya</td></tr>\n",
       "</tbody>\n",
       "</table>\n"
      ],
      "text/latex": [
       "\\begin{tabular}{r|lll}\n",
       "  & yas & isim & sehir\\\\\n",
       "\\hline\n",
       "\t2 & 27      & Nalan   & Antalya\\\\\n",
       "\\end{tabular}\n"
      ],
      "text/markdown": [
       "\n",
       "| <!--/--> | yas | isim | sehir |\n",
       "|---|---|---|---|\n",
       "| 2 | 27      | Nalan   | Antalya |\n",
       "\n"
      ],
      "text/plain": [
       "  yas isim  sehir  \n",
       "2 27  Nalan Antalya"
      ]
     },
     "metadata": {},
     "output_type": "display_data"
    }
   ],
   "source": [
    "cerceve3[2,] #ikinci satir ve tum sutunlar goruntulenir"
   ]
  },
  {
   "cell_type": "code",
   "execution_count": 24,
   "id": "8cf31abb",
   "metadata": {},
   "outputs": [
    {
     "data": {
      "text/html": [
       "Antalya\n",
       "<details>\n",
       "\t<summary style=display:list-item;cursor:pointer>\n",
       "\t\t<strong>Levels</strong>:\n",
       "\t</summary>\n",
       "\t<ol class=list-inline>\n",
       "\t\t<li>'Antalya'</li>\n",
       "\t\t<li>'Konya'</li>\n",
       "\t\t<li>'Van'</li>\n",
       "\t</ol>\n",
       "</details>"
      ],
      "text/latex": [
       "Antalya\n",
       "\\emph{Levels}: \\begin{enumerate*}\n",
       "\\item 'Antalya'\n",
       "\\item 'Konya'\n",
       "\\item 'Van'\n",
       "\\end{enumerate*}\n"
      ],
      "text/markdown": [
       "Antalya\n",
       "**Levels**: 1. 'Antalya'\n",
       "2. 'Konya'\n",
       "3. 'Van'\n",
       "\n",
       "\n"
      ],
      "text/plain": [
       "[1] Antalya\n",
       "Levels: Antalya Konya Van"
      ]
     },
     "metadata": {},
     "output_type": "display_data"
    }
   ],
   "source": [
    "cerceve3[2,3] # 2. satir 3. sutun goruntulenir"
   ]
  },
  {
   "cell_type": "code",
   "execution_count": 25,
   "id": "92daf58e",
   "metadata": {},
   "outputs": [
    {
     "data": {
      "text/html": [
       "<table>\n",
       "<thead><tr><th></th><th scope=col>yas</th><th scope=col>isim</th><th scope=col>sehir</th></tr></thead>\n",
       "<tbody>\n",
       "\t<tr><th scope=row>1</th><td>25    </td><td>ismail</td><td>Konya </td></tr>\n",
       "\t<tr><th scope=row>3</th><td>38    </td><td>Melek </td><td>Van   </td></tr>\n",
       "</tbody>\n",
       "</table>\n"
      ],
      "text/latex": [
       "\\begin{tabular}{r|lll}\n",
       "  & yas & isim & sehir\\\\\n",
       "\\hline\n",
       "\t1 & 25     & ismail & Konya \\\\\n",
       "\t3 & 38     & Melek  & Van   \\\\\n",
       "\\end{tabular}\n"
      ],
      "text/markdown": [
       "\n",
       "| <!--/--> | yas | isim | sehir |\n",
       "|---|---|---|---|\n",
       "| 1 | 25     | ismail | Konya  |\n",
       "| 3 | 38     | Melek  | Van    |\n",
       "\n"
      ],
      "text/plain": [
       "  yas isim   sehir\n",
       "1 25  ismail Konya\n",
       "3 38  Melek  Van  "
      ]
     },
     "metadata": {},
     "output_type": "display_data"
    }
   ],
   "source": [
    "cerceve3[c(1,3),] #Belirlenen satirlar alinir."
   ]
  },
  {
   "cell_type": "code",
   "execution_count": 27,
   "id": "86bdfe0c",
   "metadata": {},
   "outputs": [
    {
     "data": {
      "text/html": [
       "<table>\n",
       "<thead><tr><th scope=col>yas</th><th scope=col>sehir</th></tr></thead>\n",
       "<tbody>\n",
       "\t<tr><td>25     </td><td>Konya  </td></tr>\n",
       "\t<tr><td>27     </td><td>Antalya</td></tr>\n",
       "\t<tr><td>38     </td><td>Van    </td></tr>\n",
       "\t<tr><td>43     </td><td>Antalya</td></tr>\n",
       "</tbody>\n",
       "</table>\n"
      ],
      "text/latex": [
       "\\begin{tabular}{r|ll}\n",
       " yas & sehir\\\\\n",
       "\\hline\n",
       "\t 25      & Konya  \\\\\n",
       "\t 27      & Antalya\\\\\n",
       "\t 38      & Van    \\\\\n",
       "\t 43      & Antalya\\\\\n",
       "\\end{tabular}\n"
      ],
      "text/markdown": [
       "\n",
       "| yas | sehir |\n",
       "|---|---|\n",
       "| 25      | Konya   |\n",
       "| 27      | Antalya |\n",
       "| 38      | Van     |\n",
       "| 43      | Antalya |\n",
       "\n"
      ],
      "text/plain": [
       "  yas sehir  \n",
       "1 25  Konya  \n",
       "2 27  Antalya\n",
       "3 38  Van    \n",
       "4 43  Antalya"
      ]
     },
     "metadata": {},
     "output_type": "display_data"
    }
   ],
   "source": [
    "cerceve3[,c(1,3)] #belirlenen sutunlar alinir."
   ]
  },
  {
   "cell_type": "markdown",
   "id": "cfdee37e",
   "metadata": {},
   "source": [
    "# Veri Cercevesinde Satir ve Sutun Ekleme Islemleri"
   ]
  },
  {
   "cell_type": "code",
   "execution_count": 28,
   "id": "19f6857d",
   "metadata": {},
   "outputs": [],
   "source": [
    "okul=c(\"SAU Vakif Koleji\",\"Ugur\",\"Ilke\",\"Sahin\") #Okul isimli bir vektor olusturuldu"
   ]
  },
  {
   "cell_type": "code",
   "execution_count": 29,
   "id": "74e58192",
   "metadata": {},
   "outputs": [
    {
     "data": {
      "text/html": [
       "<table>\n",
       "<thead><tr><th scope=col>yas</th><th scope=col>isim</th><th scope=col>sehir</th></tr></thead>\n",
       "<tbody>\n",
       "\t<tr><td>25     </td><td>ismail </td><td>Konya  </td></tr>\n",
       "\t<tr><td>27     </td><td>Nalan  </td><td>Antalya</td></tr>\n",
       "\t<tr><td>38     </td><td>Melek  </td><td>Van    </td></tr>\n",
       "\t<tr><td>43     </td><td>Tahsin </td><td>Antalya</td></tr>\n",
       "</tbody>\n",
       "</table>\n"
      ],
      "text/latex": [
       "\\begin{tabular}{r|lll}\n",
       " yas & isim & sehir\\\\\n",
       "\\hline\n",
       "\t 25      & ismail  & Konya  \\\\\n",
       "\t 27      & Nalan   & Antalya\\\\\n",
       "\t 38      & Melek   & Van    \\\\\n",
       "\t 43      & Tahsin  & Antalya\\\\\n",
       "\\end{tabular}\n"
      ],
      "text/markdown": [
       "\n",
       "| yas | isim | sehir |\n",
       "|---|---|---|\n",
       "| 25      | ismail  | Konya   |\n",
       "| 27      | Nalan   | Antalya |\n",
       "| 38      | Melek   | Van     |\n",
       "| 43      | Tahsin  | Antalya |\n",
       "\n"
      ],
      "text/plain": [
       "  yas isim   sehir  \n",
       "1 25  ismail Konya  \n",
       "2 27  Nalan  Antalya\n",
       "3 38  Melek  Van    \n",
       "4 43  Tahsin Antalya"
      ]
     },
     "metadata": {},
     "output_type": "display_data"
    }
   ],
   "source": [
    "cerceve3"
   ]
  },
  {
   "cell_type": "code",
   "execution_count": 30,
   "id": "63aa378f",
   "metadata": {},
   "outputs": [],
   "source": [
    "cerceve4=cbind(cerceve3,okul) #olusturulan vektor, sutun olarak cerceve3'e eklendi ve cerceve4'e aktarildi."
   ]
  },
  {
   "cell_type": "code",
   "execution_count": 31,
   "id": "446b62ce",
   "metadata": {},
   "outputs": [
    {
     "data": {
      "text/html": [
       "<table>\n",
       "<thead><tr><th scope=col>yas</th><th scope=col>isim</th><th scope=col>sehir</th><th scope=col>okul</th></tr></thead>\n",
       "<tbody>\n",
       "\t<tr><td>25              </td><td>ismail          </td><td>Konya           </td><td>SAU Vakif Koleji</td></tr>\n",
       "\t<tr><td>27              </td><td>Nalan           </td><td>Antalya         </td><td>Ugur            </td></tr>\n",
       "\t<tr><td>38              </td><td>Melek           </td><td>Van             </td><td>Ilke            </td></tr>\n",
       "\t<tr><td>43              </td><td>Tahsin          </td><td>Antalya         </td><td>Sahin           </td></tr>\n",
       "</tbody>\n",
       "</table>\n"
      ],
      "text/latex": [
       "\\begin{tabular}{r|llll}\n",
       " yas & isim & sehir & okul\\\\\n",
       "\\hline\n",
       "\t 25               & ismail           & Konya            & SAU Vakif Koleji\\\\\n",
       "\t 27               & Nalan            & Antalya          & Ugur            \\\\\n",
       "\t 38               & Melek            & Van              & Ilke            \\\\\n",
       "\t 43               & Tahsin           & Antalya          & Sahin           \\\\\n",
       "\\end{tabular}\n"
      ],
      "text/markdown": [
       "\n",
       "| yas | isim | sehir | okul |\n",
       "|---|---|---|---|\n",
       "| 25               | ismail           | Konya            | SAU Vakif Koleji |\n",
       "| 27               | Nalan            | Antalya          | Ugur             |\n",
       "| 38               | Melek            | Van              | Ilke             |\n",
       "| 43               | Tahsin           | Antalya          | Sahin            |\n",
       "\n"
      ],
      "text/plain": [
       "  yas isim   sehir   okul            \n",
       "1 25  ismail Konya   SAU Vakif Koleji\n",
       "2 27  Nalan  Antalya Ugur            \n",
       "3 38  Melek  Van     Ilke            \n",
       "4 43  Tahsin Antalya Sahin           "
      ]
     },
     "metadata": {},
     "output_type": "display_data"
    }
   ],
   "source": [
    "cerceve4"
   ]
  },
  {
   "cell_type": "code",
   "execution_count": 34,
   "id": "f21e9e82",
   "metadata": {},
   "outputs": [
    {
     "data": {
      "text/html": [
       "<table>\n",
       "<thead><tr><th scope=col>yas</th><th scope=col>isim</th><th scope=col>sehir</th><th scope=col>okul</th></tr></thead>\n",
       "<tbody>\n",
       "\t<tr><td>25              </td><td>ismail          </td><td>Konya           </td><td>SAU Vakif Koleji</td></tr>\n",
       "\t<tr><td>27              </td><td>Nalan           </td><td>Antalya         </td><td>Ugur            </td></tr>\n",
       "\t<tr><td>38              </td><td>Melek           </td><td>Van             </td><td>Ilke            </td></tr>\n",
       "\t<tr><td>43              </td><td>Tahsin          </td><td>Antalya         </td><td>Sahin           </td></tr>\n",
       "\t<tr><td>50              </td><td>Murat           </td><td>Bolu            </td><td>TED             </td></tr>\n",
       "</tbody>\n",
       "</table>\n"
      ],
      "text/latex": [
       "\\begin{tabular}{r|llll}\n",
       " yas & isim & sehir & okul\\\\\n",
       "\\hline\n",
       "\t 25               & ismail           & Konya            & SAU Vakif Koleji\\\\\n",
       "\t 27               & Nalan            & Antalya          & Ugur            \\\\\n",
       "\t 38               & Melek            & Van              & Ilke            \\\\\n",
       "\t 43               & Tahsin           & Antalya          & Sahin           \\\\\n",
       "\t 50               & Murat            & Bolu             & TED             \\\\\n",
       "\\end{tabular}\n"
      ],
      "text/markdown": [
       "\n",
       "| yas | isim | sehir | okul |\n",
       "|---|---|---|---|\n",
       "| 25               | ismail           | Konya            | SAU Vakif Koleji |\n",
       "| 27               | Nalan            | Antalya          | Ugur             |\n",
       "| 38               | Melek            | Van              | Ilke             |\n",
       "| 43               | Tahsin           | Antalya          | Sahin            |\n",
       "| 50               | Murat            | Bolu             | TED              |\n",
       "\n"
      ],
      "text/plain": [
       "  yas isim   sehir   okul            \n",
       "1 25  ismail Konya   SAU Vakif Koleji\n",
       "2 27  Nalan  Antalya Ugur            \n",
       "3 38  Melek  Van     Ilke            \n",
       "4 43  Tahsin Antalya Sahin           \n",
       "5 50  Murat  Bolu    TED             "
      ]
     },
     "metadata": {},
     "output_type": "display_data"
    }
   ],
   "source": [
    "satir=data.frame (yas=50, isim=\"Murat\",sehir=\"Bolu\",okul=\"TED\") #satir adli bir cergeve olusturuldy\n",
    "\n",
    "cerceve5=rbind(cerceve4, satir)  #olusturulan satir adli cerceve, cerceve4'e yani bir satir olarak eklendi \n",
    "# ve cerceve5’e aktarildi.\n",
    "\n",
    "cerceve5"
   ]
  },
  {
   "cell_type": "markdown",
   "id": "a41063b6",
   "metadata": {},
   "source": [
    "# Satir ve Sutun Silme İslemleri"
   ]
  },
  {
   "cell_type": "raw",
   "id": "d2974e55",
   "metadata": {},
   "source": [
    "cerceve6=cerceve5[,-1] #cerceve5'in birinci sutununu siler. Sonuc cerceve6'ya aktarilir."
   ]
  },
  {
   "cell_type": "code",
   "execution_count": 42,
   "id": "85a74008",
   "metadata": {},
   "outputs": [
    {
     "data": {
      "text/html": [
       "<table>\n",
       "<thead><tr><th scope=col>yas</th><th scope=col>isim</th><th scope=col>sehir</th><th scope=col>okul</th></tr></thead>\n",
       "<tbody>\n",
       "\t<tr><td>25              </td><td>ismail          </td><td>Konya           </td><td>SAU Vakif Koleji</td></tr>\n",
       "\t<tr><td>27              </td><td>Nalan           </td><td>Antalya         </td><td>Ugur            </td></tr>\n",
       "\t<tr><td>38              </td><td>Melek           </td><td>Van             </td><td>Ilke            </td></tr>\n",
       "\t<tr><td>43              </td><td>Tahsin          </td><td>Antalya         </td><td>Sahin           </td></tr>\n",
       "\t<tr><td>50              </td><td>Murat           </td><td>Bolu            </td><td>TED             </td></tr>\n",
       "</tbody>\n",
       "</table>\n"
      ],
      "text/latex": [
       "\\begin{tabular}{r|llll}\n",
       " yas & isim & sehir & okul\\\\\n",
       "\\hline\n",
       "\t 25               & ismail           & Konya            & SAU Vakif Koleji\\\\\n",
       "\t 27               & Nalan            & Antalya          & Ugur            \\\\\n",
       "\t 38               & Melek            & Van              & Ilke            \\\\\n",
       "\t 43               & Tahsin           & Antalya          & Sahin           \\\\\n",
       "\t 50               & Murat            & Bolu             & TED             \\\\\n",
       "\\end{tabular}\n"
      ],
      "text/markdown": [
       "\n",
       "| yas | isim | sehir | okul |\n",
       "|---|---|---|---|\n",
       "| 25               | ismail           | Konya            | SAU Vakif Koleji |\n",
       "| 27               | Nalan            | Antalya          | Ugur             |\n",
       "| 38               | Melek            | Van              | Ilke             |\n",
       "| 43               | Tahsin           | Antalya          | Sahin            |\n",
       "| 50               | Murat            | Bolu             | TED              |\n",
       "\n"
      ],
      "text/plain": [
       "  yas isim   sehir   okul            \n",
       "1 25  ismail Konya   SAU Vakif Koleji\n",
       "2 27  Nalan  Antalya Ugur            \n",
       "3 38  Melek  Van     Ilke            \n",
       "4 43  Tahsin Antalya Sahin           \n",
       "5 50  Murat  Bolu    TED             "
      ]
     },
     "metadata": {},
     "output_type": "display_data"
    }
   ],
   "source": [
    "cerceve5"
   ]
  },
  {
   "cell_type": "code",
   "execution_count": 44,
   "id": "b0eb0831",
   "metadata": {},
   "outputs": [
    {
     "ename": "ERROR",
     "evalue": "Error in eval(expr, envir, enclos): object 'cerceve6' not found\n",
     "output_type": "error",
     "traceback": [
      "Error in eval(expr, envir, enclos): object 'cerceve6' not found\nTraceback:\n"
     ]
    }
   ],
   "source": [
    "cerceve6"
   ]
  },
  {
   "cell_type": "code",
   "execution_count": 45,
   "id": "49fb4bbb",
   "metadata": {},
   "outputs": [
    {
     "data": {
      "text/html": [
       "<table>\n",
       "<thead><tr><th></th><th scope=col>yas</th><th scope=col>isim</th><th scope=col>sehir</th><th scope=col>okul</th></tr></thead>\n",
       "<tbody>\n",
       "\t<tr><th scope=row>1</th><td>25              </td><td>ismail          </td><td>Konya           </td><td>SAU Vakif Koleji</td></tr>\n",
       "\t<tr><th scope=row>3</th><td>38              </td><td>Melek           </td><td>Van             </td><td>Ilke            </td></tr>\n",
       "\t<tr><th scope=row>4</th><td>43              </td><td>Tahsin          </td><td>Antalya         </td><td>Sahin           </td></tr>\n",
       "\t<tr><th scope=row>5</th><td>50              </td><td>Murat           </td><td>Bolu            </td><td>TED             </td></tr>\n",
       "</tbody>\n",
       "</table>\n"
      ],
      "text/latex": [
       "\\begin{tabular}{r|llll}\n",
       "  & yas & isim & sehir & okul\\\\\n",
       "\\hline\n",
       "\t1 & 25               & ismail           & Konya            & SAU Vakif Koleji\\\\\n",
       "\t3 & 38               & Melek            & Van              & Ilke            \\\\\n",
       "\t4 & 43               & Tahsin           & Antalya          & Sahin           \\\\\n",
       "\t5 & 50               & Murat            & Bolu             & TED             \\\\\n",
       "\\end{tabular}\n"
      ],
      "text/markdown": [
       "\n",
       "| <!--/--> | yas | isim | sehir | okul |\n",
       "|---|---|---|---|---|\n",
       "| 1 | 25               | ismail           | Konya            | SAU Vakif Koleji |\n",
       "| 3 | 38               | Melek            | Van              | Ilke             |\n",
       "| 4 | 43               | Tahsin           | Antalya          | Sahin            |\n",
       "| 5 | 50               | Murat            | Bolu             | TED              |\n",
       "\n"
      ],
      "text/plain": [
       "  yas isim   sehir   okul            \n",
       "1 25  ismail Konya   SAU Vakif Koleji\n",
       "3 38  Melek  Van     Ilke            \n",
       "4 43  Tahsin Antalya Sahin           \n",
       "5 50  Murat  Bolu    TED             "
      ]
     },
     "metadata": {},
     "output_type": "display_data"
    }
   ],
   "source": [
    "cerceve5[-2,] #ikinci satirini siler"
   ]
  },
  {
   "cell_type": "code",
   "execution_count": 46,
   "id": "7660d273",
   "metadata": {},
   "outputs": [
    {
     "data": {
      "text/html": [
       "<table>\n",
       "<thead><tr><th scope=col>isim</th><th scope=col>okul</th></tr></thead>\n",
       "<tbody>\n",
       "\t<tr><td>ismail          </td><td>SAU Vakif Koleji</td></tr>\n",
       "\t<tr><td>Nalan           </td><td>Ugur            </td></tr>\n",
       "\t<tr><td>Melek           </td><td>Ilke            </td></tr>\n",
       "\t<tr><td>Tahsin          </td><td>Sahin           </td></tr>\n",
       "\t<tr><td>Murat           </td><td>TED             </td></tr>\n",
       "</tbody>\n",
       "</table>\n"
      ],
      "text/latex": [
       "\\begin{tabular}{r|ll}\n",
       " isim & okul\\\\\n",
       "\\hline\n",
       "\t ismail           & SAU Vakif Koleji\\\\\n",
       "\t Nalan            & Ugur            \\\\\n",
       "\t Melek            & Ilke            \\\\\n",
       "\t Tahsin           & Sahin           \\\\\n",
       "\t Murat            & TED             \\\\\n",
       "\\end{tabular}\n"
      ],
      "text/markdown": [
       "\n",
       "| isim | okul |\n",
       "|---|---|\n",
       "| ismail           | SAU Vakif Koleji |\n",
       "| Nalan            | Ugur             |\n",
       "| Melek            | Ilke             |\n",
       "| Tahsin           | Sahin            |\n",
       "| Murat            | TED              |\n",
       "\n"
      ],
      "text/plain": [
       "  isim   okul            \n",
       "1 ismail SAU Vakif Koleji\n",
       "2 Nalan  Ugur            \n",
       "3 Melek  Ilke            \n",
       "4 Tahsin Sahin           \n",
       "5 Murat  TED             "
      ]
     },
     "metadata": {},
     "output_type": "display_data"
    }
   ],
   "source": [
    "cerceve5[,-c(1,3)] #1. ve 3. sutun silinir."
   ]
  },
  {
   "cell_type": "code",
   "execution_count": 47,
   "id": "7e2451ad",
   "metadata": {},
   "outputs": [
    {
     "data": {
      "text/html": [
       "<table>\n",
       "<thead><tr><th scope=col>yas</th><th scope=col>isim</th><th scope=col>sehir</th><th scope=col>okul</th></tr></thead>\n",
       "<tbody>\n",
       "\t<tr><td>25              </td><td>ismail          </td><td>Konya           </td><td>SAU Vakif Koleji</td></tr>\n",
       "\t<tr><td>27              </td><td>Nalan           </td><td>Antalya         </td><td>Ugur            </td></tr>\n",
       "\t<tr><td>38              </td><td>Melek           </td><td>Van             </td><td>Ilke            </td></tr>\n",
       "\t<tr><td>43              </td><td>Tahsin          </td><td>Antalya         </td><td>Sahin           </td></tr>\n",
       "\t<tr><td>50              </td><td>Murat           </td><td>Bolu            </td><td>TED             </td></tr>\n",
       "</tbody>\n",
       "</table>\n"
      ],
      "text/latex": [
       "\\begin{tabular}{r|llll}\n",
       " yas & isim & sehir & okul\\\\\n",
       "\\hline\n",
       "\t 25               & ismail           & Konya            & SAU Vakif Koleji\\\\\n",
       "\t 27               & Nalan            & Antalya          & Ugur            \\\\\n",
       "\t 38               & Melek            & Van              & Ilke            \\\\\n",
       "\t 43               & Tahsin           & Antalya          & Sahin           \\\\\n",
       "\t 50               & Murat            & Bolu             & TED             \\\\\n",
       "\\end{tabular}\n"
      ],
      "text/markdown": [
       "\n",
       "| yas | isim | sehir | okul |\n",
       "|---|---|---|---|\n",
       "| 25               | ismail           | Konya            | SAU Vakif Koleji |\n",
       "| 27               | Nalan            | Antalya          | Ugur             |\n",
       "| 38               | Melek            | Van              | Ilke             |\n",
       "| 43               | Tahsin           | Antalya          | Sahin            |\n",
       "| 50               | Murat            | Bolu             | TED              |\n",
       "\n"
      ],
      "text/plain": [
       "  yas isim   sehir   okul            \n",
       "1 25  ismail Konya   SAU Vakif Koleji\n",
       "2 27  Nalan  Antalya Ugur            \n",
       "3 38  Melek  Van     Ilke            \n",
       "4 43  Tahsin Antalya Sahin           \n",
       "5 50  Murat  Bolu    TED             "
      ]
     },
     "metadata": {},
     "output_type": "display_data"
    }
   ],
   "source": [
    "cerceve5"
   ]
  },
  {
   "cell_type": "code",
   "execution_count": 48,
   "id": "a2dac7c9",
   "metadata": {},
   "outputs": [
    {
     "data": {
      "text/html": [
       "<table>\n",
       "<thead><tr><th></th><th scope=col>yas</th><th scope=col>isim</th><th scope=col>sehir</th><th scope=col>okul</th></tr></thead>\n",
       "<tbody>\n",
       "\t<tr><th scope=row>1</th><td>25              </td><td>ismail          </td><td>Konya           </td><td>SAU Vakif Koleji</td></tr>\n",
       "\t<tr><th scope=row>3</th><td>38              </td><td>Melek           </td><td>Van             </td><td>Ilke            </td></tr>\n",
       "\t<tr><th scope=row>5</th><td>50              </td><td>Murat           </td><td>Bolu            </td><td>TED             </td></tr>\n",
       "</tbody>\n",
       "</table>\n"
      ],
      "text/latex": [
       "\\begin{tabular}{r|llll}\n",
       "  & yas & isim & sehir & okul\\\\\n",
       "\\hline\n",
       "\t1 & 25               & ismail           & Konya            & SAU Vakif Koleji\\\\\n",
       "\t3 & 38               & Melek            & Van              & Ilke            \\\\\n",
       "\t5 & 50               & Murat            & Bolu             & TED             \\\\\n",
       "\\end{tabular}\n"
      ],
      "text/markdown": [
       "\n",
       "| <!--/--> | yas | isim | sehir | okul |\n",
       "|---|---|---|---|---|\n",
       "| 1 | 25               | ismail           | Konya            | SAU Vakif Koleji |\n",
       "| 3 | 38               | Melek            | Van              | Ilke             |\n",
       "| 5 | 50               | Murat            | Bolu             | TED              |\n",
       "\n"
      ],
      "text/plain": [
       "  yas isim   sehir okul            \n",
       "1 25  ismail Konya SAU Vakif Koleji\n",
       "3 38  Melek  Van   Ilke            \n",
       "5 50  Murat  Bolu  TED             "
      ]
     },
     "metadata": {},
     "output_type": "display_data"
    }
   ],
   "source": [
    "cerceve5[-c(2,4),] #2. ve 4. satirlari silinir."
   ]
  },
  {
   "cell_type": "code",
   "execution_count": null,
   "id": "671cd8bf",
   "metadata": {},
   "outputs": [],
   "source": []
  }
 ],
 "metadata": {
  "kernelspec": {
   "display_name": "R",
   "language": "R",
   "name": "ir"
  },
  "language_info": {
   "codemirror_mode": "r",
   "file_extension": ".r",
   "mimetype": "text/x-r-source",
   "name": "R",
   "pygments_lexer": "r",
   "version": "3.6.1"
  }
 },
 "nbformat": 4,
 "nbformat_minor": 5
}
