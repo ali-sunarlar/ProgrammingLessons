{
 "cells": [
  {
   "cell_type": "code",
   "execution_count": 1,
   "id": "3a764a2b",
   "metadata": {},
   "outputs": [
    {
     "data": {
      "text/html": [
       "<table>\n",
       "<tbody>\n",
       "\t<tr><td>7</td><td>3</td></tr>\n",
       "\t<tr><td>4</td><td>5</td></tr>\n",
       "\t<tr><td>2</td><td>4</td></tr>\n",
       "\t<tr><td>0</td><td>1</td></tr>\n",
       "\t<tr><td>9</td><td>7</td></tr>\n",
       "\t<tr><td>6</td><td>8</td></tr>\n",
       "</tbody>\n",
       "</table>\n"
      ],
      "text/latex": [
       "\\begin{tabular}{ll}\n",
       "\t 7 & 3\\\\\n",
       "\t 4 & 5\\\\\n",
       "\t 2 & 4\\\\\n",
       "\t 0 & 1\\\\\n",
       "\t 9 & 7\\\\\n",
       "\t 6 & 8\\\\\n",
       "\\end{tabular}\n"
      ],
      "text/markdown": [
       "\n",
       "| 7 | 3 |\n",
       "| 4 | 5 |\n",
       "| 2 | 4 |\n",
       "| 0 | 1 |\n",
       "| 9 | 7 |\n",
       "| 6 | 8 |\n",
       "\n"
      ],
      "text/plain": [
       "     [,1] [,2]\n",
       "[1,] 7    3   \n",
       "[2,] 4    5   \n",
       "[3,] 2    4   \n",
       "[4,] 0    1   \n",
       "[5,] 9    7   \n",
       "[6,] 6    8   "
      ]
     },
     "metadata": {},
     "output_type": "display_data"
    }
   ],
   "source": [
    "veri=matrix(c(7,4,2,0,9,6,3,5,4,1,7,8), nrow = 6) \n",
    "veri "
   ]
  },
  {
   "cell_type": "code",
   "execution_count": 2,
   "id": "6f8e7dfb",
   "metadata": {},
   "outputs": [
    {
     "data": {
      "text/plain": [
       "      1     2     3     4     5\n",
       "2  3.61                        \n",
       "3  5.10  2.24                  \n",
       "4  7.28  5.66  3.61            \n",
       "5  4.47  5.39  7.62 10.82      \n",
       "6  5.10  3.61  5.66  9.22  3.16"
      ]
     },
     "metadata": {},
     "output_type": "display_data"
    }
   ],
   "source": [
    "round (dist (veri), 2) "
   ]
  },
  {
   "cell_type": "code",
   "execution_count": 3,
   "id": "3baadcff",
   "metadata": {},
   "outputs": [],
   "source": [
    "# 5 ve 6 veri setinin başlangıç merkezi olarak alınıyor. A \n",
    "# Algoritma olarak \"Lloyd\" un k-means yaklaşımı seçilmiştir. \n",
    "res.k=kmeans (veri,\n",
    "\n",
    "centers=veri[c(5,6),],\n",
    "\n",
    "algorithm=\"Lloyd\") "
   ]
  },
  {
   "cell_type": "code",
   "execution_count": 4,
   "id": "134a0c84",
   "metadata": {},
   "outputs": [
    {
     "data": {
      "text/plain": [
       "K-means clustering with 2 clusters of sizes 3, 3\n",
       "\n",
       "Cluster means:\n",
       "      [,1]     [,2]\n",
       "1 7.333333 6.000000\n",
       "2 2.000000 3.333333\n",
       "\n",
       "Clustering vector:\n",
       "[1] 1 2 2 2 1 1\n",
       "\n",
       "Within cluster sum of squares by cluster:\n",
       "[1] 18.66667 16.66667\n",
       " (between_SS / total_SS =  60.2 %)\n",
       "\n",
       "Available components:\n",
       "\n",
       "[1] \"cluster\"      \"centers\"      \"totss\"        \"withinss\"     \"tot.withinss\"\n",
       "[6] \"betweenss\"    \"size\"         \"iter\"         \"ifault\"      "
      ]
     },
     "metadata": {},
     "output_type": "display_data"
    }
   ],
   "source": [
    "res.k #kume merkezleri olusturuluyor"
   ]
  },
  {
   "cell_type": "code",
   "execution_count": 5,
   "id": "db8cc380",
   "metadata": {},
   "outputs": [
    {
     "data": {
      "text/html": [
       "<ol class=list-inline>\n",
       "\t<li>1</li>\n",
       "\t<li>2</li>\n",
       "\t<li>2</li>\n",
       "\t<li>2</li>\n",
       "\t<li>1</li>\n",
       "\t<li>1</li>\n",
       "</ol>\n"
      ],
      "text/latex": [
       "\\begin{enumerate*}\n",
       "\\item 1\n",
       "\\item 2\n",
       "\\item 2\n",
       "\\item 2\n",
       "\\item 1\n",
       "\\item 1\n",
       "\\end{enumerate*}\n"
      ],
      "text/markdown": [
       "1. 1\n",
       "2. 2\n",
       "3. 2\n",
       "4. 2\n",
       "5. 1\n",
       "6. 1\n",
       "\n",
       "\n"
      ],
      "text/plain": [
       "[1] 1 2 2 2 1 1"
      ]
     },
     "metadata": {},
     "output_type": "display_data"
    }
   ],
   "source": [
    "res.k$cluster #Verilerin atanmış oldukları kümeler görüntüleniyor "
   ]
  },
  {
   "cell_type": "code",
   "execution_count": 6,
   "id": "eda9b214",
   "metadata": {},
   "outputs": [
    {
     "data": {
      "text/html": [
       "<table>\n",
       "<tbody>\n",
       "\t<tr><td>7.33</td><td>6.00</td></tr>\n",
       "\t<tr><td>2.00</td><td>3.33</td></tr>\n",
       "</tbody>\n",
       "</table>\n"
      ],
      "text/latex": [
       "\\begin{tabular}{r|ll}\n",
       "\t 7.33 & 6.00\\\\\n",
       "\t 2.00 & 3.33\\\\\n",
       "\\end{tabular}\n"
      ],
      "text/markdown": [
       "\n",
       "| 7.33 | 6.00 |\n",
       "| 2.00 | 3.33 |\n",
       "\n"
      ],
      "text/plain": [
       "  [,1] [,2]\n",
       "1 7.33 6.00\n",
       "2 2.00 3.33"
      ]
     },
     "metadata": {},
     "output_type": "display_data"
    }
   ],
   "source": [
    "round (res.k$centers,digits=2) #Oluşan kümelerin final merkezleri belirleniyor. "
   ]
  },
  {
   "cell_type": "code",
   "execution_count": 8,
   "id": "481b3d45",
   "metadata": {},
   "outputs": [
    {
     "data": {
      "text/html": [
       "0.602"
      ],
      "text/latex": [
       "0.602"
      ],
      "text/markdown": [
       "0.602"
      ],
      "text/plain": [
       "[1] 0.602"
      ]
     },
     "metadata": {},
     "output_type": "display_data"
    }
   ],
   "source": [
    "#Kumelemenin başarısı için BSS/TSS' ye bölünür. \n",
    "round (res.k$betweenss/res.k$totss, 3) "
   ]
  },
  {
   "cell_type": "code",
   "execution_count": 9,
   "id": "58971968",
   "metadata": {},
   "outputs": [],
   "source": [
    "# Verinin Yiklenmesi \n",
    "data (iris) "
   ]
  },
  {
   "cell_type": "code",
   "execution_count": 10,
   "id": "659c70c7",
   "metadata": {},
   "outputs": [
    {
     "data": {
      "text/html": [
       "<table>\n",
       "<thead><tr><th scope=col>Sepal.Length</th><th scope=col>Sepal.Width</th><th scope=col>Petal.Length</th><th scope=col>Petal.Width</th><th scope=col>Species</th></tr></thead>\n",
       "<tbody>\n",
       "\t<tr><td>5.1   </td><td>3.5   </td><td>1.4   </td><td>0.2   </td><td>setosa</td></tr>\n",
       "\t<tr><td>4.9   </td><td>3.0   </td><td>1.4   </td><td>0.2   </td><td>setosa</td></tr>\n",
       "\t<tr><td>4.7   </td><td>3.2   </td><td>1.3   </td><td>0.2   </td><td>setosa</td></tr>\n",
       "\t<tr><td>4.6   </td><td>3.1   </td><td>1.5   </td><td>0.2   </td><td>setosa</td></tr>\n",
       "\t<tr><td>5.0   </td><td>3.6   </td><td>1.4   </td><td>0.2   </td><td>setosa</td></tr>\n",
       "\t<tr><td>5.4   </td><td>3.9   </td><td>1.7   </td><td>0.4   </td><td>setosa</td></tr>\n",
       "</tbody>\n",
       "</table>\n"
      ],
      "text/latex": [
       "\\begin{tabular}{r|lllll}\n",
       " Sepal.Length & Sepal.Width & Petal.Length & Petal.Width & Species\\\\\n",
       "\\hline\n",
       "\t 5.1    & 3.5    & 1.4    & 0.2    & setosa\\\\\n",
       "\t 4.9    & 3.0    & 1.4    & 0.2    & setosa\\\\\n",
       "\t 4.7    & 3.2    & 1.3    & 0.2    & setosa\\\\\n",
       "\t 4.6    & 3.1    & 1.5    & 0.2    & setosa\\\\\n",
       "\t 5.0    & 3.6    & 1.4    & 0.2    & setosa\\\\\n",
       "\t 5.4    & 3.9    & 1.7    & 0.4    & setosa\\\\\n",
       "\\end{tabular}\n"
      ],
      "text/markdown": [
       "\n",
       "| Sepal.Length | Sepal.Width | Petal.Length | Petal.Width | Species |\n",
       "|---|---|---|---|---|\n",
       "| 5.1    | 3.5    | 1.4    | 0.2    | setosa |\n",
       "| 4.9    | 3.0    | 1.4    | 0.2    | setosa |\n",
       "| 4.7    | 3.2    | 1.3    | 0.2    | setosa |\n",
       "| 4.6    | 3.1    | 1.5    | 0.2    | setosa |\n",
       "| 5.0    | 3.6    | 1.4    | 0.2    | setosa |\n",
       "| 5.4    | 3.9    | 1.7    | 0.4    | setosa |\n",
       "\n"
      ],
      "text/plain": [
       "  Sepal.Length Sepal.Width Petal.Length Petal.Width Species\n",
       "1 5.1          3.5         1.4          0.2         setosa \n",
       "2 4.9          3.0         1.4          0.2         setosa \n",
       "3 4.7          3.2         1.3          0.2         setosa \n",
       "4 4.6          3.1         1.5          0.2         setosa \n",
       "5 5.0          3.6         1.4          0.2         setosa \n",
       "6 5.4          3.9         1.7          0.4         setosa "
      ]
     },
     "metadata": {},
     "output_type": "display_data"
    }
   ],
   "source": [
    "head (iris) # verinin ilk 6 satırının görüntülenmesi "
   ]
  },
  {
   "cell_type": "code",
   "execution_count": 11,
   "id": "fbae110a",
   "metadata": {},
   "outputs": [
    {
     "name": "stdout",
     "output_type": "stream",
     "text": [
      "'data.frame':\t150 obs. of  5 variables:\n",
      " $ Sepal.Length: num  5.1 4.9 4.7 4.6 5 5.4 4.6 5 4.4 4.9 ...\n",
      " $ Sepal.Width : num  3.5 3 3.2 3.1 3.6 3.9 3.4 3.4 2.9 3.1 ...\n",
      " $ Petal.Length: num  1.4 1.4 1.3 1.5 1.4 1.7 1.4 1.5 1.4 1.5 ...\n",
      " $ Petal.Width : num  0.2 0.2 0.2 0.2 0.2 0.4 0.3 0.2 0.2 0.1 ...\n",
      " $ Species     : Factor w/ 3 levels \"setosa\",\"versicolor\",..: 1 1 1 1 1 1 1 1 1 1 ...\n"
     ]
    }
   ],
   "source": [
    "str(iris) # verinin tim alt özelliklerinin görüntülenmesi "
   ]
  },
  {
   "cell_type": "code",
   "execution_count": 15,
   "id": "02e20269",
   "metadata": {},
   "outputs": [
    {
     "name": "stderr",
     "output_type": "stream",
     "text": [
      "Warning message in install.packages(\"clusterR\"):\n",
      "\"'lib = \"C:/ProgramData/anaconda3/envs/R_ile_Veri_Analizi/Lib/R/library\"' is not writable\""
     ]
    },
    {
     "ename": "ERROR",
     "evalue": "Error in install.packages(\"clusterR\"): unable to install packages\n",
     "output_type": "error",
     "traceback": [
      "Error in install.packages(\"clusterR\"): unable to install packages\nTraceback:\n",
      "1. install.packages(\"clusterR\")",
      "2. stop(\"unable to install packages\")"
     ]
    }
   ],
   "source": [
    "# Gerekli paketlerin kurulması \n",
    "install.packages (\"clusterR\") \n",
    "install.packages (\"cluster\") "
   ]
  },
  {
   "cell_type": "code",
   "execution_count": 16,
   "id": "0fd7ce94",
   "metadata": {},
   "outputs": [
    {
     "ename": "ERROR",
     "evalue": "Error in library(clusterR): there is no package called 'clusterR'\n",
     "output_type": "error",
     "traceback": [
      "Error in library(clusterR): there is no package called 'clusterR'\nTraceback:\n",
      "1. library(clusterR)"
     ]
    }
   ],
   "source": [
    "# Kurulan paketlerin yüklenmesi \n",
    "library(clusterR) \n",
    "library(cluster) "
   ]
  },
  {
   "cell_type": "code",
   "execution_count": 17,
   "id": "8f00edd9",
   "metadata": {},
   "outputs": [
    {
     "data": {
      "text/html": [
       "<table>\n",
       "<thead><tr><th scope=col>Sepal.Length</th><th scope=col>Sepal.Width</th><th scope=col>Petal.Length</th><th scope=col>Petal.Width</th></tr></thead>\n",
       "<tbody>\n",
       "\t<tr><td>5.1</td><td>3.5</td><td>1.4</td><td>0.2</td></tr>\n",
       "\t<tr><td>4.9</td><td>3.0</td><td>1.4</td><td>0.2</td></tr>\n",
       "\t<tr><td>4.7</td><td>3.2</td><td>1.3</td><td>0.2</td></tr>\n",
       "\t<tr><td>4.6</td><td>3.1</td><td>1.5</td><td>0.2</td></tr>\n",
       "\t<tr><td>5.0</td><td>3.6</td><td>1.4</td><td>0.2</td></tr>\n",
       "\t<tr><td>5.4</td><td>3.9</td><td>1.7</td><td>0.4</td></tr>\n",
       "</tbody>\n",
       "</table>\n"
      ],
      "text/latex": [
       "\\begin{tabular}{r|llll}\n",
       " Sepal.Length & Sepal.Width & Petal.Length & Petal.Width\\\\\n",
       "\\hline\n",
       "\t 5.1 & 3.5 & 1.4 & 0.2\\\\\n",
       "\t 4.9 & 3.0 & 1.4 & 0.2\\\\\n",
       "\t 4.7 & 3.2 & 1.3 & 0.2\\\\\n",
       "\t 4.6 & 3.1 & 1.5 & 0.2\\\\\n",
       "\t 5.0 & 3.6 & 1.4 & 0.2\\\\\n",
       "\t 5.4 & 3.9 & 1.7 & 0.4\\\\\n",
       "\\end{tabular}\n"
      ],
      "text/markdown": [
       "\n",
       "| Sepal.Length | Sepal.Width | Petal.Length | Petal.Width |\n",
       "|---|---|---|---|\n",
       "| 5.1 | 3.5 | 1.4 | 0.2 |\n",
       "| 4.9 | 3.0 | 1.4 | 0.2 |\n",
       "| 4.7 | 3.2 | 1.3 | 0.2 |\n",
       "| 4.6 | 3.1 | 1.5 | 0.2 |\n",
       "| 5.0 | 3.6 | 1.4 | 0.2 |\n",
       "| 5.4 | 3.9 | 1.7 | 0.4 |\n",
       "\n"
      ],
      "text/plain": [
       "  Sepal.Length Sepal.Width Petal.Length Petal.Width\n",
       "1 5.1          3.5         1.4          0.2        \n",
       "2 4.9          3.0         1.4          0.2        \n",
       "3 4.7          3.2         1.3          0.2        \n",
       "4 4.6          3.1         1.5          0.2        \n",
       "5 5.0          3.6         1.4          0.2        \n",
       "6 5.4          3.9         1.7          0.4        "
      ]
     },
     "metadata": {},
     "output_type": "display_data"
    }
   ],
   "source": [
    "# Orijinal veriden \"Species\" etiketli sütunun silinmesi \n",
    "iris1=iris[, -5] \n",
    "head (iris1) "
   ]
  },
  {
   "cell_type": "code",
   "execution_count": 18,
   "id": "3149ce69",
   "metadata": {},
   "outputs": [
    {
     "data": {
      "text/plain": [
       "K-means clustering with 3 clusters of sizes 50, 62, 38\n",
       "\n",
       "Cluster means:\n",
       "  Sepal.Length Sepal.Width Petal.Length Petal.Width\n",
       "1     5.006000    3.428000     1.462000    0.246000\n",
       "2     5.901613    2.748387     4.393548    1.433871\n",
       "3     6.850000    3.073684     5.742105    2.071053\n",
       "\n",
       "Clustering vector:\n",
       "  [1] 1 1 1 1 1 1 1 1 1 1 1 1 1 1 1 1 1 1 1 1 1 1 1 1 1 1 1 1 1 1 1 1 1 1 1 1 1\n",
       " [38] 1 1 1 1 1 1 1 1 1 1 1 1 1 2 2 3 2 2 2 2 2 2 2 2 2 2 2 2 2 2 2 2 2 2 2 2 2\n",
       " [75] 2 2 2 3 2 2 2 2 2 2 2 2 2 2 2 2 2 2 2 2 2 2 2 2 2 2 3 2 3 3 3 3 2 3 3 3 3\n",
       "[112] 3 3 2 2 3 3 3 3 2 3 2 3 2 3 3 2 2 3 3 3 3 3 2 3 3 3 3 2 3 3 3 2 3 3 3 2 3\n",
       "[149] 3 2\n",
       "\n",
       "Within cluster sum of squares by cluster:\n",
       "[1] 15.15100 39.82097 23.87947\n",
       " (between_SS / total_SS =  88.4 %)\n",
       "\n",
       "Available components:\n",
       "\n",
       "[1] \"cluster\"      \"centers\"      \"totss\"        \"withinss\"     \"tot.withinss\"\n",
       "[6] \"betweenss\"    \"size\"         \"iter\"         \"ifault\"      "
      ]
     },
     "metadata": {},
     "output_type": "display_data"
    }
   ],
   "source": [
    "# Veri setinin eğitilmesi için K-means kümeleme algoritmasının uydurulması\n",
    "\n",
    "set.seed(240) # Seed değerinin ayarlanması\n",
    "\n",
    "# nstart seçeneği, birden çok ilk yapılandırmayı dener ve en iyisi hakkında rapor verir. # Örneğin, nstart=20 eklemek, başlangıçta 20 rastgele merkez noktası oluşturur.\n",
    "\n",
    "# Daha sonra algoritma için en iyisini seçer.\n",
    "\n",
    "kmeans.kumele=kmeans(iris1, centers = 3, nstart = 20)\n",
    "\n",
    "kmeans.kumele"
   ]
  },
  {
   "cell_type": "code",
   "execution_count": 20,
   "id": "6e4cb141",
   "metadata": {},
   "outputs": [
    {
     "ename": "ERROR",
     "evalue": "Error in eval(expr, envir, enclos): object 'kmeans.kumeler' not found\n",
     "output_type": "error",
     "traceback": [
      "Error in eval(expr, envir, enclos): object 'kmeans.kumeler' not found\nTraceback:\n"
     ]
    }
   ],
   "source": [
    "# Herbir gözlem için kümelerin tanımlanması \n",
    "kmeans.kumeler$cluster"
   ]
  },
  {
   "cell_type": "code",
   "execution_count": 21,
   "id": "0d6ff233",
   "metadata": {},
   "outputs": [
    {
     "ename": "ERROR",
     "evalue": "Error in table(iris$Species, kmeans.kumeler$cluster): object 'kmeans.kumeler' not found\n",
     "output_type": "error",
     "traceback": [
      "Error in table(iris$Species, kmeans.kumeler$cluster): object 'kmeans.kumeler' not found\nTraceback:\n",
      "1. table(iris$Species, kmeans.kumeler$cluster)"
     ]
    }
   ],
   "source": [
    "# Karmaşıklık Matrisi \n",
    "karmasiklik_matrisi=table(iris$Species, kmeans.kumeler$cluster) \n",
    "karmasiklik_matrisi "
   ]
  },
  {
   "cell_type": "code",
   "execution_count": 26,
   "id": "ec929378",
   "metadata": {},
   "outputs": [
    {
     "data": {
      "image/png": "[encoded data removed]",
      "text/plain": [
       "plot without title"
      ]
     },
     "metadata": {},
     "output_type": "display_data"
    }
   ],
   "source": [
    "# Modelin Dejerlendirilmesi ve Görselleştirme \n",
    "plot(iris1[c(\"Sepal.Length\", \"Sepal.Width\")])"
   ]
  },
  {
   "cell_type": "code",
   "execution_count": 27,
   "id": "3aa6e998",
   "metadata": {},
   "outputs": [
    {
     "ename": "ERROR",
     "evalue": "Error in plot.xy(xy, type, ...): object 'kmeans.kumeler' not found\n",
     "output_type": "error",
     "traceback": [
      "Error in plot.xy(xy, type, ...): object 'kmeans.kumeler' not found\nTraceback:\n",
      "1. plot(iris1[c(\"Sepal.Length\", \"Sepal.Width\")], col = kmeans.kumeler$cluster, \n .     main = \"K-means ile Olugan 3 Kime\")",
      "2. plot.data.frame(iris1[c(\"Sepal.Length\", \"Sepal.Width\")], col = kmeans.kumeler$cluster, \n .     main = \"K-means ile Olugan 3 Kime\")",
      "3. plot2(x, ...)",
      "4. plot(x[[1L]], x[[2L]], xlab = xlab, ylab = ylab, ...)",
      "5. plot.default(x[[1L]], x[[2L]], xlab = xlab, ylab = ylab, ...)",
      "6. plot.xy(xy, type, ...)"
     ]
    },
    {
     "data": {
      "image/png": "[encoded data removed]",
      "text/plain": [
       "plot without title"
      ]
     },
     "metadata": {},
     "output_type": "display_data"
    }
   ],
   "source": [
    "plot (iris1[c(\"Sepal.Length\", \"Sepal.Width\")], \n",
    "      col = kmeans.kumeler$cluster, \n",
    "      main = \"K-means ile Olugan 3 Kime\") "
   ]
  },
  {
   "cell_type": "code",
   "execution_count": 28,
   "id": "e4420b2e",
   "metadata": {},
   "outputs": [
    {
     "ename": "ERROR",
     "evalue": "Error in parse(text = x, srcfile = src): <text>:3:58: unexpected ']'\n2: kmeans.kumeler$centers \n3: kmeans.kumeler$centers(, c(\"Sepal.length\", \"Sepal.Width\")]\n                                                            ^\n",
     "output_type": "error",
     "traceback": [
      "Error in parse(text = x, srcfile = src): <text>:3:58: unexpected ']'\n2: kmeans.kumeler$centers \n3: kmeans.kumeler$centers(, c(\"Sepal.length\", \"Sepal.Width\")]\n                                                            ^\nTraceback:\n"
     ]
    }
   ],
   "source": [
    "# Kime Merkezlerinin (Cizdirilmesi \n",
    "kmeans.kumeler$centers \n",
    "kmeans.kumeler$centers(, c(\"Sepal.length\", \"Sepal.Width\")] "
   ]
  },
  {
   "cell_type": "code",
   "execution_count": 29,
   "id": "b93ae3c2",
   "metadata": {},
   "outputs": [
    {
     "ename": "ERROR",
     "evalue": "Error in parse(text = x, srcfile = src): <text>:3:17: unexpected '['\n2: y_kmeans <- kmeans.kumelerjcluster \n3: clusplot (irisl([\n                   ^\n",
     "output_type": "error",
     "traceback": [
      "Error in parse(text = x, srcfile = src): <text>:3:17: unexpected '['\n2: y_kmeans <- kmeans.kumelerjcluster \n3: clusplot (irisl([\n                   ^\nTraceback:\n"
     ]
    }
   ],
   "source": [
    "# Kimelerin Gorselleztirilmesi \n",
    "y_kmeans <- kmeans.kumelerjcluster \n",
    "clusplot (irisl([, c(\"Sepal.length®, \"Sepal.Wideh\")), \n",
    "            y_kmeans, \n",
    "            lines = 1, #Kime Merkeslerini İşaretler \n",
    "            shade = TRUE, \n",
    "            color = TRUE, \n",
    "            labels = 2, \n",
    "            plotchar = FALSE, \n",
    "            span = TRUE, \n",
    "            main = paste (\"Iris Verisinin Kümeleri\"), \n",
    "            xlab = 'Sepal.length', \n",
    "            ylab = 'Sepal.¥Width') "
   ]
  },
  {
   "cell_type": "code",
   "execution_count": null,
   "id": "3206f89a",
   "metadata": {},
   "outputs": [],
   "source": []
  }
 ],
 "metadata": {
  "kernelspec": {
   "display_name": "R",
   "language": "R",
   "name": "ir"
  },
  "language_info": {
   "codemirror_mode": "r",
   "file_extension": ".r",
   "mimetype": "text/x-r-source",
   "name": "R",
   "pygments_lexer": "r",
   "version": "3.6.1"
  }
 },
 "nbformat": 4,
 "nbformat_minor": 5
}
