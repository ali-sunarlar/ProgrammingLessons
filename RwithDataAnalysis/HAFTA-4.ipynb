{
 "cells": [
  {
   "cell_type": "code",
   "execution_count": 1,
   "id": "4ce4c62b",
   "metadata": {},
   "outputs": [],
   "source": [
    "#Vektör Oluşturma\n",
    "v=c(1,8,10,3,5,1,18) # v adlı tamsayılı bir vektör oluşturuldu\n",
    "assign(\"v1\",c(10,20,30,40,50)) # \"v1\" adlı bir vektör oluşturuldu"
   ]
  },
  {
   "cell_type": "code",
   "execution_count": 3,
   "id": "77bd327d",
   "metadata": {
    "scrolled": true
   },
   "outputs": [
    {
     "name": "stdout",
     "output_type": "stream",
     "text": [
      "[1]  1  8 10  3  5  1 18\n",
      "[1] 10 20 30 40 50\n"
     ]
    }
   ],
   "source": [
    "print(v)\n",
    "print(v1)"
   ]
  },
  {
   "cell_type": "code",
   "execution_count": 5,
   "id": "c6bff0d7",
   "metadata": {},
   "outputs": [],
   "source": [
    "#Bir vektör başka bir vektör içerisinde veri olarak kullanılabilir\n",
    "v2=c(-1,-2,-3,-4,-5)\n",
    "w=c(10,20,v2)     #v2 vektörü w vektörü içerisine dahil edildi"
   ]
  },
  {
   "cell_type": "code",
   "execution_count": 6,
   "id": "4f29f8db",
   "metadata": {},
   "outputs": [
    {
     "name": "stdout",
     "output_type": "stream",
     "text": [
      "[1] -1 -2 -3 -4 -5\n",
      "[1] 10 20 -1 -2 -3 -4 -5\n"
     ]
    }
   ],
   "source": [
    "print(v2)\n",
    "print(w)"
   ]
  },
  {
   "cell_type": "markdown",
   "id": "5e2f8105",
   "metadata": {},
   "source": [
    "# Farklı Değerler içeren Vektör Oluşturma"
   ]
  },
  {
   "cell_type": "code",
   "execution_count": 11,
   "id": "9787fd93",
   "metadata": {},
   "outputs": [
    {
     "name": "stdout",
     "output_type": "stream",
     "text": [
      "[1] \"61\"                 \"3.14\"               \"R ile Veri Analizi\"\n",
      "[4] \"TRUE\"              \n"
     ]
    }
   ],
   "source": [
    "vektor4=c(61,3.14,\"R ile Veri Analizi\",TRUE)\n",
    "print(vektor4)"
   ]
  },
  {
   "cell_type": "code",
   "execution_count": 8,
   "id": "d421ffa5",
   "metadata": {},
   "outputs": [
    {
     "data": {
      "text/html": [
       "<ol class=list-inline>\n",
       "\t<li>'61'</li>\n",
       "\t<li>'3.14'</li>\n",
       "\t<li>'R ile Veri Analizi'</li>\n",
       "\t<li>'TRUE'</li>\n",
       "</ol>\n"
      ],
      "text/latex": [
       "\\begin{enumerate*}\n",
       "\\item '61'\n",
       "\\item '3.14'\n",
       "\\item 'R ile Veri Analizi'\n",
       "\\item 'TRUE'\n",
       "\\end{enumerate*}\n"
      ],
      "text/markdown": [
       "1. '61'\n",
       "2. '3.14'\n",
       "3. 'R ile Veri Analizi'\n",
       "4. 'TRUE'\n",
       "\n",
       "\n"
      ],
      "text/plain": [
       "[1] \"61\"                 \"3.14\"               \"R ile Veri Analizi\"\n",
       "[4] \"TRUE\"              "
      ]
     },
     "metadata": {},
     "output_type": "display_data"
    }
   ],
   "source": [
    "vektor4"
   ]
  },
  {
   "cell_type": "markdown",
   "id": "6f67eb97",
   "metadata": {},
   "source": [
    "# Vektör Elemanlarına Erişim İşlemi"
   ]
  },
  {
   "cell_type": "raw",
   "id": "152e039f",
   "metadata": {},
   "source": [
    "#Vektör elemanlarına erişim indis değerleri ile gerçekleştirilir.\n",
    "vektor4[2] #indis numarası 2 olan eleman görüntülenir."
   ]
  },
  {
   "cell_type": "code",
   "execution_count": 13,
   "id": "c1853146",
   "metadata": {},
   "outputs": [
    {
     "data": {
      "text/html": [
       "<ol class=list-inline>\n",
       "\t<li>'3.14'</li>\n",
       "\t<li>'R ile Veri Analizi'</li>\n",
       "\t<li>'TRUE'</li>\n",
       "</ol>\n"
      ],
      "text/latex": [
       "\\begin{enumerate*}\n",
       "\\item '3.14'\n",
       "\\item 'R ile Veri Analizi'\n",
       "\\item 'TRUE'\n",
       "\\end{enumerate*}\n"
      ],
      "text/markdown": [
       "1. '3.14'\n",
       "2. 'R ile Veri Analizi'\n",
       "3. 'TRUE'\n",
       "\n",
       "\n"
      ],
      "text/plain": [
       "[1] \"3.14\"               \"R ile Veri Analizi\" \"TRUE\"              "
      ]
     },
     "metadata": {},
     "output_type": "display_data"
    }
   ],
   "source": [
    "vektor4[2:4] #indis değeri 2 ile 4 arasında olan elemanlar görüntülenir."
   ]
  },
  {
   "cell_type": "markdown",
   "id": "50ddec22",
   "metadata": {},
   "source": [
    "# Karakter Tipinde Vektör Oluşturma"
   ]
  },
  {
   "cell_type": "code",
   "execution_count": 3,
   "id": "e02bfcfa",
   "metadata": {},
   "outputs": [
    {
     "data": {
      "text/html": [
       "<ol class=list-inline>\n",
       "\t<li>'Mehmet Ziya'</li>\n",
       "\t<li>'Hülya'</li>\n",
       "\t<li>'Kazim'</li>\n",
       "\t<li>'Ayse'</li>\n",
       "</ol>\n"
      ],
      "text/latex": [
       "\\begin{enumerate*}\n",
       "\\item 'Mehmet Ziya'\n",
       "\\item 'Hülya'\n",
       "\\item 'Kazim'\n",
       "\\item 'Ayse'\n",
       "\\end{enumerate*}\n"
      ],
      "text/markdown": [
       "1. 'Mehmet Ziya'\n",
       "2. 'Hülya'\n",
       "3. 'Kazim'\n",
       "4. 'Ayse'\n",
       "\n",
       "\n"
      ],
      "text/plain": [
       "[1] \"Mehmet Ziya\" \"Hülya\"       \"Kazim\"       \"Ayse\"       "
      ]
     },
     "metadata": {},
     "output_type": "display_data"
    }
   ],
   "source": [
    "kv=c(\"Mehmet Ziya\", \"Hülya\", \"Kazım\", \"Ayşe\") #Karakter tipinde vektör oluşturur\n",
    "kv"
   ]
  },
  {
   "cell_type": "code",
   "execution_count": 5,
   "id": "598c2f39",
   "metadata": {},
   "outputs": [],
   "source": [
    "kv=c(kv,\"Fatih\", \"Havva\") #kv vektörüne ; Fatih ve Havva adlı iki eleman eklendi"
   ]
  },
  {
   "cell_type": "code",
   "execution_count": 6,
   "id": "248da28e",
   "metadata": {},
   "outputs": [
    {
     "data": {
      "text/html": [
       "<ol class=list-inline>\n",
       "\t<li>'Mehmet Ziya'</li>\n",
       "\t<li>'Hülya'</li>\n",
       "\t<li>'Kazim'</li>\n",
       "\t<li>'Ayse'</li>\n",
       "\t<li>'Fatih'</li>\n",
       "\t<li>'Havva'</li>\n",
       "\t<li>'Fatih'</li>\n",
       "\t<li>'Havva'</li>\n",
       "</ol>\n"
      ],
      "text/latex": [
       "\\begin{enumerate*}\n",
       "\\item 'Mehmet Ziya'\n",
       "\\item 'Hülya'\n",
       "\\item 'Kazim'\n",
       "\\item 'Ayse'\n",
       "\\item 'Fatih'\n",
       "\\item 'Havva'\n",
       "\\item 'Fatih'\n",
       "\\item 'Havva'\n",
       "\\end{enumerate*}\n"
      ],
      "text/markdown": [
       "1. 'Mehmet Ziya'\n",
       "2. 'Hülya'\n",
       "3. 'Kazim'\n",
       "4. 'Ayse'\n",
       "5. 'Fatih'\n",
       "6. 'Havva'\n",
       "7. 'Fatih'\n",
       "8. 'Havva'\n",
       "\n",
       "\n"
      ],
      "text/plain": [
       "[1] \"Mehmet Ziya\" \"Hülya\"       \"Kazim\"       \"Ayse\"        \"Fatih\"      \n",
       "[6] \"Havva\"       \"Fatih\"       \"Havva\"      "
      ]
     },
     "metadata": {},
     "output_type": "display_data"
    }
   ],
   "source": [
    "kv"
   ]
  },
  {
   "cell_type": "code",
   "execution_count": 8,
   "id": "49cac793",
   "metadata": {},
   "outputs": [
    {
     "data": {
      "text/html": [
       "8"
      ],
      "text/latex": [
       "8"
      ],
      "text/markdown": [
       "8"
      ],
      "text/plain": [
       "[1] 8"
      ]
     },
     "metadata": {},
     "output_type": "display_data"
    }
   ],
   "source": [
    "length(kv) #kv vektörünün uzunluğu öğrenilir"
   ]
  },
  {
   "cell_type": "code",
   "execution_count": 9,
   "id": "53b63f3e",
   "metadata": {},
   "outputs": [
    {
     "data": {
      "text/html": [
       "<ol class=list-inline>\n",
       "\t<li>11</li>\n",
       "\t<li>5</li>\n",
       "\t<li>5</li>\n",
       "\t<li>4</li>\n",
       "\t<li>5</li>\n",
       "\t<li>5</li>\n",
       "\t<li>5</li>\n",
       "\t<li>5</li>\n",
       "</ol>\n"
      ],
      "text/latex": [
       "\\begin{enumerate*}\n",
       "\\item 11\n",
       "\\item 5\n",
       "\\item 5\n",
       "\\item 4\n",
       "\\item 5\n",
       "\\item 5\n",
       "\\item 5\n",
       "\\item 5\n",
       "\\end{enumerate*}\n"
      ],
      "text/markdown": [
       "1. 11\n",
       "2. 5\n",
       "3. 5\n",
       "4. 4\n",
       "5. 5\n",
       "6. 5\n",
       "7. 5\n",
       "8. 5\n",
       "\n",
       "\n"
      ],
      "text/plain": [
       "[1] 11  5  5  4  5  5  5  5"
      ]
     },
     "metadata": {},
     "output_type": "display_data"
    }
   ],
   "source": [
    "nchar(kv) #vektörün içindeki her bir elemanın karakter uzunlukları belirlenir."
   ]
  },
  {
   "cell_type": "markdown",
   "id": "a2ceccaf",
   "metadata": {},
   "source": [
    "# Mantıksal Tipte vektör oluşturma"
   ]
  },
  {
   "cell_type": "code",
   "execution_count": 10,
   "id": "db0634f0",
   "metadata": {},
   "outputs": [],
   "source": [
    "vektor5=c(TRUE,FALSE,TRUE,FALSE,NA,NA)"
   ]
  },
  {
   "cell_type": "code",
   "execution_count": 11,
   "id": "3b87c322",
   "metadata": {},
   "outputs": [
    {
     "data": {
      "text/html": [
       "<ol class=list-inline>\n",
       "\t<li>TRUE</li>\n",
       "\t<li>FALSE</li>\n",
       "\t<li>TRUE</li>\n",
       "\t<li>FALSE</li>\n",
       "\t<li>&lt;NA&gt;</li>\n",
       "\t<li>&lt;NA&gt;</li>\n",
       "</ol>\n"
      ],
      "text/latex": [
       "\\begin{enumerate*}\n",
       "\\item TRUE\n",
       "\\item FALSE\n",
       "\\item TRUE\n",
       "\\item FALSE\n",
       "\\item <NA>\n",
       "\\item <NA>\n",
       "\\end{enumerate*}\n"
      ],
      "text/markdown": [
       "1. TRUE\n",
       "2. FALSE\n",
       "3. TRUE\n",
       "4. FALSE\n",
       "5. &lt;NA&gt;\n",
       "6. &lt;NA&gt;\n",
       "\n",
       "\n"
      ],
      "text/plain": [
       "[1]  TRUE FALSE  TRUE FALSE    NA    NA"
      ]
     },
     "metadata": {},
     "output_type": "display_data"
    }
   ],
   "source": [
    "vektor5"
   ]
  },
  {
   "cell_type": "code",
   "execution_count": 12,
   "id": "832a03cb",
   "metadata": {},
   "outputs": [],
   "source": [
    "vektor6=c(12,15,17,21,23,35,37) #elemanları sayısal olan bir vektor oluşturuldu"
   ]
  },
  {
   "cell_type": "code",
   "execution_count": 13,
   "id": "198c2117",
   "metadata": {},
   "outputs": [
    {
     "data": {
      "text/html": [
       "<ol class=list-inline>\n",
       "\t<li>12</li>\n",
       "\t<li>15</li>\n",
       "\t<li>17</li>\n",
       "\t<li>21</li>\n",
       "\t<li>23</li>\n",
       "\t<li>35</li>\n",
       "\t<li>37</li>\n",
       "</ol>\n"
      ],
      "text/latex": [
       "\\begin{enumerate*}\n",
       "\\item 12\n",
       "\\item 15\n",
       "\\item 17\n",
       "\\item 21\n",
       "\\item 23\n",
       "\\item 35\n",
       "\\item 37\n",
       "\\end{enumerate*}\n"
      ],
      "text/markdown": [
       "1. 12\n",
       "2. 15\n",
       "3. 17\n",
       "4. 21\n",
       "5. 23\n",
       "6. 35\n",
       "7. 37\n",
       "\n",
       "\n"
      ],
      "text/plain": [
       "[1] 12 15 17 21 23 35 37"
      ]
     },
     "metadata": {},
     "output_type": "display_data"
    }
   ],
   "source": [
    "vektor6"
   ]
  },
  {
   "cell_type": "code",
   "execution_count": 15,
   "id": "2df1118b",
   "metadata": {},
   "outputs": [
    {
     "data": {
      "text/html": [
       "<ol class=list-inline>\n",
       "\t<li>FALSE</li>\n",
       "\t<li>FALSE</li>\n",
       "\t<li>FALSE</li>\n",
       "\t<li>FALSE</li>\n",
       "\t<li>TRUE</li>\n",
       "\t<li>TRUE</li>\n",
       "\t<li>TRUE</li>\n",
       "</ol>\n"
      ],
      "text/latex": [
       "\\begin{enumerate*}\n",
       "\\item FALSE\n",
       "\\item FALSE\n",
       "\\item FALSE\n",
       "\\item FALSE\n",
       "\\item TRUE\n",
       "\\item TRUE\n",
       "\\item TRUE\n",
       "\\end{enumerate*}\n"
      ],
      "text/markdown": [
       "1. FALSE\n",
       "2. FALSE\n",
       "3. FALSE\n",
       "4. FALSE\n",
       "5. TRUE\n",
       "6. TRUE\n",
       "7. TRUE\n",
       "\n",
       "\n"
      ],
      "text/plain": [
       "[1] FALSE FALSE FALSE FALSE  TRUE  TRUE  TRUE"
      ]
     },
     "metadata": {},
     "output_type": "display_data"
    }
   ],
   "source": [
    "vektor6>21 #vektor6 içerisinde 21'den büyük olanlar"
   ]
  },
  {
   "cell_type": "markdown",
   "id": "a4c9a9bd",
   "metadata": {},
   "source": [
    "# Vektorler ile Aritmetik İşlemler ve Vektorlerin birleştirilmesi"
   ]
  },
  {
   "cell_type": "code",
   "execution_count": 17,
   "id": "7fc73f1a",
   "metadata": {},
   "outputs": [],
   "source": [
    "x=c(1,3,5,7,9)\n",
    "y=c(2,4,6,8,10)"
   ]
  },
  {
   "cell_type": "code",
   "execution_count": 18,
   "id": "216018e4",
   "metadata": {},
   "outputs": [],
   "source": [
    "toplam=x+y #x ve y vektorleri toplama işlemi yapılıyor"
   ]
  },
  {
   "cell_type": "code",
   "execution_count": 19,
   "id": "7dc963a0",
   "metadata": {},
   "outputs": [
    {
     "data": {
      "text/html": [
       "<ol class=list-inline>\n",
       "\t<li>3</li>\n",
       "\t<li>7</li>\n",
       "\t<li>11</li>\n",
       "\t<li>15</li>\n",
       "\t<li>19</li>\n",
       "</ol>\n"
      ],
      "text/latex": [
       "\\begin{enumerate*}\n",
       "\\item 3\n",
       "\\item 7\n",
       "\\item 11\n",
       "\\item 15\n",
       "\\item 19\n",
       "\\end{enumerate*}\n"
      ],
      "text/markdown": [
       "1. 3\n",
       "2. 7\n",
       "3. 11\n",
       "4. 15\n",
       "5. 19\n",
       "\n",
       "\n"
      ],
      "text/plain": [
       "[1]  3  7 11 15 19"
      ]
     },
     "metadata": {},
     "output_type": "display_data"
    }
   ],
   "source": [
    "toplam"
   ]
  },
  {
   "cell_type": "code",
   "execution_count": 20,
   "id": "72cc0871",
   "metadata": {},
   "outputs": [],
   "source": [
    "carpim=x*y #x ve y vektorleri çarpma işlemi yapılıyor"
   ]
  },
  {
   "cell_type": "code",
   "execution_count": 21,
   "id": "f6a795d3",
   "metadata": {},
   "outputs": [
    {
     "data": {
      "text/html": [
       "<ol class=list-inline>\n",
       "\t<li>2</li>\n",
       "\t<li>12</li>\n",
       "\t<li>30</li>\n",
       "\t<li>56</li>\n",
       "\t<li>90</li>\n",
       "</ol>\n"
      ],
      "text/latex": [
       "\\begin{enumerate*}\n",
       "\\item 2\n",
       "\\item 12\n",
       "\\item 30\n",
       "\\item 56\n",
       "\\item 90\n",
       "\\end{enumerate*}\n"
      ],
      "text/markdown": [
       "1. 2\n",
       "2. 12\n",
       "3. 30\n",
       "4. 56\n",
       "5. 90\n",
       "\n",
       "\n"
      ],
      "text/plain": [
       "[1]  2 12 30 56 90"
      ]
     },
     "metadata": {},
     "output_type": "display_data"
    }
   ],
   "source": [
    "carpim"
   ]
  },
  {
   "cell_type": "markdown",
   "id": "4a333eec",
   "metadata": {},
   "source": [
    "# Vektör Üyelerini isimlendirme İşlemi"
   ]
  },
  {
   "cell_type": "code",
   "execution_count": 24,
   "id": "efc2ce5a",
   "metadata": {},
   "outputs": [],
   "source": [
    "isimler=c(\"Mahmut\",\"Aysel\",\"Kazım\",\"Can\",\"Hülya\")"
   ]
  },
  {
   "cell_type": "code",
   "execution_count": 25,
   "id": "f939615d",
   "metadata": {},
   "outputs": [],
   "source": [
    "names(isimler)=c(\"ID10\",\"ID20\",\"ID30\",\"ID40\",\"ID50\")"
   ]
  },
  {
   "cell_type": "code",
   "execution_count": 26,
   "id": "96e767bd",
   "metadata": {},
   "outputs": [
    {
     "data": {
      "text/html": [
       "<dl class=dl-horizontal>\n",
       "\t<dt>ID10</dt>\n",
       "\t\t<dd>'Mahmut'</dd>\n",
       "\t<dt>ID20</dt>\n",
       "\t\t<dd>'Aysel'</dd>\n",
       "\t<dt>ID30</dt>\n",
       "\t\t<dd>'Kazim'</dd>\n",
       "\t<dt>ID40</dt>\n",
       "\t\t<dd>'Can'</dd>\n",
       "\t<dt>ID50</dt>\n",
       "\t\t<dd>'Hülya'</dd>\n",
       "</dl>\n"
      ],
      "text/latex": [
       "\\begin{description*}\n",
       "\\item[ID10] 'Mahmut'\n",
       "\\item[ID20] 'Aysel'\n",
       "\\item[ID30] 'Kazim'\n",
       "\\item[ID40] 'Can'\n",
       "\\item[ID50] 'Hülya'\n",
       "\\end{description*}\n"
      ],
      "text/markdown": [
       "ID10\n",
       ":   'Mahmut'ID20\n",
       ":   'Aysel'ID30\n",
       ":   'Kazim'ID40\n",
       ":   'Can'ID50\n",
       ":   'Hülya'\n",
       "\n"
      ],
      "text/plain": [
       "    ID10     ID20     ID30     ID40     ID50 \n",
       "\"Mahmut\"  \"Aysel\"  \"Kazim\"    \"Can\"  \"Hülya\" "
      ]
     },
     "metadata": {},
     "output_type": "display_data"
    }
   ],
   "source": [
    "isimler"
   ]
  },
  {
   "cell_type": "markdown",
   "id": "a867c776",
   "metadata": {},
   "source": [
    "# Vektör Üyelerinin Güncellenmesi"
   ]
  },
  {
   "cell_type": "code",
   "execution_count": 28,
   "id": "2f0920e2",
   "metadata": {},
   "outputs": [],
   "source": [
    "isimler[3]=\"Abdullah\""
   ]
  },
  {
   "cell_type": "code",
   "execution_count": 29,
   "id": "c5e2f0c1",
   "metadata": {},
   "outputs": [
    {
     "data": {
      "text/html": [
       "<dl class=dl-horizontal>\n",
       "\t<dt>ID10</dt>\n",
       "\t\t<dd>'Mahmut'</dd>\n",
       "\t<dt>ID20</dt>\n",
       "\t\t<dd>'Aysel'</dd>\n",
       "\t<dt>ID30</dt>\n",
       "\t\t<dd>'Abdullah'</dd>\n",
       "\t<dt>ID40</dt>\n",
       "\t\t<dd>'Can'</dd>\n",
       "\t<dt>ID50</dt>\n",
       "\t\t<dd>'Hülya'</dd>\n",
       "</dl>\n"
      ],
      "text/latex": [
       "\\begin{description*}\n",
       "\\item[ID10] 'Mahmut'\n",
       "\\item[ID20] 'Aysel'\n",
       "\\item[ID30] 'Abdullah'\n",
       "\\item[ID40] 'Can'\n",
       "\\item[ID50] 'Hülya'\n",
       "\\end{description*}\n"
      ],
      "text/markdown": [
       "ID10\n",
       ":   'Mahmut'ID20\n",
       ":   'Aysel'ID30\n",
       ":   'Abdullah'ID40\n",
       ":   'Can'ID50\n",
       ":   'Hülya'\n",
       "\n"
      ],
      "text/plain": [
       "      ID10       ID20       ID30       ID40       ID50 \n",
       "  \"Mahmut\"    \"Aysel\" \"Abdullah\"      \"Can\"    \"Hülya\" "
      ]
     },
     "metadata": {},
     "output_type": "display_data"
    }
   ],
   "source": [
    "isimler"
   ]
  },
  {
   "cell_type": "markdown",
   "id": "39885a30",
   "metadata": {},
   "source": [
    "# Vektör Elemanlarının Silinmesi"
   ]
  },
  {
   "cell_type": "code",
   "execution_count": 31,
   "id": "f7bbb4d3",
   "metadata": {},
   "outputs": [
    {
     "data": {
      "text/html": [
       "<dl class=dl-horizontal>\n",
       "\t<dt>ID10</dt>\n",
       "\t\t<dd>'Mahmut'</dd>\n",
       "\t<dt>ID20</dt>\n",
       "\t\t<dd>'Aysel'</dd>\n",
       "\t<dt>ID30</dt>\n",
       "\t\t<dd>'Abdullah'</dd>\n",
       "\t<dt>ID50</dt>\n",
       "\t\t<dd>'Hülya'</dd>\n",
       "</dl>\n"
      ],
      "text/latex": [
       "\\begin{description*}\n",
       "\\item[ID10] 'Mahmut'\n",
       "\\item[ID20] 'Aysel'\n",
       "\\item[ID30] 'Abdullah'\n",
       "\\item[ID50] 'Hülya'\n",
       "\\end{description*}\n"
      ],
      "text/markdown": [
       "ID10\n",
       ":   'Mahmut'ID20\n",
       ":   'Aysel'ID30\n",
       ":   'Abdullah'ID50\n",
       ":   'Hülya'\n",
       "\n"
      ],
      "text/plain": [
       "      ID10       ID20       ID30       ID50 \n",
       "  \"Mahmut\"    \"Aysel\" \"Abdullah\"    \"Hülya\" "
      ]
     },
     "metadata": {},
     "output_type": "display_data"
    }
   ],
   "source": [
    "isimler[-4]"
   ]
  },
  {
   "cell_type": "code",
   "execution_count": 33,
   "id": "a5c09715",
   "metadata": {},
   "outputs": [
    {
     "data": {
      "text/html": [
       "<dl class=dl-horizontal>\n",
       "\t<dt>ID10</dt>\n",
       "\t\t<dd>'Mahmut'</dd>\n",
       "\t<dt>ID20</dt>\n",
       "\t\t<dd>'Aysel'</dd>\n",
       "\t<dt>ID30</dt>\n",
       "\t\t<dd>'Abdullah'</dd>\n",
       "\t<dt>ID40</dt>\n",
       "\t\t<dd>'Can'</dd>\n",
       "\t<dt>ID50</dt>\n",
       "\t\t<dd>'Hülya'</dd>\n",
       "</dl>\n"
      ],
      "text/latex": [
       "\\begin{description*}\n",
       "\\item[ID10] 'Mahmut'\n",
       "\\item[ID20] 'Aysel'\n",
       "\\item[ID30] 'Abdullah'\n",
       "\\item[ID40] 'Can'\n",
       "\\item[ID50] 'Hülya'\n",
       "\\end{description*}\n"
      ],
      "text/markdown": [
       "ID10\n",
       ":   'Mahmut'ID20\n",
       ":   'Aysel'ID30\n",
       ":   'Abdullah'ID40\n",
       ":   'Can'ID50\n",
       ":   'Hülya'\n",
       "\n"
      ],
      "text/plain": [
       "      ID10       ID20       ID30       ID40       ID50 \n",
       "  \"Mahmut\"    \"Aysel\" \"Abdullah\"      \"Can\"    \"Hülya\" "
      ]
     },
     "metadata": {},
     "output_type": "display_data"
    }
   ],
   "source": [
    " isimler # silinmediği gözükmektedir."
   ]
  },
  {
   "cell_type": "code",
   "execution_count": 34,
   "id": "b614db85",
   "metadata": {},
   "outputs": [],
   "source": [
    "isimler=isimler[-4] #kalıcı hale geldi, silindi"
   ]
  },
  {
   "cell_type": "code",
   "execution_count": 35,
   "id": "c88c2df7",
   "metadata": {},
   "outputs": [
    {
     "data": {
      "text/html": [
       "<dl class=dl-horizontal>\n",
       "\t<dt>ID10</dt>\n",
       "\t\t<dd>'Mahmut'</dd>\n",
       "\t<dt>ID20</dt>\n",
       "\t\t<dd>'Aysel'</dd>\n",
       "\t<dt>ID30</dt>\n",
       "\t\t<dd>'Abdullah'</dd>\n",
       "\t<dt>ID50</dt>\n",
       "\t\t<dd>'Hülya'</dd>\n",
       "</dl>\n"
      ],
      "text/latex": [
       "\\begin{description*}\n",
       "\\item[ID10] 'Mahmut'\n",
       "\\item[ID20] 'Aysel'\n",
       "\\item[ID30] 'Abdullah'\n",
       "\\item[ID50] 'Hülya'\n",
       "\\end{description*}\n"
      ],
      "text/markdown": [
       "ID10\n",
       ":   'Mahmut'ID20\n",
       ":   'Aysel'ID30\n",
       ":   'Abdullah'ID50\n",
       ":   'Hülya'\n",
       "\n"
      ],
      "text/plain": [
       "      ID10       ID20       ID30       ID50 \n",
       "  \"Mahmut\"    \"Aysel\" \"Abdullah\"    \"Hülya\" "
      ]
     },
     "metadata": {},
     "output_type": "display_data"
    }
   ],
   "source": [
    "isimler"
   ]
  },
  {
   "cell_type": "code",
   "execution_count": 42,
   "id": "ff60239b",
   "metadata": {},
   "outputs": [],
   "source": [
    "yeni_isimler=c(\"Mehmet\",\"Ziya\",\"Ayşe\",\"Yusuf\",\"Kerem\",\"Zehra\")"
   ]
  },
  {
   "cell_type": "code",
   "execution_count": 43,
   "id": "83e55858",
   "metadata": {},
   "outputs": [
    {
     "data": {
      "text/html": [
       "<ol class=list-inline>\n",
       "\t<li>'Mehmet'</li>\n",
       "\t<li>'Ziya'</li>\n",
       "\t<li>'Ayse'</li>\n",
       "\t<li>'Yusuf'</li>\n",
       "\t<li>'Kerem'</li>\n",
       "\t<li>'Zehra'</li>\n",
       "</ol>\n"
      ],
      "text/latex": [
       "\\begin{enumerate*}\n",
       "\\item 'Mehmet'\n",
       "\\item 'Ziya'\n",
       "\\item 'Ayse'\n",
       "\\item 'Yusuf'\n",
       "\\item 'Kerem'\n",
       "\\item 'Zehra'\n",
       "\\end{enumerate*}\n"
      ],
      "text/markdown": [
       "1. 'Mehmet'\n",
       "2. 'Ziya'\n",
       "3. 'Ayse'\n",
       "4. 'Yusuf'\n",
       "5. 'Kerem'\n",
       "6. 'Zehra'\n",
       "\n",
       "\n"
      ],
      "text/plain": [
       "[1] \"Mehmet\" \"Ziya\"   \"Ayse\"   \"Yusuf\"  \"Kerem\"  \"Zehra\" "
      ]
     },
     "metadata": {},
     "output_type": "display_data"
    }
   ],
   "source": [
    "yeni_isimler"
   ]
  },
  {
   "cell_type": "code",
   "execution_count": 45,
   "id": "52d9a67a",
   "metadata": {},
   "outputs": [
    {
     "data": {
      "text/html": [
       "<ol class=list-inline>\n",
       "\t<li>'Mehmet'</li>\n",
       "\t<li>'Kerem'</li>\n",
       "\t<li>'Zehra'</li>\n",
       "</ol>\n"
      ],
      "text/latex": [
       "\\begin{enumerate*}\n",
       "\\item 'Mehmet'\n",
       "\\item 'Kerem'\n",
       "\\item 'Zehra'\n",
       "\\end{enumerate*}\n"
      ],
      "text/markdown": [
       "1. 'Mehmet'\n",
       "2. 'Kerem'\n",
       "3. 'Zehra'\n",
       "\n",
       "\n"
      ],
      "text/plain": [
       "[1] \"Mehmet\" \"Kerem\"  \"Zehra\" "
      ]
     },
     "metadata": {},
     "output_type": "display_data"
    }
   ],
   "source": [
    "yeni_isimler[-c(2:4)]"
   ]
  },
  {
   "cell_type": "code",
   "execution_count": 46,
   "id": "ad599e7e",
   "metadata": {},
   "outputs": [
    {
     "data": {
      "text/html": [
       "<ol class=list-inline>\n",
       "\t<li>'Mehmet'</li>\n",
       "\t<li>'Ziya'</li>\n",
       "\t<li>'Ayse'</li>\n",
       "\t<li>'Yusuf'</li>\n",
       "\t<li>'Kerem'</li>\n",
       "\t<li>'Zehra'</li>\n",
       "</ol>\n"
      ],
      "text/latex": [
       "\\begin{enumerate*}\n",
       "\\item 'Mehmet'\n",
       "\\item 'Ziya'\n",
       "\\item 'Ayse'\n",
       "\\item 'Yusuf'\n",
       "\\item 'Kerem'\n",
       "\\item 'Zehra'\n",
       "\\end{enumerate*}\n"
      ],
      "text/markdown": [
       "1. 'Mehmet'\n",
       "2. 'Ziya'\n",
       "3. 'Ayse'\n",
       "4. 'Yusuf'\n",
       "5. 'Kerem'\n",
       "6. 'Zehra'\n",
       "\n",
       "\n"
      ],
      "text/plain": [
       "[1] \"Mehmet\" \"Ziya\"   \"Ayse\"   \"Yusuf\"  \"Kerem\"  \"Zehra\" "
      ]
     },
     "metadata": {},
     "output_type": "display_data"
    }
   ],
   "source": [
    "yeni_isimler"
   ]
  },
  {
   "cell_type": "code",
   "execution_count": 38,
   "id": "8ebd973f",
   "metadata": {},
   "outputs": [],
   "source": [
    "yeni_isimler=NULL"
   ]
  },
  {
   "cell_type": "code",
   "execution_count": 39,
   "id": "1246e651",
   "metadata": {},
   "outputs": [
    {
     "data": {
      "text/plain": [
       "NULL"
      ]
     },
     "metadata": {},
     "output_type": "display_data"
    }
   ],
   "source": [
    "yeni_isimler"
   ]
  },
  {
   "cell_type": "markdown",
   "id": "4bf5de6a",
   "metadata": {},
   "source": [
    "# Vektör Elemanlarının Sıralanması"
   ]
  },
  {
   "cell_type": "code",
   "execution_count": 47,
   "id": "e195ce32",
   "metadata": {},
   "outputs": [],
   "source": [
    "adlar=c(\"Mehmet\",\"Ziya\",\"Ayşe\",\"Yusuf\",\"Kerem\",\"Zehra\",\"Mahmut\",\"Aysel\",\"Kazım\",\"Can\",\"Hülya\")"
   ]
  },
  {
   "cell_type": "code",
   "execution_count": 48,
   "id": "16e2ebc5",
   "metadata": {},
   "outputs": [
    {
     "data": {
      "text/html": [
       "<ol class=list-inline>\n",
       "\t<li>'Mehmet'</li>\n",
       "\t<li>'Ziya'</li>\n",
       "\t<li>'Ayse'</li>\n",
       "\t<li>'Yusuf'</li>\n",
       "\t<li>'Kerem'</li>\n",
       "\t<li>'Zehra'</li>\n",
       "\t<li>'Mahmut'</li>\n",
       "\t<li>'Aysel'</li>\n",
       "\t<li>'Kazim'</li>\n",
       "\t<li>'Can'</li>\n",
       "\t<li>'Hülya'</li>\n",
       "</ol>\n"
      ],
      "text/latex": [
       "\\begin{enumerate*}\n",
       "\\item 'Mehmet'\n",
       "\\item 'Ziya'\n",
       "\\item 'Ayse'\n",
       "\\item 'Yusuf'\n",
       "\\item 'Kerem'\n",
       "\\item 'Zehra'\n",
       "\\item 'Mahmut'\n",
       "\\item 'Aysel'\n",
       "\\item 'Kazim'\n",
       "\\item 'Can'\n",
       "\\item 'Hülya'\n",
       "\\end{enumerate*}\n"
      ],
      "text/markdown": [
       "1. 'Mehmet'\n",
       "2. 'Ziya'\n",
       "3. 'Ayse'\n",
       "4. 'Yusuf'\n",
       "5. 'Kerem'\n",
       "6. 'Zehra'\n",
       "7. 'Mahmut'\n",
       "8. 'Aysel'\n",
       "9. 'Kazim'\n",
       "10. 'Can'\n",
       "11. 'Hülya'\n",
       "\n",
       "\n"
      ],
      "text/plain": [
       " [1] \"Mehmet\" \"Ziya\"   \"Ayse\"   \"Yusuf\"  \"Kerem\"  \"Zehra\"  \"Mahmut\" \"Aysel\" \n",
       " [9] \"Kazim\"  \"Can\"    \"Hülya\" "
      ]
     },
     "metadata": {},
     "output_type": "display_data"
    }
   ],
   "source": [
    "adlar"
   ]
  },
  {
   "cell_type": "code",
   "execution_count": 50,
   "id": "530362ee",
   "metadata": {},
   "outputs": [
    {
     "data": {
      "text/html": [
       "<ol class=list-inline>\n",
       "\t<li>'Ayse'</li>\n",
       "\t<li>'Aysel'</li>\n",
       "\t<li>'Can'</li>\n",
       "\t<li>'Hülya'</li>\n",
       "\t<li>'Kazim'</li>\n",
       "\t<li>'Kerem'</li>\n",
       "\t<li>'Mahmut'</li>\n",
       "\t<li>'Mehmet'</li>\n",
       "\t<li>'Yusuf'</li>\n",
       "\t<li>'Zehra'</li>\n",
       "\t<li>'Ziya'</li>\n",
       "</ol>\n"
      ],
      "text/latex": [
       "\\begin{enumerate*}\n",
       "\\item 'Ayse'\n",
       "\\item 'Aysel'\n",
       "\\item 'Can'\n",
       "\\item 'Hülya'\n",
       "\\item 'Kazim'\n",
       "\\item 'Kerem'\n",
       "\\item 'Mahmut'\n",
       "\\item 'Mehmet'\n",
       "\\item 'Yusuf'\n",
       "\\item 'Zehra'\n",
       "\\item 'Ziya'\n",
       "\\end{enumerate*}\n"
      ],
      "text/markdown": [
       "1. 'Ayse'\n",
       "2. 'Aysel'\n",
       "3. 'Can'\n",
       "4. 'Hülya'\n",
       "5. 'Kazim'\n",
       "6. 'Kerem'\n",
       "7. 'Mahmut'\n",
       "8. 'Mehmet'\n",
       "9. 'Yusuf'\n",
       "10. 'Zehra'\n",
       "11. 'Ziya'\n",
       "\n",
       "\n"
      ],
      "text/plain": [
       " [1] \"Ayse\"   \"Aysel\"  \"Can\"    \"Hülya\"  \"Kazim\"  \"Kerem\"  \"Mahmut\" \"Mehmet\"\n",
       " [9] \"Yusuf\"  \"Zehra\"  \"Ziya\"  "
      ]
     },
     "metadata": {},
     "output_type": "display_data"
    }
   ],
   "source": [
    "sort(adlar) #A'dan Z'ye sıralama"
   ]
  },
  {
   "cell_type": "code",
   "execution_count": 52,
   "id": "2d51d2d4",
   "metadata": {},
   "outputs": [
    {
     "data": {
      "text/html": [
       "<ol class=list-inline>\n",
       "\t<li>'Ayse'</li>\n",
       "\t<li>'Aysel'</li>\n",
       "\t<li>'Can'</li>\n",
       "\t<li>'Hülya'</li>\n",
       "\t<li>'Kazim'</li>\n",
       "\t<li>'Kerem'</li>\n",
       "\t<li>'Mahmut'</li>\n",
       "\t<li>'Mehmet'</li>\n",
       "\t<li>'Yusuf'</li>\n",
       "\t<li>'Zehra'</li>\n",
       "\t<li>'Ziya'</li>\n",
       "</ol>\n"
      ],
      "text/latex": [
       "\\begin{enumerate*}\n",
       "\\item 'Ayse'\n",
       "\\item 'Aysel'\n",
       "\\item 'Can'\n",
       "\\item 'Hülya'\n",
       "\\item 'Kazim'\n",
       "\\item 'Kerem'\n",
       "\\item 'Mahmut'\n",
       "\\item 'Mehmet'\n",
       "\\item 'Yusuf'\n",
       "\\item 'Zehra'\n",
       "\\item 'Ziya'\n",
       "\\end{enumerate*}\n"
      ],
      "text/markdown": [
       "1. 'Ayse'\n",
       "2. 'Aysel'\n",
       "3. 'Can'\n",
       "4. 'Hülya'\n",
       "5. 'Kazim'\n",
       "6. 'Kerem'\n",
       "7. 'Mahmut'\n",
       "8. 'Mehmet'\n",
       "9. 'Yusuf'\n",
       "10. 'Zehra'\n",
       "11. 'Ziya'\n",
       "\n",
       "\n"
      ],
      "text/plain": [
       " [1] \"Ayse\"   \"Aysel\"  \"Can\"    \"Hülya\"  \"Kazim\"  \"Kerem\"  \"Mahmut\" \"Mehmet\"\n",
       " [9] \"Yusuf\"  \"Zehra\"  \"Ziya\"  "
      ]
     },
     "metadata": {},
     "output_type": "display_data"
    }
   ],
   "source": [
    "sort(adlar, decreasing=FALSE)"
   ]
  },
  {
   "cell_type": "code",
   "execution_count": 53,
   "id": "03a8d852",
   "metadata": {},
   "outputs": [
    {
     "data": {
      "text/html": [
       "<ol class=list-inline>\n",
       "\t<li>'Ziya'</li>\n",
       "\t<li>'Zehra'</li>\n",
       "\t<li>'Yusuf'</li>\n",
       "\t<li>'Mehmet'</li>\n",
       "\t<li>'Mahmut'</li>\n",
       "\t<li>'Kerem'</li>\n",
       "\t<li>'Kazim'</li>\n",
       "\t<li>'Hülya'</li>\n",
       "\t<li>'Can'</li>\n",
       "\t<li>'Aysel'</li>\n",
       "\t<li>'Ayse'</li>\n",
       "</ol>\n"
      ],
      "text/latex": [
       "\\begin{enumerate*}\n",
       "\\item 'Ziya'\n",
       "\\item 'Zehra'\n",
       "\\item 'Yusuf'\n",
       "\\item 'Mehmet'\n",
       "\\item 'Mahmut'\n",
       "\\item 'Kerem'\n",
       "\\item 'Kazim'\n",
       "\\item 'Hülya'\n",
       "\\item 'Can'\n",
       "\\item 'Aysel'\n",
       "\\item 'Ayse'\n",
       "\\end{enumerate*}\n"
      ],
      "text/markdown": [
       "1. 'Ziya'\n",
       "2. 'Zehra'\n",
       "3. 'Yusuf'\n",
       "4. 'Mehmet'\n",
       "5. 'Mahmut'\n",
       "6. 'Kerem'\n",
       "7. 'Kazim'\n",
       "8. 'Hülya'\n",
       "9. 'Can'\n",
       "10. 'Aysel'\n",
       "11. 'Ayse'\n",
       "\n",
       "\n"
      ],
      "text/plain": [
       " [1] \"Ziya\"   \"Zehra\"  \"Yusuf\"  \"Mehmet\" \"Mahmut\" \"Kerem\"  \"Kazim\"  \"Hülya\" \n",
       " [9] \"Can\"    \"Aysel\"  \"Ayse\"  "
      ]
     },
     "metadata": {},
     "output_type": "display_data"
    }
   ],
   "source": [
    "sort(adlar, decreasing=TRUE) #Z'den A'ya Sıralama yapar"
   ]
  },
  {
   "cell_type": "code",
   "execution_count": null,
   "id": "15d35bc7",
   "metadata": {},
   "outputs": [],
   "source": []
  }
 ],
 "metadata": {
  "kernelspec": {
   "display_name": "R",
   "language": "R",
   "name": "ir"
  },
  "language_info": {
   "codemirror_mode": "r",
   "file_extension": ".r",
   "mimetype": "text/x-r-source",
   "name": "R",
   "pygments_lexer": "r",
   "version": "3.6.1"
  }
 },
 "nbformat": 4,
 "nbformat_minor": 5
}
