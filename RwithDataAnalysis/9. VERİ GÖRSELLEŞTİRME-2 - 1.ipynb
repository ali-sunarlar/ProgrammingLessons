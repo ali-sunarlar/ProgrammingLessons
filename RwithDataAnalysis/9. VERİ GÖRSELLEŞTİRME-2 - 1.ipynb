{
 "cells": [
  {
   "cell_type": "markdown",
   "id": "70429493",
   "metadata": {},
   "source": [
    "# Histogram Çizdirmek"
   ]
  },
  {
   "cell_type": "raw",
   "id": "314ac5ab",
   "metadata": {},
   "source": [
    "x: çizilmek istenen histogram için değer vektörü\n",
    "breaks: Histogramın x ekseninden yer alan değişkenin gruplarının ayrılma, noktalarını hesaplayan bir fonksiyon değeri\n",
    "feq: (mantıksal değer alır); Histogram TRUE değeri için frekansları; FALSE, değeri için ise olasılık yoğunluk\n",
    "fonksiyonunu temsil eder.\n",
    "col: sütun rengi belirlenir.\n",
    "labels: sütunlar için etiket bilgisi girilir.\n",
    "main: Başlık ekler\n",
    "hist (x, breaks=\"sturges\", freq=NULL, right=TRUE, col=NULL, .....)\n"
   ]
  },
  {
   "cell_type": "raw",
   "id": "bb2cde46",
   "metadata": {},
   "source": [
    "Elimizde 50 gramlık baharat paketleri olan ve aşağıda basit seri şeklinde verilmişbir veri seti olsun. Bu verinin\n",
    "histogramını çizdiren kodun ekran görüntüsü"
   ]
  },
  {
   "cell_type": "code",
   "execution_count": 6,
   "id": "06f81a12",
   "metadata": {},
   "outputs": [
    {
     "data": {
      "text/html": [
       "<ol class=list-inline>\n",
       "\t<li>40</li>\n",
       "\t<li>43</li>\n",
       "\t<li>45</li>\n",
       "\t<li>46</li>\n",
       "\t<li>46</li>\n",
       "\t<li>47</li>\n",
       "\t<li>48</li>\n",
       "\t<li>48</li>\n",
       "\t<li>48</li>\n",
       "\t<li>46</li>\n",
       "\t<li>48</li>\n",
       "\t<li>48</li>\n",
       "\t<li>50</li>\n",
       "\t<li>50</li>\n",
       "\t<li>50</li>\n",
       "\t<li>51</li>\n",
       "\t<li>51</li>\n",
       "\t<li>61</li>\n",
       "\t<li>51</li>\n",
       "\t<li>52</li>\n",
       "\t<li>52</li>\n",
       "\t<li>52</li>\n",
       "\t<li>53</li>\n",
       "\t<li>54</li>\n",
       "\t<li>54</li>\n",
       "\t<li>54</li>\n",
       "\t<li>54</li>\n",
       "\t<li>55</li>\n",
       "\t<li>56</li>\n",
       "\t<li>59</li>\n",
       "</ol>\n"
      ],
      "text/latex": [
       "\\begin{enumerate*}\n",
       "\\item 40\n",
       "\\item 43\n",
       "\\item 45\n",
       "\\item 46\n",
       "\\item 46\n",
       "\\item 47\n",
       "\\item 48\n",
       "\\item 48\n",
       "\\item 48\n",
       "\\item 46\n",
       "\\item 48\n",
       "\\item 48\n",
       "\\item 50\n",
       "\\item 50\n",
       "\\item 50\n",
       "\\item 51\n",
       "\\item 51\n",
       "\\item 61\n",
       "\\item 51\n",
       "\\item 52\n",
       "\\item 52\n",
       "\\item 52\n",
       "\\item 53\n",
       "\\item 54\n",
       "\\item 54\n",
       "\\item 54\n",
       "\\item 54\n",
       "\\item 55\n",
       "\\item 56\n",
       "\\item 59\n",
       "\\end{enumerate*}\n"
      ],
      "text/markdown": [
       "1. 40\n",
       "2. 43\n",
       "3. 45\n",
       "4. 46\n",
       "5. 46\n",
       "6. 47\n",
       "7. 48\n",
       "8. 48\n",
       "9. 48\n",
       "10. 46\n",
       "11. 48\n",
       "12. 48\n",
       "13. 50\n",
       "14. 50\n",
       "15. 50\n",
       "16. 51\n",
       "17. 51\n",
       "18. 61\n",
       "19. 51\n",
       "20. 52\n",
       "21. 52\n",
       "22. 52\n",
       "23. 53\n",
       "24. 54\n",
       "25. 54\n",
       "26. 54\n",
       "27. 54\n",
       "28. 55\n",
       "29. 56\n",
       "30. 59\n",
       "\n",
       "\n"
      ],
      "text/plain": [
       " [1] 40 43 45 46 46 47 48 48 48 46 48 48 50 50 50 51 51 61 51 52 52 52 53 54 54\n",
       "[26] 54 54 55 56 59"
      ]
     },
     "metadata": {},
     "output_type": "display_data"
    }
   ],
   "source": [
    "paketler=c(40,43,45,46,46,47,48,48,48,46,48,48,50,50,50,51,51,61,51,52,52,52,53,54,54,54,54,55,56,59) \n",
    "paketler"
   ]
  },
  {
   "cell_type": "code",
   "execution_count": 7,
   "id": "7f90d5c6",
   "metadata": {},
   "outputs": [
    {
     "data": {
      "image/png": "[encoded data removed]",
      "text/plain": [
       "Plot with title \"Baharat Pakeleri için Histogram\""
      ]
     },
     "metadata": {},
     "output_type": "display_data"
    }
   ],
   "source": [
    "hist (paketler, xlab=\"Paketler\", ylab=\"Frekans\", main=\"Baharat Pakeleri için Histogram\", col=\"yellow\", labels=TRUE, freq=TRUE) \n",
    "#histegram cizdiriliyor "
   ]
  },
  {
   "cell_type": "raw",
   "id": "a3dc233e",
   "metadata": {},
   "source": [
    " içerisinde yer alan hazır iris veri setini kullanarak histogram oluşturalım. İlk olarak iris veri setinin\n",
    "özelliklerini görüntüleyelim. Sonra da belli bir sütun verileri için histogram çizdirelim"
   ]
  },
  {
   "cell_type": "code",
   "execution_count": 8,
   "id": "9368e046",
   "metadata": {},
   "outputs": [
    {
     "name": "stdout",
     "output_type": "stream",
     "text": [
      "'data.frame':\t150 obs. of  5 variables:\n",
      " $ Sepal.Length: num  5.1 4.9 4.7 4.6 5 5.4 4.6 5 4.4 4.9 ...\n",
      " $ Sepal.Width : num  3.5 3 3.2 3.1 3.6 3.9 3.4 3.4 2.9 3.1 ...\n",
      " $ Petal.Length: num  1.4 1.4 1.3 1.5 1.4 1.7 1.4 1.5 1.4 1.5 ...\n",
      " $ Petal.Width : num  0.2 0.2 0.2 0.2 0.2 0.4 0.3 0.2 0.2 0.1 ...\n",
      " $ Species     : Factor w/ 3 levels \"setosa\",\"versicolor\",..: 1 1 1 1 1 1 1 1 1 1 ...\n"
     ]
    }
   ],
   "source": [
    "str(iris)"
   ]
  },
  {
   "cell_type": "code",
   "execution_count": 10,
   "id": "4fede5a1",
   "metadata": {},
   "outputs": [
    {
     "data": {
      "image/png": "[encoded data removed]",
      "text/plain": [
       "Plot with title \"Iris Çiçek Datasi\""
      ]
     },
     "metadata": {},
     "output_type": "display_data"
    }
   ],
   "source": [
    "hist (iris$Sepal.Length, xlab=\"Canak Boyu\", ylab=\"Siklik\", col=\"yellow\",main=\"Iris Çiçek Datası\") "
   ]
  },
  {
   "cell_type": "raw",
   "id": "cec19c36",
   "metadata": {},
   "source": [
    "Barlar üzerine sıklık değerlerini de yazdırmak mümkündür. Bunun için labels parametresi kullanılır. Aşağıdaki ekran\n",
    "görüntüsünde bu işlemi yapan kod verilmiştir"
   ]
  },
  {
   "cell_type": "code",
   "execution_count": 12,
   "id": "dff7882a",
   "metadata": {},
   "outputs": [
    {
     "data": {
      "image/png": "[encoded data removed]",
      "text/plain": [
       "Plot with title \"Iris Çiçek Datasi\""
      ]
     },
     "metadata": {},
     "output_type": "display_data"
    }
   ],
   "source": [
    "#Frokans değerleri labels etiketi TRUE yapılarak yardırılır \n",
    "hist(iris$Sepal.Width, xlab=\"Canak Eni\", ylab=\"Siklik\", col=\"lightblue\", main=\"Iris Çiçek Datası\", labels=TRUE) "
   ]
  },
  {
   "cell_type": "markdown",
   "id": "e56e166e",
   "metadata": {},
   "source": [
    "# Histogram ve Yoğunluk Grafiklerinin Birlikte çizdirilmesi"
   ]
  },
  {
   "cell_type": "raw",
   "id": "7484ffa9",
   "metadata": {},
   "source": [
    "Frekansları kullanan yoğunluk grafiklerini çizdirmek için density() fonksiyonukullanılır. Histoğram ve yoğunluk\n",
    "grafiklerini birlikte çizdirmek için ilk olarak yoğunluk grafiği çizdirilir. Daha sonra histoğram grafiği yoğunluk\n",
    "grafiğine eklenir. Yoğunluk grafiğiile histogram grafiğinin etiketlerinin üst üste gelmesi için birinci grafiğin etiketleri\n",
    "ve eksen çizgileri (axes) yazdırmıyoruz. Örnek: Bu işlem için ilk olarak iris datasını kullanarak bir yoğunlukfonksiyonu\n",
    "elde edelim. Yoğunluk grafiğini çizdirmek için plot() fonksiyonu kullanılır."
   ]
  },
  {
   "cell_type": "code",
   "execution_count": 14,
   "id": "9ab403d1",
   "metadata": {},
   "outputs": [
    {
     "data": {
      "image/png": "[encoded data removed]",
      "text/plain": [
       "Plot with title \"Iris Çanak Yapraklari Yogunluk Grafigi\""
      ]
     },
     "metadata": {},
     "output_type": "display_data"
    }
   ],
   "source": [
    "yogunluk=density (iris$Sepal.Length) \n",
    "plot (yogunluk, main=\"Iris Çanak Yaprakları Yoğunluk Grafiği\") "
   ]
  },
  {
   "cell_type": "code",
   "execution_count": 18,
   "id": "81c0c64e",
   "metadata": {},
   "outputs": [
    {
     "data": {
      "image/png": "[encoded data removed]",
      "text/plain": [
       "Plot with title \"\""
      ]
     },
     "metadata": {},
     "output_type": "display_data"
    }
   ],
   "source": [
    "hist(iris$Sepal.Length, col=\"lightgreen\", main=\"\", xlab=\"\",  ylab=\"\",  axes=FALSE)"
   ]
  },
  {
   "cell_type": "raw",
   "id": "d26bcd5e",
   "metadata": {},
   "source": [
    "Yoğunluk grafiğinin histogram üzerine yazdırılması için\n",
    "par(new=T) fonksiyonu kullanılır. Bu komut kullanılmaz ise histogram çizdirilmeyecektir."
   ]
  },
  {
   "cell_type": "code",
   "execution_count": 20,
   "id": "a6b084f8",
   "metadata": {},
   "outputs": [
    {
     "data": {
      "image/png": "[encoded data removed]",
      "text/plain": [
       "Plot with title \"Iris Çanak Boyu Yogunluk Grafigi\""
      ]
     },
     "metadata": {},
     "output_type": "display_data"
    }
   ],
   "source": [
    "hist (iris$Sepal.Length, col=\"lightgreen\", main=\"\", xlab=\"\", ylab=\"\", axes=FALSE)\n",
    "\n",
    "par (new=T)\n",
    "\n",
    "yogunluk2=density(iris$Sepal.Length)\n",
    "\n",
    "plot (yogunluk2, xlab=\"Degerler\", ylab=\"Siklik\", main=\"Iris Çanak Boyu Yoğunluk Grafiği\") "
   ]
  },
  {
   "cell_type": "markdown",
   "id": "6e414c56",
   "metadata": {},
   "source": [
    "# Çubuk (Sütun) Grafik Çizdirmek"
   ]
  },
  {
   "cell_type": "raw",
   "id": "85007671",
   "metadata": {},
   "source": [
    "Çubuk grafik çizdirmek için barplot() fonksiyonu kullanılıyor. En basitçe haliyle çubuk grafik bir vektör olarak çizilir.\n"
   ]
  },
  {
   "cell_type": "code",
   "execution_count": 21,
   "id": "56b3cd0f",
   "metadata": {},
   "outputs": [
    {
     "data": {
      "image/png": "[encoded data removed]",
      "text/plain": [
       "Plot with title \"V vektörü\""
      ]
     },
     "metadata": {},
     "output_type": "display_data"
    }
   ],
   "source": [
    "v=c(10,20,15, 30,50,40,30) \n",
    "barplot(v, main=\"V vektörü\", xlab=\"Sayilar\", ylab=\"Yofunluk Değerleri\") \n",
    "#Sütun (Bar) grafik çizimi"
   ]
  },
  {
   "cell_type": "code",
   "execution_count": 27,
   "id": "e95c9621",
   "metadata": {},
   "outputs": [
    {
     "data": {
      "text/html": [
       "<table>\n",
       "<thead><tr><th scope=col>adi</th><th scope=col>matematik</th><th scope=col>fizik</th><th scope=col>kimya</th></tr></thead>\n",
       "<tbody>\n",
       "\t<tr><td>Hasan</td><td>9    </td><td>5    </td><td>7    </td></tr>\n",
       "\t<tr><td>Celal</td><td>7    </td><td>8    </td><td>9    </td></tr>\n",
       "\t<tr><td>Meral</td><td>5    </td><td>3    </td><td>6    </td></tr>\n",
       "\t<tr><td>Hande</td><td>7    </td><td>5    </td><td>6    </td></tr>\n",
       "\t<tr><td>Kamil</td><td>2    </td><td>6    </td><td>4    </td></tr>\n",
       "</tbody>\n",
       "</table>\n"
      ],
      "text/latex": [
       "\\begin{tabular}{r|llll}\n",
       " adi & matematik & fizik & kimya\\\\\n",
       "\\hline\n",
       "\t Hasan & 9     & 5     & 7    \\\\\n",
       "\t Celal & 7     & 8     & 9    \\\\\n",
       "\t Meral & 5     & 3     & 6    \\\\\n",
       "\t Hande & 7     & 5     & 6    \\\\\n",
       "\t Kamil & 2     & 6     & 4    \\\\\n",
       "\\end{tabular}\n"
      ],
      "text/markdown": [
       "\n",
       "| adi | matematik | fizik | kimya |\n",
       "|---|---|---|---|\n",
       "| Hasan | 9     | 5     | 7     |\n",
       "| Celal | 7     | 8     | 9     |\n",
       "| Meral | 5     | 3     | 6     |\n",
       "| Hande | 7     | 5     | 6     |\n",
       "| Kamil | 2     | 6     | 4     |\n",
       "\n"
      ],
      "text/plain": [
       "  adi   matematik fizik kimya\n",
       "1 Hasan 9         5     7    \n",
       "2 Celal 7         8     9    \n",
       "3 Meral 5         3     6    \n",
       "4 Hande 7         5     6    \n",
       "5 Kamil 2         6     4    "
      ]
     },
     "metadata": {},
     "output_type": "display_data"
    }
   ],
   "source": [
    "adi=c (\"Hasan\", \"Celal\", \"Meral\", \"Hande\", \"Kamil\")\n",
    "\n",
    "matematik=c(9,7,5,7,2)\n",
    "\n",
    "fizik=c(5,8,3,5,6)\n",
    "\n",
    "kimya=c (7,9,6,6,4)\n",
    "\n",
    "basari=data.frame (adi, matematik, fizik,kimya) #vektörler veri gergevesine dönüştürülüyor. \n",
    "basari "
   ]
  },
  {
   "cell_type": "code",
   "execution_count": 28,
   "id": "f1ffe0fd",
   "metadata": {},
   "outputs": [
    {
     "data": {
      "image/png": "[encoded data removed]",
      "text/plain": [
       "Plot with title \"Matematik Puanlari\""
      ]
     },
     "metadata": {},
     "output_type": "display_data"
    }
   ],
   "source": [
    "barplot(basari$matematik, main=\"Matematik Puanlari\",col=\"lightblue\", xlab=\"Ogrenci Adai\", ylab=\"Puani\",names=basari$adi) "
   ]
  },
  {
   "cell_type": "raw",
   "id": "e16f5ee0",
   "metadata": {},
   "source": [
    "Frekansların çubuk grafiğe eklenmesi için table() fonksiyonu kullanılır. Başarı adlı veri çerçevesinin fizik dersi ile ilgili\n",
    "frekans grafiğini çizdirelim.\n"
   ]
  },
  {
   "cell_type": "code",
   "execution_count": 30,
   "id": "cc5399e9",
   "metadata": {},
   "outputs": [
    {
     "data": {
      "image/png": "[encoded data removed]",
      "text/plain": [
       "Plot with title \"Fizik Basarisi\""
      ]
     },
     "metadata": {},
     "output_type": "display_data"
    }
   ],
   "source": [
    "frekans=table(basari$fizik) \n",
    "barplot(frekans, main=\"Fizik Basarisi\", xlab=\"Basari Puani\", ylab=\"Ogrenci Sayısı\") "
   ]
  },
  {
   "cell_type": "markdown",
   "id": "b91b8820",
   "metadata": {},
   "source": [
    "# Grafiklere Izgara Eklemek"
   ]
  },
  {
   "cell_type": "raw",
   "id": "93b46813",
   "metadata": {},
   "source": [
    "Bazı durumlarda grafiklerde ızgara kullanmak isteyebiliriz. Izgaralar sayısal olan grafiklerin daha rahat okunmasını\n",
    "sağlayabilir. Grafiklere ızgara eklemek için grid() fonksiyonu kullanılır. Bu fonksiyonun genel yapısı grid(x,y,\n",
    "col=\"renk\") biçimindedir. Bu söz diziminde x, y oluşturulmak istenen ızgaranın en ve boyunu ifade eder. Dolayısıyla\n",
    "grafik üzerinde x*y kadar ızgara oluşur. col ise ızgaraya verilecek olan rengi gösterir.\n"
   ]
  },
  {
   "cell_type": "code",
   "execution_count": 32,
   "id": "6c04c662",
   "metadata": {},
   "outputs": [
    {
     "data": {
      "image/png": "[encoded data removed]",
      "text/plain": [
       "Plot with title \"Fizik Basarisi\""
      ]
     },
     "metadata": {},
     "output_type": "display_data"
    }
   ],
   "source": [
    "frekans=table(basari$fizik) \n",
    "barplot (frekans, main=\"Fizik Basarisi\", xlab=\"Basari Puani\", ylab=\"Ogrenci Sayısı\") \n",
    "grid(10,10, col=\"blue\") #Grafik dzerinde 100 adet kare (ızgara) oluşturur "
   ]
  },
  {
   "cell_type": "raw",
   "id": "1854de30",
   "metadata": {},
   "source": [
    "Yatay bar oluşturmak için barplot() fonksiyonu içinde horiz=TRUE parametresi kullanılır.\n"
   ]
  },
  {
   "cell_type": "code",
   "execution_count": 33,
   "id": "e146f25b",
   "metadata": {},
   "outputs": [
    {
     "data": {
      "image/png": "[encoded data removed]",
      "text/plain": [
       "Plot with title \"Fizik Bagarisi\""
      ]
     },
     "metadata": {},
     "output_type": "display_data"
    }
   ],
   "source": [
    "frekans=table(basari$fizik) \n",
    "barplot (frekans, main=\"Fizik Bagarisi\", xlab=\"Basari Puani\",ylab=\"Ogrenci Sayısı\", horiz=TRUE) "
   ]
  },
  {
   "cell_type": "markdown",
   "id": "1c50bc4f",
   "metadata": {},
   "source": [
    "# Pasta Grafiği Çizdirmek"
   ]
  },
  {
   "cell_type": "raw",
   "id": "aa0d40fd",
   "metadata": {},
   "source": [
    "Bazı durumlarda elimizde olan veriyi bar veya histogram gibi grafiklerle temsil etmek uygun olmayabilir. Bu durumda\n",
    "farklı grafik türü seçmek gerek. Örnegin bir yekün içerisinde yüzde olarak kimin ne kadar etkisi olduğu veya yer aldığı,\n",
    "pasta türü grafiklerle gösterilir. Pasta grafiği çizdirmek için pie() fonksiyonu kullanılır."
   ]
  },
  {
   "cell_type": "code",
   "execution_count": 34,
   "id": "168042fc",
   "metadata": {},
   "outputs": [
    {
     "data": {
      "text/html": [
       "<table>\n",
       "<thead><tr><th scope=col>partiler</th><th scope=col>oylar</th></tr></thead>\n",
       "<tbody>\n",
       "\t<tr><td>X partisi     </td><td>13000         </td></tr>\n",
       "\t<tr><td>Y partisi     </td><td>35000         </td></tr>\n",
       "\t<tr><td>Z partisi     </td><td>28000         </td></tr>\n",
       "\t<tr><td>Bagamsizlar   </td><td> 5000         </td></tr>\n",
       "\t<tr><td>Geçersiz Oylar</td><td> 2500         </td></tr>\n",
       "</tbody>\n",
       "</table>\n"
      ],
      "text/latex": [
       "\\begin{tabular}{r|ll}\n",
       " partiler & oylar\\\\\n",
       "\\hline\n",
       "\t X partisi      & 13000         \\\\\n",
       "\t Y partisi      & 35000         \\\\\n",
       "\t Z partisi      & 28000         \\\\\n",
       "\t Bagamsizlar    &  5000         \\\\\n",
       "\t Geçersiz Oylar &  2500         \\\\\n",
       "\\end{tabular}\n"
      ],
      "text/markdown": [
       "\n",
       "| partiler | oylar |\n",
       "|---|---|\n",
       "| X partisi      | 13000          |\n",
       "| Y partisi      | 35000          |\n",
       "| Z partisi      | 28000          |\n",
       "| Bagamsizlar    |  5000          |\n",
       "| Geçersiz Oylar |  2500          |\n",
       "\n"
      ],
      "text/plain": [
       "  partiler       oylar\n",
       "1 X partisi      13000\n",
       "2 Y partisi      35000\n",
       "3 Z partisi      28000\n",
       "4 Bagamsizlar     5000\n",
       "5 Geçersiz Oylar  2500"
      ]
     },
     "metadata": {},
     "output_type": "display_data"
    }
   ],
   "source": [
    "partiler=c(\"X partisi\",\"Y partisi\", \"Z partisi\", \"Bagamsizlar\", \"Geçersiz Oylar\") \n",
    "oylar=c(13000, 35000,28000, 5000, 2500)\n",
    "\n",
    "sonuclar=data.frame (partiler, oylar) #Veri çerçevesi oluşturuluyor\n",
    "\n",
    "sonuclar "
   ]
  },
  {
   "cell_type": "code",
   "execution_count": 35,
   "id": "c91d06aa",
   "metadata": {},
   "outputs": [
    {
     "data": {
      "image/png": "[encoded data removed]",
      "text/plain": [
       "plot without title"
      ]
     },
     "metadata": {},
     "output_type": "display_data"
    }
   ],
   "source": [
    "#Yukar:da yer alan veri çerçevesindeki verileri bir pasta grafiği ile gösterelim. \n",
    "pie(sonuclar$oylar, labels (sonuclar$partiler, main=\"Partilere Göre Oyların Dağılımı\")) "
   ]
  },
  {
   "cell_type": "raw",
   "id": "163dc2fe",
   "metadata": {},
   "source": [
    "Yukarıda elde edilen grafik doğrudan vektör değerlerini kullanarakoluşturuldu. Bu grafik üzerinde partilerin aldıkları\n",
    "oy oranlarını ve parti isimlerini göstermek isteyelim. İlk olarak partilerin aldıkları oyların yüzde değerleri hesaplanır.\n",
    "Yüzde değerlerini elde etmek için her bir partinin oy değeri toplam oy değerine bölünür ve elde edilen değerler 100 ile\n",
    "çarpılır. Bu işlem aşağıdaki ekran görüntüsünde verilmiştir.\n"
   ]
  },
  {
   "cell_type": "code",
   "execution_count": 37,
   "id": "b23c9591",
   "metadata": {},
   "outputs": [
    {
     "data": {
      "text/html": [
       "<ol class=list-inline>\n",
       "\t<li>15.5688622754491</li>\n",
       "\t<li>41.9161676646707</li>\n",
       "\t<li>33.5329341317365</li>\n",
       "\t<li>5.98802395209581</li>\n",
       "\t<li>2.9940119760479</li>\n",
       "</ol>\n"
      ],
      "text/latex": [
       "\\begin{enumerate*}\n",
       "\\item 15.5688622754491\n",
       "\\item 41.9161676646707\n",
       "\\item 33.5329341317365\n",
       "\\item 5.98802395209581\n",
       "\\item 2.9940119760479\n",
       "\\end{enumerate*}\n"
      ],
      "text/markdown": [
       "1. 15.5688622754491\n",
       "2. 41.9161676646707\n",
       "3. 33.5329341317365\n",
       "4. 5.98802395209581\n",
       "5. 2.9940119760479\n",
       "\n",
       "\n"
      ],
      "text/plain": [
       "[1] 15.568862 41.916168 33.532934  5.988024  2.994012"
      ]
     },
     "metadata": {},
     "output_type": "display_data"
    }
   ],
   "source": [
    "yuzde=sonuclar$oylar/sum(sonuclar$oylar) *100 #Partilsrin oy oranları hesaplanıyor. \n",
    "yuzde "
   ]
  },
  {
   "cell_type": "code",
   "execution_count": 38,
   "id": "7589431a",
   "metadata": {},
   "outputs": [
    {
     "data": {
      "text/html": [
       "<ol class=list-inline>\n",
       "\t<li>16</li>\n",
       "\t<li>42</li>\n",
       "\t<li>34</li>\n",
       "\t<li>6</li>\n",
       "\t<li>3</li>\n",
       "</ol>\n"
      ],
      "text/latex": [
       "\\begin{enumerate*}\n",
       "\\item 16\n",
       "\\item 42\n",
       "\\item 34\n",
       "\\item 6\n",
       "\\item 3\n",
       "\\end{enumerate*}\n"
      ],
      "text/markdown": [
       "1. 16\n",
       "2. 42\n",
       "3. 34\n",
       "4. 6\n",
       "5. 3\n",
       "\n",
       "\n"
      ],
      "text/plain": [
       "[1] 16 42 34  6  3"
      ]
     },
     "metadata": {},
     "output_type": "display_data"
    }
   ],
   "source": [
    "yuzde=round (yuzde) # Yüzde değerleri tam sayıya yuvarlanıyor \n",
    "yuzde "
   ]
  },
  {
   "cell_type": "code",
   "execution_count": 40,
   "id": "32718b4c",
   "metadata": {},
   "outputs": [
    {
     "data": {
      "image/png": "[encoded data removed]",
      "text/plain": [
       "Plot with title \"Oylarin Partilere Göre Yüzde Olarak Dagilimi\""
      ]
     },
     "metadata": {},
     "output_type": "display_data"
    }
   ],
   "source": [
    "etiket=sonuclar$partiler\n",
    "\n",
    "etiket=paste(etiket, yuzde)\n",
    "\n",
    "etiket=paste(etiket, \"%\", sep=\"\")\n",
    "\n",
    "pie (sonuclar$oylar, labels=etiket, main=\"Oylarin Partilere Göre Yüzde Olarak Dağılımı\") "
   ]
  },
  {
   "cell_type": "markdown",
   "id": "6f386522",
   "metadata": {},
   "source": [
    "# ggplot2 Kullanarak Veri Görselleştirme"
   ]
  },
  {
   "cell_type": "raw",
   "id": "88011156",
   "metadata": {},
   "source": [
    "The Grammar of Graphics (İstatistik ve Hesaplama) adlı bir kitapta tanıtılan fikirler etrafında oluşturulmuş bir\n",
    "veri görselleştirme kütüphanesidir. Bu kütüphanenin 3 ana bileşeni vardır. Bu bileşenleri kullanarak kolaylıkla\n",
    "karmaşık grafikler oluşturmamıza yardımcı olur. Bu bileşenler: veri, koordinat sistemi ve geometri’den oluşur. Ayrıca\n",
    "ggplot2'ye renk, şekil, boyut vb. gibi hangi parametreleri kullanılacağını da belirtebiliriz.\n",
    "ggplot2’un söz dizimi;\n",
    "ggplot(veri, aes())+geom()\n",
    "Bu söz diziminde:\n",
    "veri – kullanılan veri seti\n",
    "aes() – estetik şekil\n",
    "geom() – Çizdirilmek istenen grafikleri ifade eder.\n"
   ]
  },
  {
   "cell_type": "markdown",
   "id": "a12f5dd8",
   "metadata": {},
   "source": [
    "# ggplot2'de Pasta Grafikleri Nasıl Yapılır"
   ]
  },
  {
   "cell_type": "code",
   "execution_count": 44,
   "id": "629f2ed6",
   "metadata": {},
   "outputs": [
    {
     "ename": "ERROR",
     "evalue": "Error in ggplot(veri, aes(x = \"\", y = miktar, fill = kategori)): could not find function \"ggplot\"\n",
     "output_type": "error",
     "traceback": [
      "Error in ggplot(veri, aes(x = \"\", y = miktar, fill = kategori)): could not find function \"ggplot\"\nTraceback:\n"
     ]
    }
   ],
   "source": [
    "#veri çerçevesi oluşturalım \n",
    "veri <- data.frame(\"kategori\" = c('A', 'B', 'C', 'D'), \"miktar\" = c(25, 40, 27, 8)) \n",
    "#pasta dilimi grafiği çizdirelim \n",
    "ggplot(veri, aes(x=\"\", y=miktar, fill=kategori)) + \n",
    "geom_bar(stat=\"identity\", width=12) + \n",
    "coord_polar(\"y\", start=2) "
   ]
  },
  {
   "cell_type": "markdown",
   "id": "18968458",
   "metadata": {},
   "source": [
    "# Pasta Grafiğin Görünümü Nasıl Değiştirilir"
   ]
  },
  {
   "cell_type": "raw",
   "id": "cfa9dc00",
   "metadata": {},
   "source": [
    "ggplot2'deki varsayılan pasta grafiği oldukça karışık görünüyor. Görünümü iyileştirmenin en basit yolu, arka planı,\n",
    "ızgarayı ve etiketleri kaldıran theme_void() işlevini kullanmaktır"
   ]
  },
  {
   "cell_type": "code",
   "execution_count": 45,
   "id": "2435d16c",
   "metadata": {},
   "outputs": [
    {
     "ename": "ERROR",
     "evalue": "Error in ggplot(veri, aes(x = \"\", y - miktar, fill - kategori)): could not find function \"ggplot\"\n",
     "output_type": "error",
     "traceback": [
      "Error in ggplot(veri, aes(x = \"\", y - miktar, fill - kategori)): could not find function \"ggplot\"\nTraceback:\n"
     ]
    }
   ],
   "source": [
    "ggplot(veri, aes(x=\"\", y-miktar, fill-kategori)) + \n",
    "geom_bar(stat=\"identity\", width=1) + \n",
    "coord_polar(\"y\", start=8) + \n",
    "theme_void() "
   ]
  },
  {
   "cell_type": "raw",
   "id": "e6035fe5",
   "metadata": {},
   "source": [
    " dilimlerin içine etiketler ekleyerek grafiğin görünümü daha da iyileştirilmiştir Scale_fill_manual() argümanıyla dilimler için kullanmak üzere kendi hex renklerimizi (\n",
    "https://htmlcolorcodes.com/color-picker/) belirterek grafiği daha da özelleştirebiliriz"
   ]
  },
  {
   "cell_type": "code",
   "execution_count": 49,
   "id": "f8d378f7",
   "metadata": {},
   "outputs": [
    {
     "ename": "ERROR",
     "evalue": "Error in ggplot(veri, aes(x = \"\", y - miktar, fill = kategori)): could not find function \"ggplot\"\n",
     "output_type": "error",
     "traceback": [
      "Error in ggplot(veri, aes(x = \"\", y - miktar, fill = kategori)): could not find function \"ggplot\"\nTraceback:\n"
     ]
    }
   ],
   "source": [
    "ggplot(veri, aes(x=\"\", y-miktar, fill=kategori)) + \n",
    "geom_bar(stat=\"identity\", width=1) + \n",
    "coord_polar(\"y\", start=0) + \n",
    "geom_text(aes(label = paste0(miktar, \"%\")), position = position_stack(vjust=0.5)) + \n",
    "labs(x =NULL, y = NULL, fill = NULL) + \n",
    "theme_classic() + \n",
    "theme(axis.line = element_blank(), \n",
    "      axis.text = element_blank(), \n",
    "      axis.ticks = element_blank()) + \n",
    "scale_fill_manual(values=c(\"FF5733\", \"yellow\", \"lightblue\", \"green\")) "
   ]
  },
  {
   "cell_type": "raw",
   "id": "e95fe618",
   "metadata": {},
   "source": [
    "Renk skalalarından birini seçerek dilimlerin renklerini de özelleştirebilirsiniz. Örneğin, \"mavi\" renk skalası şöyle\n",
    "görünür:\n"
   ]
  },
  {
   "cell_type": "code",
   "execution_count": 50,
   "id": "2545b7d8",
   "metadata": {},
   "outputs": [
    {
     "ename": "ERROR",
     "evalue": "Error in ggplot(veri, aes(x = \"\", y - miktar, fill = kategori)): could not find function \"ggplot\"\n",
     "output_type": "error",
     "traceback": [
      "Error in ggplot(veri, aes(x = \"\", y - miktar, fill = kategori)): could not find function \"ggplot\"\nTraceback:\n"
     ]
    }
   ],
   "source": [
    "ggplot(veri, aes(x=\"\", y-miktar, fill=kategori)) + \n",
    "geom_bar(stat=\"identity\", width=1) + \n",
    "coord_polar(\"y\", start=0) + \n",
    "geom_text(aes(label = paste0(miktar, \"%\")), position = position_stack(vjust=0.5)) + \n",
    "labs(x =NULL, y = NULL, fill = NULL) + \n",
    "theme_classic() + \n",
    "theme(axis.line = element_blank(), \n",
    "      axis.text = element_blank(), \n",
    "      axis.ticks = element_blank()) + \n",
    "scale_fill_brewer(palette=\"Blues\")"
   ]
  },
  {
   "cell_type": "code",
   "execution_count": null,
   "id": "5c8c2540",
   "metadata": {},
   "outputs": [],
   "source": []
  }
 ],
 "metadata": {
  "kernelspec": {
   "display_name": "R",
   "language": "R",
   "name": "ir"
  },
  "language_info": {
   "codemirror_mode": "r",
   "file_extension": ".r",
   "mimetype": "text/x-r-source",
   "name": "R",
   "pygments_lexer": "r",
   "version": "3.6.1"
  }
 },
 "nbformat": 4,
 "nbformat_minor": 5
}
