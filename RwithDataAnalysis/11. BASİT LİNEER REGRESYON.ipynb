{
 "cells": [
  {
   "cell_type": "code",
   "execution_count": 8,
   "id": "c1d24d15",
   "metadata": {},
   "outputs": [
    {
     "data": {
      "text/html": [
       "<table>\n",
       "<thead><tr><th scope=col>agirlik1</th><th scope=col>bacak_boyu</th></tr></thead>\n",
       "<tbody>\n",
       "\t<tr><td>140</td><td>60 </td></tr>\n",
       "\t<tr><td>155</td><td>62 </td></tr>\n",
       "\t<tr><td>159</td><td>67 </td></tr>\n",
       "\t<tr><td>179</td><td>70 </td></tr>\n",
       "\t<tr><td>192</td><td>71 </td></tr>\n",
       "\t<tr><td>200</td><td>72 </td></tr>\n",
       "\t<tr><td>212</td><td>75 </td></tr>\n",
       "</tbody>\n",
       "</table>\n"
      ],
      "text/latex": [
       "\\begin{tabular}{r|ll}\n",
       " agirlik1 & bacak\\_boyu\\\\\n",
       "\\hline\n",
       "\t 140 & 60 \\\\\n",
       "\t 155 & 62 \\\\\n",
       "\t 159 & 67 \\\\\n",
       "\t 179 & 70 \\\\\n",
       "\t 192 & 71 \\\\\n",
       "\t 200 & 72 \\\\\n",
       "\t 212 & 75 \\\\\n",
       "\\end{tabular}\n"
      ],
      "text/markdown": [
       "\n",
       "| agirlik1 | bacak_boyu |\n",
       "|---|---|\n",
       "| 140 | 60  |\n",
       "| 155 | 62  |\n",
       "| 159 | 67  |\n",
       "| 179 | 70  |\n",
       "| 192 | 71  |\n",
       "| 200 | 72  |\n",
       "| 212 | 75  |\n",
       "\n"
      ],
      "text/plain": [
       "  agirlik1 bacak_boyu\n",
       "1 140      60        \n",
       "2 155      62        \n",
       "3 159      67        \n",
       "4 179      70        \n",
       "5 192      71        \n",
       "6 200      72        \n",
       "7 212      75        "
      ]
     },
     "metadata": {},
     "output_type": "display_data"
    }
   ],
   "source": [
    "#Örnek Veri Seti\n",
    "\n",
    "veriler=data.frame(agirlik1=c(140,155,159,179,192,200,212), \n",
    "                    bacak_boyu=c (60, 62, 67,70,71,72,75))\n",
    "\n",
    "veriler"
   ]
  },
  {
   "cell_type": "code",
   "execution_count": 1,
   "id": "3348f409",
   "metadata": {},
   "outputs": [
    {
     "ename": "ERROR",
     "evalue": "Error in plot(agirlik1, bacak_boyu, main = \"Agirlik ile Bacak Boyu Iliskisi\"): object 'agirlik1' not found\n",
     "output_type": "error",
     "traceback": [
      "Error in plot(agirlik1, bacak_boyu, main = \"Agirlik ile Bacak Boyu Iliskisi\"): object 'agirlik1' not found\nTraceback:\n",
      "1. plot(agirlik1, bacak_boyu, main = \"Agirlik ile Bacak Boyu Iliskisi\")"
     ]
    }
   ],
   "source": [
    "plot(agirlik1,bacak_boyu,main='Agirlik ile Bacak Boyu Iliskisi')"
   ]
  },
  {
   "cell_type": "code",
   "execution_count": 12,
   "id": "fc64907e",
   "metadata": {},
   "outputs": [
    {
     "ename": "ERROR",
     "evalue": "Error in plot(agirlik, bacak_boyu, main = \"Agirliklar ile Bacak Boyu Iliskisi\"): object 'agirlik' not found\n",
     "output_type": "error",
     "traceback": [
      "Error in plot(agirlik, bacak_boyu, main = \"Agirliklar ile Bacak Boyu Iliskisi\"): object 'agirlik' not found\nTraceback:\n",
      "1. plot(agirlik, bacak_boyu, main = \"Agirliklar ile Bacak Boyu Iliskisi\")"
     ]
    }
   ],
   "source": [
    "plot(agirlik, bacak_boyu, main='Agirliklar ile Bacak Boyu Iliskisi') \n",
    "abline (lm(bacak_boyu ~ ağırlık, data = veriler), col = \"blue\") "
   ]
  },
  {
   "cell_type": "code",
   "execution_count": 13,
   "id": "24cd4581",
   "metadata": {},
   "outputs": [],
   "source": [
    "#Veri Seti Olusturma \n",
    "veriseti= data.frame(calisma_saati=c(1, 2, 4, 5, 5, 6, 6, 7, 8, 10, 11, 11, 12, 12, 14), \n",
    "                    basari=c(64, 66, 76, 73, 74, 81, 83, 82, 80, 88, 84, 82, 91, 93, 89)) "
   ]
  },
  {
   "cell_type": "code",
   "execution_count": 14,
   "id": "22ec6734",
   "metadata": {},
   "outputs": [
    {
     "data": {
      "text/html": [
       "<table>\n",
       "<thead><tr><th scope=col>calisma_saati</th><th scope=col>basari</th></tr></thead>\n",
       "<tbody>\n",
       "\t<tr><td>1 </td><td>64</td></tr>\n",
       "\t<tr><td>2 </td><td>66</td></tr>\n",
       "\t<tr><td>4 </td><td>76</td></tr>\n",
       "\t<tr><td>5 </td><td>73</td></tr>\n",
       "\t<tr><td>5 </td><td>74</td></tr>\n",
       "\t<tr><td>6 </td><td>81</td></tr>\n",
       "</tbody>\n",
       "</table>\n"
      ],
      "text/latex": [
       "\\begin{tabular}{r|ll}\n",
       " calisma\\_saati & basari\\\\\n",
       "\\hline\n",
       "\t 1  & 64\\\\\n",
       "\t 2  & 66\\\\\n",
       "\t 4  & 76\\\\\n",
       "\t 5  & 73\\\\\n",
       "\t 5  & 74\\\\\n",
       "\t 6  & 81\\\\\n",
       "\\end{tabular}\n"
      ],
      "text/markdown": [
       "\n",
       "| calisma_saati | basari |\n",
       "|---|---|\n",
       "| 1  | 64 |\n",
       "| 2  | 66 |\n",
       "| 4  | 76 |\n",
       "| 5  | 73 |\n",
       "| 5  | 74 |\n",
       "| 6  | 81 |\n",
       "\n"
      ],
      "text/plain": [
       "  calisma_saati basari\n",
       "1 1             64    \n",
       "2 2             66    \n",
       "3 4             76    \n",
       "4 5             73    \n",
       "5 5             74    \n",
       "6 6             81    "
      ]
     },
     "metadata": {},
     "output_type": "display_data"
    }
   ],
   "source": [
    "head (veriseti) #Veri setinin ilk 6 satırını görüntüleme "
   ]
  },
  {
   "cell_type": "code",
   "execution_count": 15,
   "id": "7b1abc64",
   "metadata": {},
   "outputs": [],
   "source": [
    "attach (veriseti) #Veri çerçevesi değişkenlerine erişmek icin bağlama fonksiyonu kullanılır. "
   ]
  },
  {
   "cell_type": "code",
   "execution_count": 17,
   "id": "a2e02dbb",
   "metadata": {},
   "outputs": [
    {
     "data": {
      "image/png": "[encoded data removed]",
      "text/plain": [
       "Plot with title \"Calisma Saatine Göre Basari Puani\""
      ]
     },
     "metadata": {},
     "output_type": "display_data"
    }
   ],
   "source": [
    "scatter.smooth (calisma_saati, basari, main='Calisma Saatine Göre Basari Puani') #Mevcut verinin çirdirilmesi "
   ]
  },
  {
   "cell_type": "code",
   "execution_count": 18,
   "id": "31438ec4",
   "metadata": {
    "scrolled": true
   },
   "outputs": [
    {
     "data": {
      "image/png": "[encoded data removed]",
      "text/plain": [
       "plot without title"
      ]
     },
     "metadata": {},
     "output_type": "display_data"
    }
   ],
   "source": [
    "boxplot(basari) #Veride aykırı veriler olup olmadığı boxplot grafiği ile görüntüleniyor. "
   ]
  },
  {
   "cell_type": "code",
   "execution_count": 27,
   "id": "d6f79ecc",
   "metadata": {},
   "outputs": [],
   "source": [
    "#Basit lineer Modelin Kurulması \n",
    "model=lm(basari~calisma_saati) #R'da lineer model 1m() fonksiyonu ile oluşturulur. "
   ]
  },
  {
   "cell_type": "code",
   "execution_count": 28,
   "id": "cea0df4a",
   "metadata": {},
   "outputs": [
    {
     "data": {
      "text/plain": [
       "\n",
       "Call:\n",
       "lm(formula = basari ~ calisma_saati)\n",
       "\n",
       "Residuals:\n",
       "   Min     1Q Median     3Q    Max \n",
       "-5.140 -3.219 -1.193  2.816  5.772 \n",
       "\n",
       "Coefficients:\n",
       "              Estimate Std. Error t value Pr(>|t|)    \n",
       "(Intercept)     65.334      2.106  31.023 1.41e-13 ***\n",
       "calisma_saati    1.982      0.248   7.995 2.25e-06 ***\n",
       "---\n",
       "Signif. codes:  0 '***' 0.001 '**' 0.01 '*' 0.05 '.' 0.1 ' ' 1\n",
       "\n",
       "Residual standard error: 3.641 on 13 degrees of freedom\n",
       "Multiple R-squared:  0.831,\tAdjusted R-squared:  0.818 \n",
       "F-statistic: 63.91 on 1 and 13 DF,  p-value: 2.253e-06\n"
      ]
     },
     "metadata": {},
     "output_type": "display_data"
    }
   ],
   "source": [
    "#Modelin Sonuçlarının ekrana yansitilmasi/gosterilmesi \n",
    "summary(model)"
   ]
  },
  {
   "cell_type": "code",
   "execution_count": 29,
   "id": "1fe9ef71",
   "metadata": {},
   "outputs": [],
   "source": [
    "artik=resid (model) #Artik değerler resid() fonksiyonu ile elde edilir. "
   ]
  },
  {
   "cell_type": "code",
   "execution_count": 30,
   "id": "d57446ae",
   "metadata": {},
   "outputs": [
    {
     "data": {
      "image/png": "[encoded data removed]",
      "text/plain": [
       "plot without title"
      ]
     },
     "metadata": {},
     "output_type": "display_data"
    }
   ],
   "source": [
    "plot (fitted (model), artik) #Artik dedelerin model değerlerine göre çirdirilmesi \n",
    "abline (0,0) # Sıfır () eksenini gizdiriyoruz. "
   ]
  },
  {
   "cell_type": "code",
   "execution_count": 31,
   "id": "9e56a18d",
   "metadata": {},
   "outputs": [
    {
     "data": {
      "image/png": "[encoded data removed]",
      "text/plain": [
       "Plot with title \"Normal Q-Q Plot\""
      ]
     },
     "metadata": {},
     "output_type": "display_data"
    }
   ],
   "source": [
    "qqnorm(artik) \n",
    "qqline (artık) "
   ]
  },
  {
   "cell_type": "code",
   "execution_count": null,
   "id": "5c4861e8",
   "metadata": {},
   "outputs": [],
   "source": []
  }
 ],
 "metadata": {
  "kernelspec": {
   "display_name": "R",
   "language": "R",
   "name": "ir"
  },
  "language_info": {
   "codemirror_mode": "r",
   "file_extension": ".r",
   "mimetype": "text/x-r-source",
   "name": "R",
   "pygments_lexer": "r",
   "version": "3.6.1"
  }
 },
 "nbformat": 4,
 "nbformat_minor": 5
}
