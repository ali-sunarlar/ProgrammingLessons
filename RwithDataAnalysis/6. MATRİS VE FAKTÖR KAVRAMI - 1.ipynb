{
 "cells": [
  {
   "cell_type": "markdown",
   "id": "e79a33ca",
   "metadata": {},
   "source": [
    "# Matris Olusturma"
   ]
  },
  {
   "cell_type": "code",
   "execution_count": 14,
   "id": "02a561be",
   "metadata": {},
   "outputs": [
    {
     "name": "stderr",
     "output_type": "stream",
     "text": [
      "Warning message in matrix(c(1, 2, 3, 4, 5), 3, 2, byrow = TRUE):\n",
      "\"data length [5] is not a sub-multiple or multiple of the number of rows [3]\""
     ]
    },
    {
     "data": {
      "text/html": [
       "<table>\n",
       "<tbody>\n",
       "\t<tr><td>1</td><td>2</td></tr>\n",
       "\t<tr><td>3</td><td>4</td></tr>\n",
       "\t<tr><td>5</td><td>1</td></tr>\n",
       "</tbody>\n",
       "</table>\n"
      ],
      "text/latex": [
       "\\begin{tabular}{ll}\n",
       "\t 1 & 2\\\\\n",
       "\t 3 & 4\\\\\n",
       "\t 5 & 1\\\\\n",
       "\\end{tabular}\n"
      ],
      "text/markdown": [
       "\n",
       "| 1 | 2 |\n",
       "| 3 | 4 |\n",
       "| 5 | 1 |\n",
       "\n"
      ],
      "text/plain": [
       "     [,1] [,2]\n",
       "[1,] 1    2   \n",
       "[2,] 3    4   \n",
       "[3,] 5    1   "
      ]
     },
     "metadata": {},
     "output_type": "display_data"
    }
   ],
   "source": [
    "matrisA=matrix(c(1,2,3,4,5),3,2, byrow=TRUE) # 3 satir ve 2 sutundan olusan bir matris olusturur ##once satirlar doldurulur\n",
    "matrisA"
   ]
  },
  {
   "cell_type": "code",
   "execution_count": 8,
   "id": "46437190",
   "metadata": {},
   "outputs": [
    {
     "data": {
      "text/html": [
       "<table>\n",
       "<tbody>\n",
       "\t<tr><td>1</td><td>4</td></tr>\n",
       "\t<tr><td>2</td><td>5</td></tr>\n",
       "\t<tr><td>3</td><td>6</td></tr>\n",
       "</tbody>\n",
       "</table>\n"
      ],
      "text/latex": [
       "\\begin{tabular}{ll}\n",
       "\t 1 & 4\\\\\n",
       "\t 2 & 5\\\\\n",
       "\t 3 & 6\\\\\n",
       "\\end{tabular}\n"
      ],
      "text/markdown": [
       "\n",
       "| 1 | 4 |\n",
       "| 2 | 5 |\n",
       "| 3 | 6 |\n",
       "\n"
      ],
      "text/plain": [
       "     [,1] [,2]\n",
       "[1,] 1    4   \n",
       "[2,] 2    5   \n",
       "[3,] 3    6   "
      ]
     },
     "metadata": {},
     "output_type": "display_data"
    }
   ],
   "source": [
    "matrisA=matrix(c(1,2,3,4,5,6),3,2, byrow=FALSE) ## 3 satir ve 2 sutundan olusan bir matris olusturur ##once sutunlar doldurulur\n",
    "matrisA"
   ]
  },
  {
   "cell_type": "code",
   "execution_count": 9,
   "id": "0dbea4f9",
   "metadata": {},
   "outputs": [
    {
     "data": {
      "text/html": [
       "<ol class=list-inline>\n",
       "\t<li>3</li>\n",
       "\t<li>2</li>\n",
       "</ol>\n"
      ],
      "text/latex": [
       "\\begin{enumerate*}\n",
       "\\item 3\n",
       "\\item 2\n",
       "\\end{enumerate*}\n"
      ],
      "text/markdown": [
       "1. 3\n",
       "2. 2\n",
       "\n",
       "\n"
      ],
      "text/plain": [
       "[1] 3 2"
      ]
     },
     "metadata": {},
     "output_type": "display_data"
    }
   ],
   "source": [
    "dim(matrisA) #matrisin boyutları ogreniliyor"
   ]
  },
  {
   "cell_type": "code",
   "execution_count": 13,
   "id": "7f6a1cce",
   "metadata": {},
   "outputs": [
    {
     "data": {
      "text/html": [
       "<table>\n",
       "<tbody>\n",
       "\t<tr><td>1</td><td>4</td><td>7</td></tr>\n",
       "\t<tr><td>2</td><td>5</td><td>8</td></tr>\n",
       "\t<tr><td>3</td><td>6</td><td>9</td></tr>\n",
       "</tbody>\n",
       "</table>\n"
      ],
      "text/latex": [
       "\\begin{tabular}{lll}\n",
       "\t 1 & 4 & 7\\\\\n",
       "\t 2 & 5 & 8\\\\\n",
       "\t 3 & 6 & 9\\\\\n",
       "\\end{tabular}\n"
      ],
      "text/markdown": [
       "\n",
       "| 1 | 4 | 7 |\n",
       "| 2 | 5 | 8 |\n",
       "| 3 | 6 | 9 |\n",
       "\n"
      ],
      "text/plain": [
       "     [,1] [,2] [,3]\n",
       "[1,] 1    4    7   \n",
       "[2,] 2    5    8   \n",
       "[3,] 3    6    9   "
      ]
     },
     "metadata": {},
     "output_type": "display_data"
    }
   ],
   "source": [
    "karematris=matrix(c(1,2,3,4,5,6,7,8,9),3) #byrow parametresi yazilmaz ise once sutunlar doldurulur.\n",
    "karematris"
   ]
  },
  {
   "cell_type": "markdown",
   "id": "5759b9d5",
   "metadata": {},
   "source": [
    "# Vektor Birlestilerek Matris Olusturma"
   ]
  },
  {
   "cell_type": "code",
   "execution_count": 15,
   "id": "4bddf07d",
   "metadata": {},
   "outputs": [
    {
     "data": {
      "text/html": [
       "<table>\n",
       "<tbody>\n",
       "\t<tr><td>1 </td><td>5 </td><td> 9</td></tr>\n",
       "\t<tr><td>2 </td><td>6 </td><td>10</td></tr>\n",
       "\t<tr><td>3 </td><td>7 </td><td>11</td></tr>\n",
       "\t<tr><td>4 </td><td>8 </td><td>12</td></tr>\n",
       "</tbody>\n",
       "</table>\n"
      ],
      "text/latex": [
       "\\begin{tabular}{lll}\n",
       "\t 1  & 5  &  9\\\\\n",
       "\t 2  & 6  & 10\\\\\n",
       "\t 3  & 7  & 11\\\\\n",
       "\t 4  & 8  & 12\\\\\n",
       "\\end{tabular}\n"
      ],
      "text/markdown": [
       "\n",
       "| 1  | 5  |  9 |\n",
       "| 2  | 6  | 10 |\n",
       "| 3  | 7  | 11 |\n",
       "| 4  | 8  | 12 |\n",
       "\n"
      ],
      "text/plain": [
       "     [,1] [,2] [,3]\n",
       "[1,] 1    5     9  \n",
       "[2,] 2    6    10  \n",
       "[3,] 3    7    11  \n",
       "[4,] 4    8    12  "
      ]
     },
     "metadata": {},
     "output_type": "display_data"
    }
   ],
   "source": [
    "matrisB=cbind(c(1,2,3,4),c(5,6,7,8),c(9,10,11,12)) #vektorler sutun olarak birlestiriliyor\n",
    "matrisB"
   ]
  },
  {
   "cell_type": "code",
   "execution_count": 16,
   "id": "6a6807d2",
   "metadata": {},
   "outputs": [
    {
     "data": {
      "text/html": [
       "<table>\n",
       "<tbody>\n",
       "\t<tr><td>1 </td><td> 2</td><td> 3</td><td> 4</td></tr>\n",
       "\t<tr><td>5 </td><td> 6</td><td> 7</td><td> 8</td></tr>\n",
       "\t<tr><td>9 </td><td>10</td><td>11</td><td>12</td></tr>\n",
       "</tbody>\n",
       "</table>\n"
      ],
      "text/latex": [
       "\\begin{tabular}{llll}\n",
       "\t 1  &  2 &  3 &  4\\\\\n",
       "\t 5  &  6 &  7 &  8\\\\\n",
       "\t 9  & 10 & 11 & 12\\\\\n",
       "\\end{tabular}\n"
      ],
      "text/markdown": [
       "\n",
       "| 1  |  2 |  3 |  4 |\n",
       "| 5  |  6 |  7 |  8 |\n",
       "| 9  | 10 | 11 | 12 |\n",
       "\n"
      ],
      "text/plain": [
       "     [,1] [,2] [,3] [,4]\n",
       "[1,] 1     2    3    4  \n",
       "[2,] 5     6    7    8  \n",
       "[3,] 9    10   11   12  "
      ]
     },
     "metadata": {},
     "output_type": "display_data"
    }
   ],
   "source": [
    "matrisC=rbind(c(1,2,3,4),c(5,6,7,8),c(9,10,11,12)) #vektorler satir olarak birlestiriliyor\n",
    "matrisC"
   ]
  },
  {
   "cell_type": "markdown",
   "id": "2dc0b39b",
   "metadata": {},
   "source": [
    "# Matrise Yeni Bir Vektor Ekleme"
   ]
  },
  {
   "cell_type": "code",
   "execution_count": 19,
   "id": "60ef8fc5",
   "metadata": {},
   "outputs": [
    {
     "data": {
      "text/html": [
       "<table>\n",
       "<tbody>\n",
       "\t<tr><td>10</td><td>40</td><td>70</td></tr>\n",
       "\t<tr><td>20</td><td>50</td><td>80</td></tr>\n",
       "\t<tr><td>30</td><td>60</td><td>90</td></tr>\n",
       "</tbody>\n",
       "</table>\n"
      ],
      "text/latex": [
       "\\begin{tabular}{lll}\n",
       "\t 10 & 40 & 70\\\\\n",
       "\t 20 & 50 & 80\\\\\n",
       "\t 30 & 60 & 90\\\\\n",
       "\\end{tabular}\n"
      ],
      "text/markdown": [
       "\n",
       "| 10 | 40 | 70 |\n",
       "| 20 | 50 | 80 |\n",
       "| 30 | 60 | 90 |\n",
       "\n"
      ],
      "text/plain": [
       "     [,1] [,2] [,3]\n",
       "[1,] 10   40   70  \n",
       "[2,] 20   50   80  \n",
       "[3,] 30   60   90  "
      ]
     },
     "metadata": {},
     "output_type": "display_data"
    }
   ],
   "source": [
    "matrisD=matrix(c(10,20,30,40,50,60,70,80,90),3)\n",
    "matrisD"
   ]
  },
  {
   "cell_type": "code",
   "execution_count": 20,
   "id": "42f9156e",
   "metadata": {},
   "outputs": [
    {
     "data": {
      "text/html": [
       "<table>\n",
       "<tbody>\n",
       "\t<tr><td>10</td><td>40</td><td>70</td></tr>\n",
       "\t<tr><td>20</td><td>50</td><td>80</td></tr>\n",
       "\t<tr><td>30</td><td>60</td><td>90</td></tr>\n",
       "\t<tr><td>33</td><td>66</td><td>99</td></tr>\n",
       "</tbody>\n",
       "</table>\n"
      ],
      "text/latex": [
       "\\begin{tabular}{lll}\n",
       "\t 10 & 40 & 70\\\\\n",
       "\t 20 & 50 & 80\\\\\n",
       "\t 30 & 60 & 90\\\\\n",
       "\t 33 & 66 & 99\\\\\n",
       "\\end{tabular}\n"
      ],
      "text/markdown": [
       "\n",
       "| 10 | 40 | 70 |\n",
       "| 20 | 50 | 80 |\n",
       "| 30 | 60 | 90 |\n",
       "| 33 | 66 | 99 |\n",
       "\n"
      ],
      "text/plain": [
       "     [,1] [,2] [,3]\n",
       "[1,] 10   40   70  \n",
       "[2,] 20   50   80  \n",
       "[3,] 30   60   90  \n",
       "[4,] 33   66   99  "
      ]
     },
     "metadata": {},
     "output_type": "display_data"
    }
   ],
   "source": [
    "rbind(matrisD,c(33,66,99)) #matrisD'ye c(33,66,99) vektoru satir olarak ekleniyor."
   ]
  },
  {
   "cell_type": "code",
   "execution_count": 21,
   "id": "6400da3d",
   "metadata": {},
   "outputs": [
    {
     "data": {
      "text/html": [
       "<table>\n",
       "<tbody>\n",
       "\t<tr><td>10</td><td>40</td><td>70</td><td>77</td></tr>\n",
       "\t<tr><td>20</td><td>50</td><td>80</td><td>88</td></tr>\n",
       "\t<tr><td>30</td><td>60</td><td>90</td><td>99</td></tr>\n",
       "</tbody>\n",
       "</table>\n"
      ],
      "text/latex": [
       "\\begin{tabular}{llll}\n",
       "\t 10 & 40 & 70 & 77\\\\\n",
       "\t 20 & 50 & 80 & 88\\\\\n",
       "\t 30 & 60 & 90 & 99\\\\\n",
       "\\end{tabular}\n"
      ],
      "text/markdown": [
       "\n",
       "| 10 | 40 | 70 | 77 |\n",
       "| 20 | 50 | 80 | 88 |\n",
       "| 30 | 60 | 90 | 99 |\n",
       "\n"
      ],
      "text/plain": [
       "     [,1] [,2] [,3] [,4]\n",
       "[1,] 10   40   70   77  \n",
       "[2,] 20   50   80   88  \n",
       "[3,] 30   60   90   99  "
      ]
     },
     "metadata": {},
     "output_type": "display_data"
    }
   ],
   "source": [
    "cbind(matrisD,c(77,88,99)) #matrisD'ye c(77,88,99) vektoru sutun olarak ekleniyor"
   ]
  },
  {
   "cell_type": "markdown",
   "id": "cfe794ab",
   "metadata": {},
   "source": [
    "# Matris Elemanlarina Erisim"
   ]
  },
  {
   "cell_type": "code",
   "execution_count": 18,
   "id": "e320220b",
   "metadata": {},
   "outputs": [
    {
     "data": {
      "text/html": [
       "<table>\n",
       "<tbody>\n",
       "\t<tr><td>1 </td><td>5 </td><td> 9</td></tr>\n",
       "\t<tr><td>2 </td><td>6 </td><td>10</td></tr>\n",
       "\t<tr><td>3 </td><td>7 </td><td>11</td></tr>\n",
       "\t<tr><td>4 </td><td>8 </td><td>12</td></tr>\n",
       "</tbody>\n",
       "</table>\n"
      ],
      "text/latex": [
       "\\begin{tabular}{lll}\n",
       "\t 1  & 5  &  9\\\\\n",
       "\t 2  & 6  & 10\\\\\n",
       "\t 3  & 7  & 11\\\\\n",
       "\t 4  & 8  & 12\\\\\n",
       "\\end{tabular}\n"
      ],
      "text/markdown": [
       "\n",
       "| 1  | 5  |  9 |\n",
       "| 2  | 6  | 10 |\n",
       "| 3  | 7  | 11 |\n",
       "| 4  | 8  | 12 |\n",
       "\n"
      ],
      "text/plain": [
       "     [,1] [,2] [,3]\n",
       "[1,] 1    5     9  \n",
       "[2,] 2    6    10  \n",
       "[3,] 3    7    11  \n",
       "[4,] 4    8    12  "
      ]
     },
     "metadata": {},
     "output_type": "display_data"
    }
   ],
   "source": [
    "matrisK<-matrix(1:12,byrow=FALSE,ncol=3) #uc satirli bir matris olusturuluyor\n",
    "matrisK"
   ]
  },
  {
   "cell_type": "code",
   "execution_count": 22,
   "id": "07448135",
   "metadata": {},
   "outputs": [
    {
     "data": {
      "text/html": [
       "5"
      ],
      "text/latex": [
       "5"
      ],
      "text/markdown": [
       "5"
      ],
      "text/plain": [
       "[1] 5"
      ]
     },
     "metadata": {},
     "output_type": "display_data"
    }
   ],
   "source": [
    "matrisK[1,2] #matrisK'nın 1. satir ve 2. sutunun kesisimi olan eleman aliniyor"
   ]
  },
  {
   "cell_type": "code",
   "execution_count": 23,
   "id": "525f1eec",
   "metadata": {},
   "outputs": [
    {
     "data": {
      "text/html": [
       "<table>\n",
       "<tbody>\n",
       "\t<tr><td>5 </td><td> 9</td></tr>\n",
       "\t<tr><td>6 </td><td>10</td></tr>\n",
       "\t<tr><td>7 </td><td>11</td></tr>\n",
       "</tbody>\n",
       "</table>\n"
      ],
      "text/latex": [
       "\\begin{tabular}{ll}\n",
       "\t 5  &  9\\\\\n",
       "\t 6  & 10\\\\\n",
       "\t 7  & 11\\\\\n",
       "\\end{tabular}\n"
      ],
      "text/markdown": [
       "\n",
       "| 5  |  9 |\n",
       "| 6  | 10 |\n",
       "| 7  | 11 |\n",
       "\n"
      ],
      "text/plain": [
       "     [,1] [,2]\n",
       "[1,] 5     9  \n",
       "[2,] 6    10  \n",
       "[3,] 7    11  "
      ]
     },
     "metadata": {},
     "output_type": "display_data"
    }
   ],
   "source": [
    "matrisK[1:3,2:3] #matrisK'nın 1.2.3. satir ile 2 ve 3 sutunun kesişimi elemanlari aliniyor"
   ]
  },
  {
   "cell_type": "code",
   "execution_count": 24,
   "id": "e1f04676",
   "metadata": {},
   "outputs": [
    {
     "data": {
      "text/html": [
       "<ol class=list-inline>\n",
       "\t<li>1</li>\n",
       "\t<li>2</li>\n",
       "\t<li>3</li>\n",
       "\t<li>4</li>\n",
       "</ol>\n"
      ],
      "text/latex": [
       "\\begin{enumerate*}\n",
       "\\item 1\n",
       "\\item 2\n",
       "\\item 3\n",
       "\\item 4\n",
       "\\end{enumerate*}\n"
      ],
      "text/markdown": [
       "1. 1\n",
       "2. 2\n",
       "3. 3\n",
       "4. 4\n",
       "\n",
       "\n"
      ],
      "text/plain": [
       "[1] 1 2 3 4"
      ]
     },
     "metadata": {},
     "output_type": "display_data"
    }
   ],
   "source": [
    "matrisK[,1] #matrisK'nın 1. sutun elemanlari aliniyor"
   ]
  },
  {
   "cell_type": "code",
   "execution_count": 25,
   "id": "870aaa63",
   "metadata": {},
   "outputs": [
    {
     "data": {
      "text/html": [
       "<ol class=list-inline>\n",
       "\t<li>1</li>\n",
       "\t<li>5</li>\n",
       "\t<li>9</li>\n",
       "</ol>\n"
      ],
      "text/latex": [
       "\\begin{enumerate*}\n",
       "\\item 1\n",
       "\\item 5\n",
       "\\item 9\n",
       "\\end{enumerate*}\n"
      ],
      "text/markdown": [
       "1. 1\n",
       "2. 5\n",
       "3. 9\n",
       "\n",
       "\n"
      ],
      "text/plain": [
       "[1] 1 5 9"
      ]
     },
     "metadata": {},
     "output_type": "display_data"
    }
   ],
   "source": [
    "matrisK[1,] #matrisK'nın 1. satir elemanlari aliniyor"
   ]
  },
  {
   "cell_type": "markdown",
   "id": "6787aa5a",
   "metadata": {},
   "source": [
    "# Matris Elemanlarinin Silinmesi"
   ]
  },
  {
   "cell_type": "code",
   "execution_count": 26,
   "id": "c30720ed",
   "metadata": {},
   "outputs": [
    {
     "data": {
      "text/html": [
       "<table>\n",
       "<tbody>\n",
       "\t<tr><td>1 </td><td>5 </td><td> 9</td></tr>\n",
       "\t<tr><td>2 </td><td>6 </td><td>10</td></tr>\n",
       "\t<tr><td>3 </td><td>7 </td><td>11</td></tr>\n",
       "\t<tr><td>4 </td><td>8 </td><td>12</td></tr>\n",
       "</tbody>\n",
       "</table>\n"
      ],
      "text/latex": [
       "\\begin{tabular}{lll}\n",
       "\t 1  & 5  &  9\\\\\n",
       "\t 2  & 6  & 10\\\\\n",
       "\t 3  & 7  & 11\\\\\n",
       "\t 4  & 8  & 12\\\\\n",
       "\\end{tabular}\n"
      ],
      "text/markdown": [
       "\n",
       "| 1  | 5  |  9 |\n",
       "| 2  | 6  | 10 |\n",
       "| 3  | 7  | 11 |\n",
       "| 4  | 8  | 12 |\n",
       "\n"
      ],
      "text/plain": [
       "     [,1] [,2] [,3]\n",
       "[1,] 1    5     9  \n",
       "[2,] 2    6    10  \n",
       "[3,] 3    7    11  \n",
       "[4,] 4    8    12  "
      ]
     },
     "metadata": {},
     "output_type": "display_data"
    }
   ],
   "source": [
    "matrisK"
   ]
  },
  {
   "cell_type": "code",
   "execution_count": 28,
   "id": "8a2a6ba5",
   "metadata": {},
   "outputs": [
    {
     "data": {
      "text/html": [
       "<table>\n",
       "<tbody>\n",
       "\t<tr><td>2 </td><td>6 </td><td>10</td></tr>\n",
       "\t<tr><td>3 </td><td>7 </td><td>11</td></tr>\n",
       "\t<tr><td>4 </td><td>8 </td><td>12</td></tr>\n",
       "</tbody>\n",
       "</table>\n"
      ],
      "text/latex": [
       "\\begin{tabular}{lll}\n",
       "\t 2  & 6  & 10\\\\\n",
       "\t 3  & 7  & 11\\\\\n",
       "\t 4  & 8  & 12\\\\\n",
       "\\end{tabular}\n"
      ],
      "text/markdown": [
       "\n",
       "| 2  | 6  | 10 |\n",
       "| 3  | 7  | 11 |\n",
       "| 4  | 8  | 12 |\n",
       "\n"
      ],
      "text/plain": [
       "     [,1] [,2] [,3]\n",
       "[1,] 2    6    10  \n",
       "[2,] 3    7    11  \n",
       "[3,] 4    8    12  "
      ]
     },
     "metadata": {},
     "output_type": "display_data"
    }
   ],
   "source": [
    "matrisK[-1,] #1. satir siliniyor"
   ]
  },
  {
   "cell_type": "code",
   "execution_count": 29,
   "id": "24e56ac7",
   "metadata": {},
   "outputs": [
    {
     "data": {
      "text/html": [
       "<table>\n",
       "<tbody>\n",
       "\t<tr><td>1</td><td>5</td></tr>\n",
       "\t<tr><td>2</td><td>6</td></tr>\n",
       "\t<tr><td>3</td><td>7</td></tr>\n",
       "\t<tr><td>4</td><td>8</td></tr>\n",
       "</tbody>\n",
       "</table>\n"
      ],
      "text/latex": [
       "\\begin{tabular}{ll}\n",
       "\t 1 & 5\\\\\n",
       "\t 2 & 6\\\\\n",
       "\t 3 & 7\\\\\n",
       "\t 4 & 8\\\\\n",
       "\\end{tabular}\n"
      ],
      "text/markdown": [
       "\n",
       "| 1 | 5 |\n",
       "| 2 | 6 |\n",
       "| 3 | 7 |\n",
       "| 4 | 8 |\n",
       "\n"
      ],
      "text/plain": [
       "     [,1] [,2]\n",
       "[1,] 1    5   \n",
       "[2,] 2    6   \n",
       "[3,] 3    7   \n",
       "[4,] 4    8   "
      ]
     },
     "metadata": {},
     "output_type": "display_data"
    }
   ],
   "source": [
    "matrisK[,-3] #2. sutun siliniyor"
   ]
  },
  {
   "cell_type": "code",
   "execution_count": 31,
   "id": "72fc785c",
   "metadata": {},
   "outputs": [
    {
     "data": {
      "text/html": [
       "<table>\n",
       "<tbody>\n",
       "\t<tr><td>3 </td><td>7 </td><td>11</td></tr>\n",
       "\t<tr><td>4 </td><td>8 </td><td>12</td></tr>\n",
       "</tbody>\n",
       "</table>\n"
      ],
      "text/latex": [
       "\\begin{tabular}{lll}\n",
       "\t 3  & 7  & 11\\\\\n",
       "\t 4  & 8  & 12\\\\\n",
       "\\end{tabular}\n"
      ],
      "text/markdown": [
       "\n",
       "| 3  | 7  | 11 |\n",
       "| 4  | 8  | 12 |\n",
       "\n"
      ],
      "text/plain": [
       "     [,1] [,2] [,3]\n",
       "[1,] 3    7    11  \n",
       "[2,] 4    8    12  "
      ]
     },
     "metadata": {},
     "output_type": "display_data"
    }
   ],
   "source": [
    "matrisK[-(1:2),]"
   ]
  },
  {
   "cell_type": "markdown",
   "id": "0889320e",
   "metadata": {},
   "source": [
    "# Faktor Olusturma"
   ]
  },
  {
   "cell_type": "code",
   "execution_count": 34,
   "id": "5a6467a1",
   "metadata": {},
   "outputs": [
    {
     "data": {
      "text/html": [
       "<ol class=list-inline>\n",
       "\t<li>Kadin</li>\n",
       "\t<li>Erkek</li>\n",
       "\t<li>Kadin</li>\n",
       "\t<li>Kadin</li>\n",
       "\t<li>Erkek</li>\n",
       "</ol>\n",
       "\n",
       "<details>\n",
       "\t<summary style=display:list-item;cursor:pointer>\n",
       "\t\t<strong>Levels</strong>:\n",
       "\t</summary>\n",
       "\t<ol class=list-inline>\n",
       "\t\t<li>'Erkek'</li>\n",
       "\t\t<li>'Kadin'</li>\n",
       "\t</ol>\n",
       "</details>"
      ],
      "text/latex": [
       "\\begin{enumerate*}\n",
       "\\item Kadin\n",
       "\\item Erkek\n",
       "\\item Kadin\n",
       "\\item Kadin\n",
       "\\item Erkek\n",
       "\\end{enumerate*}\n",
       "\n",
       "\\emph{Levels}: \\begin{enumerate*}\n",
       "\\item 'Erkek'\n",
       "\\item 'Kadin'\n",
       "\\end{enumerate*}\n"
      ],
      "text/markdown": [
       "1. Kadin\n",
       "2. Erkek\n",
       "3. Kadin\n",
       "4. Kadin\n",
       "5. Erkek\n",
       "\n",
       "\n",
       "\n",
       "**Levels**: 1. 'Erkek'\n",
       "2. 'Kadin'\n",
       "\n",
       "\n"
      ],
      "text/plain": [
       "[1] Kadin Erkek Kadin Kadin Erkek\n",
       "Levels: Erkek Kadin"
      ]
     },
     "metadata": {},
     "output_type": "display_data"
    }
   ],
   "source": [
    "faktor1=factor(c(\"Kadin\",\"Erkek\",\"Kadin\",\"Kadin\",\"Erkek\"))\n",
    "faktor1"
   ]
  },
  {
   "cell_type": "code",
   "execution_count": 35,
   "id": "3030b791",
   "metadata": {},
   "outputs": [
    {
     "data": {
      "text/plain": [
       "faktor1\n",
       "Erkek Kadin \n",
       "    2     3 "
      ]
     },
     "metadata": {},
     "output_type": "display_data"
    }
   ],
   "source": [
    "table(faktor1) #faktorun sayısını level seviyelerini sayısını alırız"
   ]
  },
  {
   "cell_type": "code",
   "execution_count": 36,
   "id": "dd315dcb",
   "metadata": {},
   "outputs": [
    {
     "data": {
      "text/html": [
       "<ol class=list-inline>\n",
       "\t<li>Orta</li>\n",
       "\t<li>Yuksek</li>\n",
       "\t<li>Orta</li>\n",
       "\t<li>Dusuk</li>\n",
       "\t<li>Yuksek</li>\n",
       "\t<li>Dusuk</li>\n",
       "</ol>\n",
       "\n",
       "<details>\n",
       "\t<summary style=display:list-item;cursor:pointer>\n",
       "\t\t<strong>Levels</strong>:\n",
       "\t</summary>\n",
       "\t<ol class=list-inline>\n",
       "\t\t<li>'Dusuk'</li>\n",
       "\t\t<li>'Orta'</li>\n",
       "\t\t<li>'Yuksek'</li>\n",
       "\t</ol>\n",
       "</details>"
      ],
      "text/latex": [
       "\\begin{enumerate*}\n",
       "\\item Orta\n",
       "\\item Yuksek\n",
       "\\item Orta\n",
       "\\item Dusuk\n",
       "\\item Yuksek\n",
       "\\item Dusuk\n",
       "\\end{enumerate*}\n",
       "\n",
       "\\emph{Levels}: \\begin{enumerate*}\n",
       "\\item 'Dusuk'\n",
       "\\item 'Orta'\n",
       "\\item 'Yuksek'\n",
       "\\end{enumerate*}\n"
      ],
      "text/markdown": [
       "1. Orta\n",
       "2. Yuksek\n",
       "3. Orta\n",
       "4. Dusuk\n",
       "5. Yuksek\n",
       "6. Dusuk\n",
       "\n",
       "\n",
       "\n",
       "**Levels**: 1. 'Dusuk'\n",
       "2. 'Orta'\n",
       "3. 'Yuksek'\n",
       "\n",
       "\n"
      ],
      "text/plain": [
       "[1] Orta   Yuksek Orta   Dusuk  Yuksek Dusuk \n",
       "Levels: Dusuk Orta Yuksek"
      ]
     },
     "metadata": {},
     "output_type": "display_data"
    }
   ],
   "source": [
    "faktor2=factor(c(\"Orta\",\"Yuksek\",\"Orta\",\"Dusuk\",\"Yuksek\",\"Dusuk\"))\n",
    "faktor2"
   ]
  },
  {
   "cell_type": "code",
   "execution_count": 37,
   "id": "4877b0f1",
   "metadata": {},
   "outputs": [
    {
     "data": {
      "text/plain": [
       "faktor2\n",
       " Dusuk   Orta Yuksek \n",
       "     2      2      2 "
      ]
     },
     "metadata": {},
     "output_type": "display_data"
    }
   ],
   "source": [
    "table(faktor2)"
   ]
  },
  {
   "cell_type": "code",
   "execution_count": 38,
   "id": "1528fab1",
   "metadata": {},
   "outputs": [
    {
     "name": "stderr",
     "output_type": "stream",
     "text": [
      "Warning message in `[<-.factor`(`*tmp*`, 3, value = \"Cok Yuksek\"):\n",
      "\"invalid factor level, NA generated\""
     ]
    }
   ],
   "source": [
    "faktor2[3]=\"Cok Yuksek\" #faktor2'nin 3 nolu indis elemani \"Cok Yuksek\" olarak guncellenmek isteniyor\n",
    "                        #ancak bu kod hata verir. Cunku faktor2'nin olusumunda \"cok yuksek\" verisi kullanilmamistir."
   ]
  },
  {
   "cell_type": "code",
   "execution_count": 40,
   "id": "967d6fe2",
   "metadata": {},
   "outputs": [
    {
     "data": {
      "text/html": [
       "<ol class=list-inline>\n",
       "\t<li>Orta</li>\n",
       "\t<li>Yuksek</li>\n",
       "\t<li>Yuksek</li>\n",
       "\t<li>Dusuk</li>\n",
       "\t<li>Yuksek</li>\n",
       "\t<li>Dusuk</li>\n",
       "</ol>\n",
       "\n",
       "<details>\n",
       "\t<summary style=display:list-item;cursor:pointer>\n",
       "\t\t<strong>Levels</strong>:\n",
       "\t</summary>\n",
       "\t<ol class=list-inline>\n",
       "\t\t<li>'Dusuk'</li>\n",
       "\t\t<li>'Orta'</li>\n",
       "\t\t<li>'Yuksek'</li>\n",
       "\t</ol>\n",
       "</details>"
      ],
      "text/latex": [
       "\\begin{enumerate*}\n",
       "\\item Orta\n",
       "\\item Yuksek\n",
       "\\item Yuksek\n",
       "\\item Dusuk\n",
       "\\item Yuksek\n",
       "\\item Dusuk\n",
       "\\end{enumerate*}\n",
       "\n",
       "\\emph{Levels}: \\begin{enumerate*}\n",
       "\\item 'Dusuk'\n",
       "\\item 'Orta'\n",
       "\\item 'Yuksek'\n",
       "\\end{enumerate*}\n"
      ],
      "text/markdown": [
       "1. Orta\n",
       "2. Yuksek\n",
       "3. Yuksek\n",
       "4. Dusuk\n",
       "5. Yuksek\n",
       "6. Dusuk\n",
       "\n",
       "\n",
       "\n",
       "**Levels**: 1. 'Dusuk'\n",
       "2. 'Orta'\n",
       "3. 'Yuksek'\n",
       "\n",
       "\n"
      ],
      "text/plain": [
       "[1] Orta   Yuksek Yuksek Dusuk  Yuksek Dusuk \n",
       "Levels: Dusuk Orta Yuksek"
      ]
     },
     "metadata": {},
     "output_type": "display_data"
    }
   ],
   "source": [
    "faktor2[3]=\"Yuksek\" #3 nolu indis elemani \"Yuksek\" olarak güncellenir.\n",
    "faktor2"
   ]
  },
  {
   "cell_type": "markdown",
   "id": "f116dc65",
   "metadata": {},
   "source": [
    "# Faktor Elemanlarina Erisim"
   ]
  },
  {
   "cell_type": "code",
   "execution_count": 41,
   "id": "3ee111a3",
   "metadata": {},
   "outputs": [
    {
     "data": {
      "text/html": [
       "<ol class=list-inline>\n",
       "\t<li>Orta</li>\n",
       "\t<li>Yuksek</li>\n",
       "\t<li>Dusuk</li>\n",
       "\t<li>Yuksek</li>\n",
       "\t<li>Dusuk</li>\n",
       "</ol>\n",
       "\n",
       "<details>\n",
       "\t<summary style=display:list-item;cursor:pointer>\n",
       "\t\t<strong>Levels</strong>:\n",
       "\t</summary>\n",
       "\t<ol class=list-inline>\n",
       "\t\t<li>'Dusuk'</li>\n",
       "\t\t<li>'Orta'</li>\n",
       "\t\t<li>'Yuksek'</li>\n",
       "\t</ol>\n",
       "</details>"
      ],
      "text/latex": [
       "\\begin{enumerate*}\n",
       "\\item Orta\n",
       "\\item Yuksek\n",
       "\\item Dusuk\n",
       "\\item Yuksek\n",
       "\\item Dusuk\n",
       "\\end{enumerate*}\n",
       "\n",
       "\\emph{Levels}: \\begin{enumerate*}\n",
       "\\item 'Dusuk'\n",
       "\\item 'Orta'\n",
       "\\item 'Yuksek'\n",
       "\\end{enumerate*}\n"
      ],
      "text/markdown": [
       "1. Orta\n",
       "2. Yuksek\n",
       "3. Dusuk\n",
       "4. Yuksek\n",
       "5. Dusuk\n",
       "\n",
       "\n",
       "\n",
       "**Levels**: 1. 'Dusuk'\n",
       "2. 'Orta'\n",
       "3. 'Yuksek'\n",
       "\n",
       "\n"
      ],
      "text/plain": [
       "[1] Orta   Yuksek Dusuk  Yuksek Dusuk \n",
       "Levels: Dusuk Orta Yuksek"
      ]
     },
     "metadata": {},
     "output_type": "display_data"
    }
   ],
   "source": [
    "faktor2[-2]  #2 nolu indis elemani siliniyor"
   ]
  },
  {
   "cell_type": "code",
   "execution_count": 42,
   "id": "1f7182f9",
   "metadata": {},
   "outputs": [
    {
     "data": {
      "text/html": [
       "<ol class=list-inline>\n",
       "\t<li>Orta</li>\n",
       "\t<li>Yuksek</li>\n",
       "\t<li>Yuksek</li>\n",
       "\t<li>Dusuk</li>\n",
       "\t<li>Yuksek</li>\n",
       "\t<li>Dusuk</li>\n",
       "</ol>\n",
       "\n",
       "<details>\n",
       "\t<summary style=display:list-item;cursor:pointer>\n",
       "\t\t<strong>Levels</strong>:\n",
       "\t</summary>\n",
       "\t<ol class=list-inline>\n",
       "\t\t<li>'Dusuk'</li>\n",
       "\t\t<li>'Orta'</li>\n",
       "\t\t<li>'Yuksek'</li>\n",
       "\t</ol>\n",
       "</details>"
      ],
      "text/latex": [
       "\\begin{enumerate*}\n",
       "\\item Orta\n",
       "\\item Yuksek\n",
       "\\item Yuksek\n",
       "\\item Dusuk\n",
       "\\item Yuksek\n",
       "\\item Dusuk\n",
       "\\end{enumerate*}\n",
       "\n",
       "\\emph{Levels}: \\begin{enumerate*}\n",
       "\\item 'Dusuk'\n",
       "\\item 'Orta'\n",
       "\\item 'Yuksek'\n",
       "\\end{enumerate*}\n"
      ],
      "text/markdown": [
       "1. Orta\n",
       "2. Yuksek\n",
       "3. Yuksek\n",
       "4. Dusuk\n",
       "5. Yuksek\n",
       "6. Dusuk\n",
       "\n",
       "\n",
       "\n",
       "**Levels**: 1. 'Dusuk'\n",
       "2. 'Orta'\n",
       "3. 'Yuksek'\n",
       "\n",
       "\n"
      ],
      "text/plain": [
       "[1] Orta   Yuksek Yuksek Dusuk  Yuksek Dusuk \n",
       "Levels: Dusuk Orta Yuksek"
      ]
     },
     "metadata": {},
     "output_type": "display_data"
    }
   ],
   "source": [
    "faktor2"
   ]
  },
  {
   "cell_type": "code",
   "execution_count": 43,
   "id": "2dff85dd",
   "metadata": {},
   "outputs": [
    {
     "data": {
      "text/html": [
       "<ol class=list-inline>\n",
       "\t<li>Orta</li>\n",
       "\t<li>Yuksek</li>\n",
       "\t<li>Dusuk</li>\n",
       "\t<li>Yuksek</li>\n",
       "\t<li>Dusuk</li>\n",
       "</ol>\n",
       "\n",
       "<details>\n",
       "\t<summary style=display:list-item;cursor:pointer>\n",
       "\t\t<strong>Levels</strong>:\n",
       "\t</summary>\n",
       "\t<ol class=list-inline>\n",
       "\t\t<li>'Dusuk'</li>\n",
       "\t\t<li>'Orta'</li>\n",
       "\t\t<li>'Yuksek'</li>\n",
       "\t</ol>\n",
       "</details>"
      ],
      "text/latex": [
       "\\begin{enumerate*}\n",
       "\\item Orta\n",
       "\\item Yuksek\n",
       "\\item Dusuk\n",
       "\\item Yuksek\n",
       "\\item Dusuk\n",
       "\\end{enumerate*}\n",
       "\n",
       "\\emph{Levels}: \\begin{enumerate*}\n",
       "\\item 'Dusuk'\n",
       "\\item 'Orta'\n",
       "\\item 'Yuksek'\n",
       "\\end{enumerate*}\n"
      ],
      "text/markdown": [
       "1. Orta\n",
       "2. Yuksek\n",
       "3. Dusuk\n",
       "4. Yuksek\n",
       "5. Dusuk\n",
       "\n",
       "\n",
       "\n",
       "**Levels**: 1. 'Dusuk'\n",
       "2. 'Orta'\n",
       "3. 'Yuksek'\n",
       "\n",
       "\n"
      ],
      "text/plain": [
       "[1] Orta   Yuksek Dusuk  Yuksek Dusuk \n",
       "Levels: Dusuk Orta Yuksek"
      ]
     },
     "metadata": {},
     "output_type": "display_data"
    }
   ],
   "source": [
    "faktor3=faktor2[-2] #2 nolu indis elemani siliniyor ve degisikligin kalici olması icin\n",
    "                    #faktor degiskenine aktariliyor\n",
    "faktor3"
   ]
  },
  {
   "cell_type": "code",
   "execution_count": null,
   "id": "baefa825",
   "metadata": {},
   "outputs": [],
   "source": []
  }
 ],
 "metadata": {
  "kernelspec": {
   "display_name": "R",
   "language": "R",
   "name": "ir"
  },
  "language_info": {
   "codemirror_mode": "r",
   "file_extension": ".r",
   "mimetype": "text/x-r-source",
   "name": "R",
   "pygments_lexer": "r",
   "version": "3.6.1"
  }
 },
 "nbformat": 4,
 "nbformat_minor": 5
}
