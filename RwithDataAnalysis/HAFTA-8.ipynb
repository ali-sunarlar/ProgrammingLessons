{
 "cells": [
  {
   "cell_type": "code",
   "execution_count": 1,
   "id": "05e06358",
   "metadata": {},
   "outputs": [
    {
     "name": "stdout",
     "output_type": "stream",
     "text": [
      "[1] \"Sonuc dogru\"\n"
     ]
    }
   ],
   "source": [
    "t=45\n",
    "if(t>40)\n",
    "    print(\"Sonuc dogru\")"
   ]
  },
  {
   "cell_type": "code",
   "execution_count": 2,
   "id": "6b8bc8fe",
   "metadata": {},
   "outputs": [
    {
     "name": "stdout",
     "output_type": "stream",
     "text": [
      "Sonuc 20"
     ]
    }
   ],
   "source": [
    "m=50\n",
    "n=70\n",
    "if(m>20)\n",
    "    fark=n-m\n",
    "cat(\"Sonuc\",fark)"
   ]
  },
  {
   "cell_type": "code",
   "execution_count": 4,
   "id": "660e406f",
   "metadata": {},
   "outputs": [
    {
     "name": "stdout",
     "output_type": "stream",
     "text": [
      "Sonuc 20[1] \"Sart Saglanamadi\"\n"
     ]
    }
   ],
   "source": [
    "z=5\n",
    "P=70\n",
    "if(z>20)\n",
    "    fark=p-z\n",
    "cat(\"Sonuc\",fark)\n",
    "print(\"Sart Saglanamadi\")"
   ]
  },
  {
   "cell_type": "code",
   "execution_count": 10,
   "id": "e9e836eb",
   "metadata": {},
   "outputs": [
    {
     "name": "stdout",
     "output_type": "stream",
     "text": [
      "[1] \"DEGER\"\n"
     ]
    }
   ],
   "source": [
    "notu=60\n",
    "if (notu>50) { \n",
    "    print (\"DEGER\") \n",
    "}else{\n",
    "    print (\"KALIR\") } "
   ]
  },
  {
   "cell_type": "code",
   "execution_count": 11,
   "id": "fcfba6f1",
   "metadata": {},
   "outputs": [
    {
     "name": "stdout",
     "output_type": "stream",
     "text": [
      "[1] \"Girilen Sayi Negatiftir\"\n"
     ]
    }
   ],
   "source": [
    "sayi=-15\n",
    "if(sayi>0){\n",
    "    print(\"Girilen Sayi Pozitiftir\")\n",
    "}else{\n",
    "    print(\"Girilen Sayi Negatiftir\")\n",
    "}"
   ]
  },
  {
   "cell_type": "code",
   "execution_count": 12,
   "id": "5d0db745",
   "metadata": {},
   "outputs": [
    {
     "name": "stdout",
     "output_type": "stream",
     "text": [
      "[1] \"Sayi pozitiftir\"\n"
     ]
    }
   ],
   "source": [
    "x=5\n",
    "if(x<0){\n",
    "    print(\"Sayi negatiftir\")\n",
    "}else if(x>0){\n",
    "    print(\"Sayi pozitiftir\")\n",
    "}else{\n",
    "    print(\"Sayi sifirdir\")\n",
    "}"
   ]
  },
  {
   "cell_type": "code",
   "execution_count": 13,
   "id": "a9ce23d7",
   "metadata": {},
   "outputs": [
    {
     "name": "stdout",
     "output_type": "stream",
     "text": [
      "[1] 1\n",
      "[1] 2\n",
      "[1] 3\n",
      "[1] 4\n",
      "[1] 5\n"
     ]
    }
   ],
   "source": [
    "for(i in 1:5) #1 den 5 e kadar rakamlari ekrana yazdirir\n",
    "    print(i)"
   ]
  },
  {
   "cell_type": "code",
   "execution_count": 14,
   "id": "b0e0f575",
   "metadata": {},
   "outputs": [
    {
     "name": "stdout",
     "output_type": "stream",
     "text": [
      "[1] 4\n",
      "[1] 5\n",
      "[1] 6\n",
      "[1] 7\n",
      "[1] 8\n",
      "[1] 9\n",
      "[1] 10\n",
      "[1] 11\n",
      "[1] 12\n"
     ]
    }
   ],
   "source": [
    "for (i in 4:12) #4 den 12 ye kadar rakamlari ekrana yazdirir\n",
    "    print(i)"
   ]
  },
  {
   "cell_type": "code",
   "execution_count": 16,
   "id": "8ec37ce0",
   "metadata": {},
   "outputs": [
    {
     "name": "stdout",
     "output_type": "stream",
     "text": [
      "[1] 140\n"
     ]
    }
   ],
   "source": [
    "h=c(5,10,15,20,25,30,35) #vektor olusturuluyor\n",
    "toplam=0                 #toplama islemlerinde baslangicta toplam degeri sifira esitlenmesi gerekir.\n",
    "for (i in 1:length(h)){   #length() fonksiyonu ile h vektorunun uzunlugu hesaplaniyor\n",
    "    toplam=toplam+h[i]\n",
    "}\n",
    "print(toplam) #vektor elemanlarinin toplami ekrana yazdiriliyor"
   ]
  },
  {
   "cell_type": "code",
   "execution_count": 19,
   "id": "e78a09be",
   "metadata": {},
   "outputs": [
    {
     "name": "stdout",
     "output_type": "stream",
     "text": [
      "[1] 2\n",
      "[1] 5\n"
     ]
    }
   ],
   "source": [
    "x=c(2,5,8,11,14,23,45,88)\n",
    "i=1                      #while yapisinda donguyu kontrol etmek icin indis degeri baslangicta 1'e esitlenir\n",
    "while(x[i]<10)           #x vektorunun elemanlarinin indis degeri ile kontrol ediliyor\n",
    "                         #10'dan kucuk olanlar ekrana yazdiriliyor\n",
    "{\n",
    "print(x[i])\n",
    "i=i+i\n",
    "}"
   ]
  },
  {
   "cell_type": "code",
   "execution_count": 1,
   "id": "de8fbfe2",
   "metadata": {},
   "outputs": [
    {
     "name": "stdout",
     "output_type": "stream",
     "text": [
      "[1] 55\n"
     ]
    }
   ],
   "source": [
    "n=10\n",
    "toplam=0\n",
    "i=1\n",
    "while(i<=n)\n",
    "{\n",
    "    toplam=toplam+i\n",
    "    i=i+1\n",
    "}\n",
    "print(toplam)"
   ]
  },
  {
   "cell_type": "code",
   "execution_count": 2,
   "id": "989912ac",
   "metadata": {},
   "outputs": [
    {
     "name": "stdout",
     "output_type": "stream",
     "text": [
      "[1] 1\n",
      "[1] 2\n",
      "[1] 3\n",
      "[1] 4\n",
      "[1] 5\n",
      "[1] 6\n"
     ]
    }
   ],
   "source": [
    "for(i in 1:10)\n",
    "{\n",
    "if(i==7)\n",
    "break   #i=7 oldugunda donguden cikilir.\n",
    "print(i)\n",
    "}"
   ]
  },
  {
   "cell_type": "code",
   "execution_count": null,
   "id": "7f5ad1dd",
   "metadata": {},
   "outputs": [],
   "source": [
    "i=1\n",
    "n=10\n",
    "while (n!=i){ #n i'ye esit olmadigi surece dongu devam eder\n",
    "       #if(i==4) #i 4 oldugunda donguden cikar\n",
    "    #break\n",
    "    print(i)\n",
    "    i+i+1 \n",
    "} \n"
   ]
  },
  {
   "cell_type": "code",
   "execution_count": 1,
   "id": "396592aa",
   "metadata": {},
   "outputs": [
    {
     "name": "stdout",
     "output_type": "stream",
     "text": [
      "[1] 1\n",
      "[1] 2\n",
      "[1] 4\n",
      "[1] 5\n"
     ]
    }
   ],
   "source": [
    "x=1:5\n",
    "for(rakam in x){\n",
    "    if(rakam==3){\n",
    "        next #3 rakamini atla\n",
    "    }\n",
    "    print(rakam)\n",
    "}"
   ]
  },
  {
   "cell_type": "code",
   "execution_count": 2,
   "id": "310c74e1",
   "metadata": {},
   "outputs": [
    {
     "name": "stdout",
     "output_type": "stream",
     "text": [
      "[1] 6\n",
      "[1] 7\n",
      "[1] 8\n",
      "[1] 9\n",
      "[1] 10\n"
     ]
    }
   ],
   "source": [
    "for(i in 1:10){\n",
    "    if(i<=5){\n",
    "        next #ilk bes rakamini \n",
    "    }\n",
    "    print(i)\n",
    "}"
   ]
  },
  {
   "cell_type": "code",
   "execution_count": 5,
   "id": "b3519e6e",
   "metadata": {},
   "outputs": [
    {
     "name": "stdout",
     "output_type": "stream",
     "text": [
      "[1]  8  3 11 15 18\n"
     ]
    }
   ],
   "source": [
    "k=c(3,1,8,7,12)\n",
    "y=c(5,2,3,8,6)\n",
    "toplam=0\n",
    "for(i in 1:length(y)){\n",
    "    toplam[i]=k[i]+y[i] #her dongude indise karsilik gelen degerler toplanir\n",
    "}\n",
    "print(toplam)"
   ]
  },
  {
   "cell_type": "code",
   "execution_count": 6,
   "id": "6cbf7407",
   "metadata": {},
   "outputs": [
    {
     "name": "stdout",
     "output_type": "stream",
     "text": [
      "[1]  8  3 28 15 18\n"
     ]
    }
   ],
   "source": [
    "k1=c(3,1,15,7,12)\n",
    "y1=c(5,2,13,8,6)\n",
    "toplam1=0\n",
    "toplam1=k1+y1 #vektor elemanlari toplanir\n",
    "print(toplam1)"
   ]
  },
  {
   "cell_type": "code",
   "execution_count": 7,
   "id": "8d8f3a6d",
   "metadata": {},
   "outputs": [
    {
     "data": {
      "text/html": [
       "<table>\n",
       "<thead><tr><th scope=col>adi</th><th scope=col>cinsiyet</th><th scope=col>boy</th><th scope=col>kilo</th></tr></thead>\n",
       "<tbody>\n",
       "\t<tr><td>Hasan </td><td>E     </td><td>176   </td><td>75    </td></tr>\n",
       "\t<tr><td>Hulya </td><td>K     </td><td>160   </td><td>55    </td></tr>\n",
       "\t<tr><td>Ayse  </td><td>K     </td><td>165   </td><td>58    </td></tr>\n",
       "\t<tr><td>Mehmet</td><td>E     </td><td>180   </td><td>80    </td></tr>\n",
       "\t<tr><td>Zehra </td><td>K     </td><td>179   </td><td>61    </td></tr>\n",
       "</tbody>\n",
       "</table>\n"
      ],
      "text/latex": [
       "\\begin{tabular}{r|llll}\n",
       " adi & cinsiyet & boy & kilo\\\\\n",
       "\\hline\n",
       "\t Hasan  & E      & 176    & 75    \\\\\n",
       "\t Hulya  & K      & 160    & 55    \\\\\n",
       "\t Ayse   & K      & 165    & 58    \\\\\n",
       "\t Mehmet & E      & 180    & 80    \\\\\n",
       "\t Zehra  & K      & 179    & 61    \\\\\n",
       "\\end{tabular}\n"
      ],
      "text/markdown": [
       "\n",
       "| adi | cinsiyet | boy | kilo |\n",
       "|---|---|---|---|\n",
       "| Hasan  | E      | 176    | 75     |\n",
       "| Hulya  | K      | 160    | 55     |\n",
       "| Ayse   | K      | 165    | 58     |\n",
       "| Mehmet | E      | 180    | 80     |\n",
       "| Zehra  | K      | 179    | 61     |\n",
       "\n"
      ],
      "text/plain": [
       "  adi    cinsiyet boy kilo\n",
       "1 Hasan  E        176 75  \n",
       "2 Hulya  K        160 55  \n",
       "3 Ayse   K        165 58  \n",
       "4 Mehmet E        180 80  \n",
       "5 Zehra  K        179 61  "
      ]
     },
     "metadata": {},
     "output_type": "display_data"
    }
   ],
   "source": [
    "adi=c(\"Hasan\",\"Hulya\",\"Ayse\",\"Mehmet\",\"Zehra\")\n",
    "cinsiyet=c(\"E\",\"K\",\"K\",\"E\",\"K\")\n",
    "boy=c(176,160,165,180,179)\n",
    "kilo=c(75,55,58,80,61)\n",
    "personel=data.frame(adi,cinsiyet,boy,kilo) #vektorler veri cercevesine donusturuluyor\n",
    "personel"
   ]
  },
  {
   "cell_type": "code",
   "execution_count": 8,
   "id": "0bfaf9ce",
   "metadata": {},
   "outputs": [
    {
     "name": "stdout",
     "output_type": "stream",
     "text": [
      "kilo \n",
      "65.8 \n"
     ]
    }
   ],
   "source": [
    "kilo_ortalama=apply(personel[4],2,mean) #Cinsiyet ayrimi olmadan kilo ortalamasi hesaplaniyor\n",
    "print(kilo_ortalama)"
   ]
  },
  {
   "cell_type": "code",
   "execution_count": 9,
   "id": "837cbae0",
   "metadata": {},
   "outputs": [
    {
     "name": "stdout",
     "output_type": "stream",
     "text": [
      "   E    K \n",
      "77.5 58.0 \n"
     ]
    }
   ],
   "source": [
    "cinsiyet_kilo_ortalama=tapply(as.vector(personel[,4]),factor(personel[,2]),mean)\n",
    "print(cinsiyet_kilo_ortalama)"
   ]
  },
  {
   "cell_type": "code",
   "execution_count": 10,
   "id": "55fd71c3",
   "metadata": {},
   "outputs": [
    {
     "data": {
      "text/html": [
       "<table>\n",
       "<thead><tr><th scope=col>adi</th><th scope=col>cinsiyet</th><th scope=col>boy</th><th scope=col>kilo</th></tr></thead>\n",
       "<tbody>\n",
       "\t<tr><td>Hasan </td><td>E     </td><td>176   </td><td>75    </td></tr>\n",
       "\t<tr><td>Hulya </td><td>K     </td><td>160   </td><td>55    </td></tr>\n",
       "\t<tr><td>Ayse  </td><td>K     </td><td>165   </td><td>58    </td></tr>\n",
       "\t<tr><td>Mehmet</td><td>E     </td><td>180   </td><td>80    </td></tr>\n",
       "\t<tr><td>Zehra </td><td>K     </td><td>179   </td><td>61    </td></tr>\n",
       "</tbody>\n",
       "</table>\n"
      ],
      "text/latex": [
       "\\begin{tabular}{r|llll}\n",
       " adi & cinsiyet & boy & kilo\\\\\n",
       "\\hline\n",
       "\t Hasan  & E      & 176    & 75    \\\\\n",
       "\t Hulya  & K      & 160    & 55    \\\\\n",
       "\t Ayse   & K      & 165    & 58    \\\\\n",
       "\t Mehmet & E      & 180    & 80    \\\\\n",
       "\t Zehra  & K      & 179    & 61    \\\\\n",
       "\\end{tabular}\n"
      ],
      "text/markdown": [
       "\n",
       "| adi | cinsiyet | boy | kilo |\n",
       "|---|---|---|---|\n",
       "| Hasan  | E      | 176    | 75     |\n",
       "| Hulya  | K      | 160    | 55     |\n",
       "| Ayse   | K      | 165    | 58     |\n",
       "| Mehmet | E      | 180    | 80     |\n",
       "| Zehra  | K      | 179    | 61     |\n",
       "\n"
      ],
      "text/plain": [
       "  adi    cinsiyet boy kilo\n",
       "1 Hasan  E        176 75  \n",
       "2 Hulya  K        160 55  \n",
       "3 Ayse   K        165 58  \n",
       "4 Mehmet E        180 80  \n",
       "5 Zehra  K        179 61  "
      ]
     },
     "metadata": {},
     "output_type": "display_data"
    }
   ],
   "source": [
    "personel"
   ]
  },
  {
   "cell_type": "code",
   "execution_count": 11,
   "id": "35501b01",
   "metadata": {},
   "outputs": [
    {
     "data": {
      "text/html": [
       "<dl>\n",
       "\t<dt>$boy</dt>\n",
       "\t\t<dd><ol class=list-inline>\n",
       "\t<li>176</li>\n",
       "\t<li>160</li>\n",
       "\t<li>165</li>\n",
       "\t<li>180</li>\n",
       "\t<li>179</li>\n",
       "</ol>\n",
       "</dd>\n",
       "\t<dt>$kilo</dt>\n",
       "\t\t<dd><ol class=list-inline>\n",
       "\t<li>75</li>\n",
       "\t<li>55</li>\n",
       "\t<li>58</li>\n",
       "\t<li>80</li>\n",
       "\t<li>61</li>\n",
       "</ol>\n",
       "</dd>\n",
       "</dl>\n"
      ],
      "text/latex": [
       "\\begin{description}\n",
       "\\item[\\$boy] \\begin{enumerate*}\n",
       "\\item 176\n",
       "\\item 160\n",
       "\\item 165\n",
       "\\item 180\n",
       "\\item 179\n",
       "\\end{enumerate*}\n",
       "\n",
       "\\item[\\$kilo] \\begin{enumerate*}\n",
       "\\item 75\n",
       "\\item 55\n",
       "\\item 58\n",
       "\\item 80\n",
       "\\item 61\n",
       "\\end{enumerate*}\n",
       "\n",
       "\\end{description}\n"
      ],
      "text/markdown": [
       "$boy\n",
       ":   1. 176\n",
       "2. 160\n",
       "3. 165\n",
       "4. 180\n",
       "5. 179\n",
       "\n",
       "\n",
       "\n",
       "$kilo\n",
       ":   1. 75\n",
       "2. 55\n",
       "3. 58\n",
       "4. 80\n",
       "5. 61\n",
       "\n",
       "\n",
       "\n",
       "\n",
       "\n"
      ],
      "text/plain": [
       "$boy\n",
       "[1] 176 160 165 180 179\n",
       "\n",
       "$kilo\n",
       "[1] 75 55 58 80 61\n"
      ]
     },
     "metadata": {},
     "output_type": "display_data"
    }
   ],
   "source": [
    "liste1=as.list(personel[,3:4]) #cercevenin 3. ve 4. sutunu liste olarak aliniyor\n",
    "liste1"
   ]
  },
  {
   "cell_type": "code",
   "execution_count": 12,
   "id": "9940e320",
   "metadata": {},
   "outputs": [
    {
     "data": {
      "text/html": [
       "<dl>\n",
       "\t<dt>$boy</dt>\n",
       "\t\t<dd>172</dd>\n",
       "\t<dt>$kilo</dt>\n",
       "\t\t<dd>65.8</dd>\n",
       "</dl>\n"
      ],
      "text/latex": [
       "\\begin{description}\n",
       "\\item[\\$boy] 172\n",
       "\\item[\\$kilo] 65.8\n",
       "\\end{description}\n"
      ],
      "text/markdown": [
       "$boy\n",
       ":   172\n",
       "$kilo\n",
       ":   65.8\n",
       "\n",
       "\n"
      ],
      "text/plain": [
       "$boy\n",
       "[1] 172\n",
       "\n",
       "$kilo\n",
       "[1] 65.8\n"
      ]
     },
     "metadata": {},
     "output_type": "display_data"
    }
   ],
   "source": [
    "lapply(liste1,mean)"
   ]
  },
  {
   "cell_type": "code",
   "execution_count": 15,
   "id": "489959d0",
   "metadata": {},
   "outputs": [
    {
     "data": {
      "text/html": [
       "<dl class=dl-horizontal>\n",
       "\t<dt>boy</dt>\n",
       "\t\t<dd>172</dd>\n",
       "\t<dt>kilo</dt>\n",
       "\t\t<dd>65.8</dd>\n",
       "</dl>\n"
      ],
      "text/latex": [
       "\\begin{description*}\n",
       "\\item[boy] 172\n",
       "\\item[kilo] 65.8\n",
       "\\end{description*}\n"
      ],
      "text/markdown": [
       "boy\n",
       ":   172kilo\n",
       ":   65.8\n",
       "\n"
      ],
      "text/plain": [
       "  boy  kilo \n",
       "172.0  65.8 "
      ]
     },
     "metadata": {},
     "output_type": "display_data"
    },
    {
     "name": "stdout",
     "output_type": "stream",
     "text": [
      "  boy  kilo \n",
      "172.0  65.8 \n"
     ]
    }
   ],
   "source": [
    "sapply(liste1,mean)\n",
    "print(sapply(liste1,mean))"
   ]
  },
  {
   "cell_type": "code",
   "execution_count": null,
   "id": "6657896f",
   "metadata": {},
   "outputs": [],
   "source": []
  }
 ],
 "metadata": {
  "kernelspec": {
   "display_name": "R",
   "language": "R",
   "name": "ir"
  },
  "language_info": {
   "codemirror_mode": "r",
   "file_extension": ".r",
   "mimetype": "text/x-r-source",
   "name": "R",
   "pygments_lexer": "r",
   "version": "3.6.1"
  }
 },
 "nbformat": 4,
 "nbformat_minor": 5
}
