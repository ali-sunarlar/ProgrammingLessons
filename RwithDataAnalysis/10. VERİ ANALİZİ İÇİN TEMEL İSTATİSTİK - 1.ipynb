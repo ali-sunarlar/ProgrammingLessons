{
 "cells": [
  {
   "cell_type": "code",
   "execution_count": 2,
   "id": "25329d0c",
   "metadata": {},
   "outputs": [
    {
     "data": {
      "text/html": [
       "<ol class=list-inline>\n",
       "\t<li>25</li>\n",
       "\t<li>4</li>\n",
       "\t<li>7</li>\n",
       "\t<li>1</li>\n",
       "\t<li>2</li>\n",
       "\t<li>23</li>\n",
       "\t<li>11</li>\n",
       "\t<li>14</li>\n",
       "\t<li>18</li>\n",
       "\t<li>19</li>\n",
       "\t<li>1</li>\n",
       "\t<li>21</li>\n",
       "\t<li>21</li>\n",
       "\t<li>10</li>\n",
       "\t<li>22</li>\n",
       "\t<li>14</li>\n",
       "\t<li>10</li>\n",
       "\t<li>7</li>\n",
       "\t<li>9</li>\n",
       "\t<li>15</li>\n",
       "\t<li>21</li>\n",
       "\t<li>5</li>\n",
       "\t<li>9</li>\n",
       "\t<li>25</li>\n",
       "\t<li>14</li>\n",
       "\t<li>5</li>\n",
       "\t<li>5</li>\n",
       "\t<li>2</li>\n",
       "\t<li>10</li>\n",
       "\t<li>25</li>\n",
       "</ol>\n"
      ],
      "text/latex": [
       "\\begin{enumerate*}\n",
       "\\item 25\n",
       "\\item 4\n",
       "\\item 7\n",
       "\\item 1\n",
       "\\item 2\n",
       "\\item 23\n",
       "\\item 11\n",
       "\\item 14\n",
       "\\item 18\n",
       "\\item 19\n",
       "\\item 1\n",
       "\\item 21\n",
       "\\item 21\n",
       "\\item 10\n",
       "\\item 22\n",
       "\\item 14\n",
       "\\item 10\n",
       "\\item 7\n",
       "\\item 9\n",
       "\\item 15\n",
       "\\item 21\n",
       "\\item 5\n",
       "\\item 9\n",
       "\\item 25\n",
       "\\item 14\n",
       "\\item 5\n",
       "\\item 5\n",
       "\\item 2\n",
       "\\item 10\n",
       "\\item 25\n",
       "\\end{enumerate*}\n"
      ],
      "text/markdown": [
       "1. 25\n",
       "2. 4\n",
       "3. 7\n",
       "4. 1\n",
       "5. 2\n",
       "6. 23\n",
       "7. 11\n",
       "8. 14\n",
       "9. 18\n",
       "10. 19\n",
       "11. 1\n",
       "12. 21\n",
       "13. 21\n",
       "14. 10\n",
       "15. 22\n",
       "16. 14\n",
       "17. 10\n",
       "18. 7\n",
       "19. 9\n",
       "20. 15\n",
       "21. 21\n",
       "22. 5\n",
       "23. 9\n",
       "24. 25\n",
       "25. 14\n",
       "26. 5\n",
       "27. 5\n",
       "28. 2\n",
       "29. 10\n",
       "30. 25\n",
       "\n",
       "\n"
      ],
      "text/plain": [
       " [1] 25  4  7  1  2 23 11 14 18 19  1 21 21 10 22 14 10  7  9 15 21  5  9 25 14\n",
       "[26]  5  5  2 10 25"
      ]
     },
     "metadata": {},
     "output_type": "display_data"
    }
   ],
   "source": [
    "set.seed(1) #Seed() her çalıştırılışta aynı rasgele sayıları üretmek için kullanılan fonksiyon \n",
    "veri=sample.int (25, 30, replace = TRUE) #1'den 25'e kadar rasgele 30 adet tamsayı sayı üzetir. \n",
    "veri "
   ]
  },
  {
   "cell_type": "code",
   "execution_count": 3,
   "id": "1c7e5208",
   "metadata": {},
   "outputs": [
    {
     "name": "stdout",
     "output_type": "stream",
     "text": [
      "[1] 12.5\n"
     ]
    }
   ],
   "source": [
    "#ortalamayı hesaplamak için mean() fonksiyonu kullanılır. \n",
    "ortalama = mean (veri) \n",
    "print (ortalama) "
   ]
  },
  {
   "cell_type": "code",
   "execution_count": 4,
   "id": "523c42d9",
   "metadata": {},
   "outputs": [
    {
     "name": "stdout",
     "output_type": "stream",
     "text": [
      "[1] 10.5\n"
     ]
    }
   ],
   "source": [
    "#Medyanı hesaplamak için median() fonksiyonu kullanılır. \n",
    "medyan = median (veri) \n",
    "print (medyan) "
   ]
  },
  {
   "cell_type": "code",
   "execution_count": 10,
   "id": "fc2c951b",
   "metadata": {},
   "outputs": [
    {
     "name": "stdout",
     "output_type": "stream",
     "text": [
      "[1] 25\n"
     ]
    }
   ],
   "source": [
    "#Mod'u hesaplamak için R'da bir kaç yöntem vardır. \n",
    "#Bu yöntemlerden en iyi sonuç vereni fonksiyon tanımlamasıdır. \n",
    "# Fonksiyon Oluşturuluyor. \n",
    "mod_bul <- function(v) { \n",
    "    uniqv <- unique (v) \n",
    "    uniqv [which.max (tabulate (match (v, uniqv)))] \n",
    "    } \n",
    "# Yukarıdaki fonksiyon ile elimizdeki verinin modunu hesaplama \n",
    "sonuc <-mod_bul (veri) \n",
    "print (sonuc) "
   ]
  },
  {
   "cell_type": "code",
   "execution_count": 11,
   "id": "dd923354",
   "metadata": {},
   "outputs": [
    {
     "name": "stdout",
     "output_type": "stream",
     "text": [
      "[1] 7.886042\n"
     ]
    }
   ],
   "source": [
    "#Varyans ve Standart Sapma Hesaplaniyor\n",
    "\n",
    "#Verinin varyansı hesaplanırken var() fonksiyonu kullanılır \n",
    "varyans = var (veri)\n",
    "\n",
    "#Verinin standart sapması varyansın karekékine eşittir \n",
    "standartsapma = sqrt (var (veri))\n",
    "\n",
    "print (standartsapma) "
   ]
  },
  {
   "cell_type": "code",
   "execution_count": 14,
   "id": "ee22024d",
   "metadata": {},
   "outputs": [
    {
     "data": {
      "image/png": "[encoded data removed]",
      "text/plain": [
       "Plot with title \"Verinin Histogram Grafigi\""
      ]
     },
     "metadata": {},
     "output_type": "display_data"
    }
   ],
   "source": [
    "#Verinin Histoçramını Çirdirmek\n",
    "hist (veri, main=\"Verinin Histogram Grafiği\", xlab=\"Veri\", ylab=\"Siklik\", col=\"lightgreen\", axes=TRUE)"
   ]
  },
  {
   "cell_type": "code",
   "execution_count": null,
   "id": "86bab4a4",
   "metadata": {},
   "outputs": [],
   "source": []
  }
 ],
 "metadata": {
  "kernelspec": {
   "display_name": "R",
   "language": "R",
   "name": "ir"
  },
  "language_info": {
   "codemirror_mode": "r",
   "file_extension": ".r",
   "mimetype": "text/x-r-source",
   "name": "R",
   "pygments_lexer": "r",
   "version": "3.6.1"
  }
 },
 "nbformat": 4,
 "nbformat_minor": 5
}
