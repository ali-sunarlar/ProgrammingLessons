{
 "cells": [
  {
   "cell_type": "code",
   "execution_count": 1,
   "id": "92a2f823",
   "metadata": {},
   "outputs": [],
   "source": [
    "deneme=1"
   ]
  },
  {
   "cell_type": "code",
   "execution_count": 2,
   "id": "efb792da",
   "metadata": {},
   "outputs": [
    {
     "name": "stdout",
     "output_type": "stream",
     "text": [
      "[1] 1\n"
     ]
    }
   ],
   "source": [
    "print(deneme)"
   ]
  },
  {
   "cell_type": "code",
   "execution_count": null,
   "id": "8d640c37",
   "metadata": {},
   "outputs": [],
   "source": []
  }
 ],
 "metadata": {
  "kernelspec": {
   "display_name": "R",
   "language": "R",
   "name": "ir"
  },
  "language_info": {
   "codemirror_mode": "r",
   "file_extension": ".r",
   "mimetype": "text/x-r-source",
   "name": "R",
   "pygments_lexer": "r",
   "version": "3.6.1"
  }
 },
 "nbformat": 4,
 "nbformat_minor": 5
}
